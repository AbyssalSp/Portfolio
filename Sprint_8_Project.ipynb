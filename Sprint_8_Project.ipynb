{
 "cells": [
  {
   "cell_type": "markdown",
   "metadata": {},
   "source": [
    "# Исследование данных о продаж компьютерных игр\n",
    "## Описание задачи\n",
    "Вы работаете в интернет-магазине «Стримчик», который продаёт по всему миру компьютерные игры. Из открытых источников доступны исторические данные о продажах игр, оценки пользователей и экспертов, жанры и платформы (например, Xbox или PlayStation). Вам нужно выявить определяющие успешность игры закономерности. Это позволит сделать ставку на потенциально популярный продукт и спланировать рекламные кампании.\n",
    "\n",
    "Перед вами данные до 2016 года и вы планируете кампанию на 2017-й. Нужно отработать принцип работы с данными.\n",
    "В наборе данных попадается аббревиатура ESRB (Entertainment Software Rating Board) — это ассоциация, определяющая возрастной рейтинг компьютерных игр. ESRB оценивает игровой контент и присваивает ему подходящую возрастную категорию, например, «Для взрослых», «Для детей младшего возраста» или «Для подростков».\n",
    "\n",
    "**Цели исследования:**\n",
    "1. Определить для пользователя каждого региона (NA, EU, JP):\n",
    "    - Самые популярные платформы (топ-5);\n",
    "    - Самые популярные жанры (топ-5);\n",
    "    - Влияние рейтинга ESRB на продажи в отдельном регионе.\n",
    "2. Проверить гипотезы:\n",
    "    - Средние пользовательские рейтинги платформ Xbox One и PC одинаковые;\n",
    "    - Средние пользовательские рейтинги жанров Action и Sports разные.\n",
    "\n",
    "**План проведения исследовани:**\n",
    "\n",
    "- Изучение предоставленных данных;\n",
    "- Обработка пропусков, дубликатов и аномальных значений;\n",
    "- Расчет и добавление параметров;\n",
    "- Изучение и описание параметров (исключение выбросов);\n",
    "- Оценка факторов, влияющих продажу игр."
   ]
  },
  {
   "cell_type": "markdown",
   "metadata": {},
   "source": [
    "<div class=\"alert-success\">\n",
    "<b>Комментарий ревьюера ✔️</b>\n",
    "\n",
    "Отличное вступление! 👍\n",
    "\n",
    "Вся нужная информация есть.</div>"
   ]
  },
  {
   "cell_type": "markdown",
   "metadata": {},
   "source": [
    "## Изучение и обработка исходных данных\n",
    "### Открытие датасета и вывод общих сведений\n",
    "\n",
    "Для открытия датасета и дальнейшей работы с ним и визуализации данных загрузим требуемые библиотеки:"
   ]
  },
  {
   "cell_type": "code",
   "execution_count": 1,
   "metadata": {},
   "outputs": [],
   "source": [
    "import pandas as pd\n",
    "import matplotlib.pyplot as plt\n",
    "import numpy as np"
   ]
  },
  {
   "cell_type": "code",
   "execution_count": 2,
   "metadata": {},
   "outputs": [
    {
     "name": "stdout",
     "output_type": "stream",
     "text": [
      "<class 'pandas.core.frame.DataFrame'>\n",
      "RangeIndex: 16715 entries, 0 to 16714\n",
      "Data columns (total 11 columns):\n",
      " #   Column           Non-Null Count  Dtype  \n",
      "---  ------           --------------  -----  \n",
      " 0   Name             16713 non-null  object \n",
      " 1   Platform         16715 non-null  object \n",
      " 2   Year_of_Release  16446 non-null  float64\n",
      " 3   Genre            16713 non-null  object \n",
      " 4   NA_sales         16715 non-null  float64\n",
      " 5   EU_sales         16715 non-null  float64\n",
      " 6   JP_sales         16715 non-null  float64\n",
      " 7   Other_sales      16715 non-null  float64\n",
      " 8   Critic_Score     8137 non-null   float64\n",
      " 9   User_Score       10014 non-null  object \n",
      " 10  Rating           9949 non-null   object \n",
      "dtypes: float64(6), object(5)\n",
      "memory usage: 1.4+ MB\n"
     ]
    },
    {
     "data": {
      "text/plain": [
       "None"
      ]
     },
     "metadata": {},
     "output_type": "display_data"
    },
    {
     "data": {
      "text/html": [
       "<div>\n",
       "<style scoped>\n",
       "    .dataframe tbody tr th:only-of-type {\n",
       "        vertical-align: middle;\n",
       "    }\n",
       "\n",
       "    .dataframe tbody tr th {\n",
       "        vertical-align: top;\n",
       "    }\n",
       "\n",
       "    .dataframe thead th {\n",
       "        text-align: right;\n",
       "    }\n",
       "</style>\n",
       "<table border=\"1\" class=\"dataframe\">\n",
       "  <thead>\n",
       "    <tr style=\"text-align: right;\">\n",
       "      <th></th>\n",
       "      <th>Name</th>\n",
       "      <th>Platform</th>\n",
       "      <th>Year_of_Release</th>\n",
       "      <th>Genre</th>\n",
       "      <th>NA_sales</th>\n",
       "      <th>EU_sales</th>\n",
       "      <th>JP_sales</th>\n",
       "      <th>Other_sales</th>\n",
       "      <th>Critic_Score</th>\n",
       "      <th>User_Score</th>\n",
       "      <th>Rating</th>\n",
       "    </tr>\n",
       "  </thead>\n",
       "  <tbody>\n",
       "    <tr>\n",
       "      <th>0</th>\n",
       "      <td>Wii Sports</td>\n",
       "      <td>Wii</td>\n",
       "      <td>2006.0</td>\n",
       "      <td>Sports</td>\n",
       "      <td>41.36</td>\n",
       "      <td>28.96</td>\n",
       "      <td>3.77</td>\n",
       "      <td>8.45</td>\n",
       "      <td>76.0</td>\n",
       "      <td>8</td>\n",
       "      <td>E</td>\n",
       "    </tr>\n",
       "    <tr>\n",
       "      <th>1</th>\n",
       "      <td>Super Mario Bros.</td>\n",
       "      <td>NES</td>\n",
       "      <td>1985.0</td>\n",
       "      <td>Platform</td>\n",
       "      <td>29.08</td>\n",
       "      <td>3.58</td>\n",
       "      <td>6.81</td>\n",
       "      <td>0.77</td>\n",
       "      <td>NaN</td>\n",
       "      <td>NaN</td>\n",
       "      <td>NaN</td>\n",
       "    </tr>\n",
       "    <tr>\n",
       "      <th>2</th>\n",
       "      <td>Mario Kart Wii</td>\n",
       "      <td>Wii</td>\n",
       "      <td>2008.0</td>\n",
       "      <td>Racing</td>\n",
       "      <td>15.68</td>\n",
       "      <td>12.76</td>\n",
       "      <td>3.79</td>\n",
       "      <td>3.29</td>\n",
       "      <td>82.0</td>\n",
       "      <td>8.3</td>\n",
       "      <td>E</td>\n",
       "    </tr>\n",
       "    <tr>\n",
       "      <th>3</th>\n",
       "      <td>Wii Sports Resort</td>\n",
       "      <td>Wii</td>\n",
       "      <td>2009.0</td>\n",
       "      <td>Sports</td>\n",
       "      <td>15.61</td>\n",
       "      <td>10.93</td>\n",
       "      <td>3.28</td>\n",
       "      <td>2.95</td>\n",
       "      <td>80.0</td>\n",
       "      <td>8</td>\n",
       "      <td>E</td>\n",
       "    </tr>\n",
       "    <tr>\n",
       "      <th>4</th>\n",
       "      <td>Pokemon Red/Pokemon Blue</td>\n",
       "      <td>GB</td>\n",
       "      <td>1996.0</td>\n",
       "      <td>Role-Playing</td>\n",
       "      <td>11.27</td>\n",
       "      <td>8.89</td>\n",
       "      <td>10.22</td>\n",
       "      <td>1.00</td>\n",
       "      <td>NaN</td>\n",
       "      <td>NaN</td>\n",
       "      <td>NaN</td>\n",
       "    </tr>\n",
       "  </tbody>\n",
       "</table>\n",
       "</div>"
      ],
      "text/plain": [
       "                       Name Platform  Year_of_Release         Genre  NA_sales  \\\n",
       "0                Wii Sports      Wii           2006.0        Sports     41.36   \n",
       "1         Super Mario Bros.      NES           1985.0      Platform     29.08   \n",
       "2            Mario Kart Wii      Wii           2008.0        Racing     15.68   \n",
       "3         Wii Sports Resort      Wii           2009.0        Sports     15.61   \n",
       "4  Pokemon Red/Pokemon Blue       GB           1996.0  Role-Playing     11.27   \n",
       "\n",
       "   EU_sales  JP_sales  Other_sales  Critic_Score User_Score Rating  \n",
       "0     28.96      3.77         8.45          76.0          8      E  \n",
       "1      3.58      6.81         0.77           NaN        NaN    NaN  \n",
       "2     12.76      3.79         3.29          82.0        8.3      E  \n",
       "3     10.93      3.28         2.95          80.0          8      E  \n",
       "4      8.89     10.22         1.00           NaN        NaN    NaN  "
      ]
     },
     "execution_count": 2,
     "metadata": {},
     "output_type": "execute_result"
    }
   ],
   "source": [
    "data = pd.read_csv(\"/datasets/games.csv\")\n",
    "display(data.info())\n",
    "data.head()"
   ]
  },
  {
   "cell_type": "markdown",
   "metadata": {},
   "source": [
    "<div class=\"alert-warning\">\n",
    "<b>Комментарий ревьюера ⚠️</b>\n",
    "\n",
    "📌 Лучше разделять ячейки загрузки библиотек и данных. Если понадобится подключить дополнительную библиотеку, не нужно будет заново грузить данные и перезаписывать переменные.</div>"
   ]
  },
  {
   "cell_type": "markdown",
   "metadata": {},
   "source": [
    "<div class=\"alert alert-info\"> <b>Комментарии студента:</b> Принято и исправлено.</div>"
   ]
  },
  {
   "cell_type": "markdown",
   "metadata": {},
   "source": [
    "<div class=\"alert-success\">\n",
    "<b>Комментарий ревьюера V2 ✔️</b>\n",
    "\n",
    "Супер!</div>"
   ]
  },
  {
   "cell_type": "markdown",
   "metadata": {},
   "source": [
    "Также построим гистограммы для визуализации содержащихся данных."
   ]
  },
  {
   "cell_type": "code",
   "execution_count": 3,
   "metadata": {},
   "outputs": [
    {
     "data": {
      "image/png": "[encoded data removed]",
      "text/plain": [
       "<Figure size 720x720 with 6 Axes>"
      ]
     },
     "metadata": {
      "needs_background": "light"
     },
     "output_type": "display_data"
    }
   ],
   "source": [
    "data.hist(bins=35, figsize=(10, 10));"
   ]
  },
  {
   "cell_type": "markdown",
   "metadata": {},
   "source": [
    "<div class=\"alert-success\">\n",
    "<b>Комментарий ревьюера ✔️</b>\n",
    "\n",
    "Данные загружены верно, получена общая информация о датафрейме. 🚀</div>"
   ]
  },
  {
   "cell_type": "markdown",
   "metadata": {},
   "source": [
    "Исходные данные содержат 16715 записей, каждая из которых предоставляет сведения об игре: название, платформа, год выпуска, продажи по регионам, рейтинг и возрастные ограничения.\n",
    "\n",
    "Из гистограм можно увидеть, что данные представлены более чем за 30 лет, с 1980 года. Рейтинги представляют собой оценку по 100 или 10 бальной шкале."
   ]
  },
  {
   "cell_type": "markdown",
   "metadata": {},
   "source": [
    "### Предобработка данных\n",
    "\n",
    "В первую очередь приведем названия столбцов к \"нормальному\" виду."
   ]
  },
  {
   "cell_type": "code",
   "execution_count": 4,
   "metadata": {},
   "outputs": [],
   "source": [
    "data.columns = data.columns.str.lower()"
   ]
  },
  {
   "cell_type": "markdown",
   "metadata": {},
   "source": [
    "<div class=\"alert-success\">\n",
    "<b>Комментарий ревьюера ✔️</b>\n",
    "\n",
    "Отличный способ! 🔥</div>"
   ]
  },
  {
   "cell_type": "markdown",
   "metadata": {},
   "source": [
    "Теперь проверим пропуски и изменим тип данных где это необходимо."
   ]
  },
  {
   "cell_type": "code",
   "execution_count": 5,
   "metadata": {
    "scrolled": true
   },
   "outputs": [
    {
     "data": {
      "text/html": [
       "<style  type=\"text/css\" >\n",
       "#T_2e15d_row0_col0,#T_2e15d_row1_col0,#T_2e15d_row3_col0,#T_2e15d_row4_col0,#T_2e15d_row5_col0,#T_2e15d_row6_col0,#T_2e15d_row7_col0{\n",
       "            background-color:  #3b4cc0;\n",
       "            color:  #f1f1f1;\n",
       "        }#T_2e15d_row2_col0{\n",
       "            background-color:  #445acc;\n",
       "            color:  #f1f1f1;\n",
       "        }#T_2e15d_row8_col0{\n",
       "            background-color:  #b40426;\n",
       "            color:  #f1f1f1;\n",
       "        }#T_2e15d_row9_col0{\n",
       "            background-color:  #f18d6f;\n",
       "            color:  #000000;\n",
       "        }#T_2e15d_row10_col0{\n",
       "            background-color:  #f08a6c;\n",
       "            color:  #000000;\n",
       "        }</style><table id=\"T_2e15d_\" ><thead>    <tr>        <th class=\"blank level0\" ></th>        <th class=\"col_heading level0 col0\" >0</th>    </tr></thead><tbody>\n",
       "                <tr>\n",
       "                        <th id=\"T_2e15d_level0_row0\" class=\"row_heading level0 row0\" >name</th>\n",
       "                        <td id=\"T_2e15d_row0_col0\" class=\"data row0 col0\" >2</td>\n",
       "            </tr>\n",
       "            <tr>\n",
       "                        <th id=\"T_2e15d_level0_row1\" class=\"row_heading level0 row1\" >platform</th>\n",
       "                        <td id=\"T_2e15d_row1_col0\" class=\"data row1 col0\" >0</td>\n",
       "            </tr>\n",
       "            <tr>\n",
       "                        <th id=\"T_2e15d_level0_row2\" class=\"row_heading level0 row2\" >year_of_release</th>\n",
       "                        <td id=\"T_2e15d_row2_col0\" class=\"data row2 col0\" >269</td>\n",
       "            </tr>\n",
       "            <tr>\n",
       "                        <th id=\"T_2e15d_level0_row3\" class=\"row_heading level0 row3\" >genre</th>\n",
       "                        <td id=\"T_2e15d_row3_col0\" class=\"data row3 col0\" >2</td>\n",
       "            </tr>\n",
       "            <tr>\n",
       "                        <th id=\"T_2e15d_level0_row4\" class=\"row_heading level0 row4\" >na_sales</th>\n",
       "                        <td id=\"T_2e15d_row4_col0\" class=\"data row4 col0\" >0</td>\n",
       "            </tr>\n",
       "            <tr>\n",
       "                        <th id=\"T_2e15d_level0_row5\" class=\"row_heading level0 row5\" >eu_sales</th>\n",
       "                        <td id=\"T_2e15d_row5_col0\" class=\"data row5 col0\" >0</td>\n",
       "            </tr>\n",
       "            <tr>\n",
       "                        <th id=\"T_2e15d_level0_row6\" class=\"row_heading level0 row6\" >jp_sales</th>\n",
       "                        <td id=\"T_2e15d_row6_col0\" class=\"data row6 col0\" >0</td>\n",
       "            </tr>\n",
       "            <tr>\n",
       "                        <th id=\"T_2e15d_level0_row7\" class=\"row_heading level0 row7\" >other_sales</th>\n",
       "                        <td id=\"T_2e15d_row7_col0\" class=\"data row7 col0\" >0</td>\n",
       "            </tr>\n",
       "            <tr>\n",
       "                        <th id=\"T_2e15d_level0_row8\" class=\"row_heading level0 row8\" >critic_score</th>\n",
       "                        <td id=\"T_2e15d_row8_col0\" class=\"data row8 col0\" >8578</td>\n",
       "            </tr>\n",
       "            <tr>\n",
       "                        <th id=\"T_2e15d_level0_row9\" class=\"row_heading level0 row9\" >user_score</th>\n",
       "                        <td id=\"T_2e15d_row9_col0\" class=\"data row9 col0\" >6701</td>\n",
       "            </tr>\n",
       "            <tr>\n",
       "                        <th id=\"T_2e15d_level0_row10\" class=\"row_heading level0 row10\" >rating</th>\n",
       "                        <td id=\"T_2e15d_row10_col0\" class=\"data row10 col0\" >6766</td>\n",
       "            </tr>\n",
       "    </tbody></table>"
      ],
      "text/plain": [
       "<pandas.io.formats.style.Styler at 0x7f0bdcd56130>"
      ]
     },
     "execution_count": 5,
     "metadata": {},
     "output_type": "execute_result"
    }
   ],
   "source": [
    "pd.DataFrame(data.isna().sum()).style.background_gradient('coolwarm')"
   ]
  },
  {
   "cell_type": "markdown",
   "metadata": {},
   "source": [
    "Начнем со столбца `name` - всего два пропуска, но определить их реальное значение скорее всего не получится. Заменим их на `Unknown`. "
   ]
  },
  {
   "cell_type": "code",
   "execution_count": 6,
   "metadata": {
    "scrolled": true
   },
   "outputs": [],
   "source": [
    "data['name'] = data['name'].fillna(value='Unknown')"
   ]
  },
  {
   "cell_type": "markdown",
   "metadata": {},
   "source": [
    "В столбце `year_of_release` 269 пропусков, но их заполнение также затруднительно. Заменим пропуски на `0`, так будет понятно, что это пропущенное значение, и также переведем `year_of_release` в тип `int16`."
   ]
  },
  {
   "cell_type": "code",
   "execution_count": 7,
   "metadata": {},
   "outputs": [],
   "source": [
    "data['year_of_release'] = data['year_of_release'].fillna(value=0).astype('int16')"
   ]
  },
  {
   "cell_type": "markdown",
   "metadata": {},
   "source": [
    "Столбец `genre` схож с `name`, поступим по той же логике:"
   ]
  },
  {
   "cell_type": "code",
   "execution_count": 8,
   "metadata": {},
   "outputs": [],
   "source": [
    "data['genre'] = data['genre'].fillna(value='Unknown')"
   ]
  },
  {
   "cell_type": "markdown",
   "metadata": {},
   "source": [
    "В столбце `critic_score` пропусков больше всего - предположительно не все игры оцениваются критиками. Посмотрим на уникальные значения этого столбца."
   ]
  },
  {
   "cell_type": "markdown",
   "metadata": {},
   "source": [
    "<div class=\"alert-success\">\n",
    "<b>Комментарий ревьюера ✔️</b>\n",
    "\n",
    "Верно, в строковых данных можно пропуски заменить на заглушку. А можно и удалить, так как их немного.</div>"
   ]
  },
  {
   "cell_type": "code",
   "execution_count": 9,
   "metadata": {},
   "outputs": [
    {
     "data": {
      "text/plain": [
       "array([76., nan, 82., 80., 89., 58., 87., 91., 61., 97., 95., 77., 88.,\n",
       "       83., 94., 93., 85., 86., 98., 96., 90., 84., 73., 74., 78., 92.,\n",
       "       71., 72., 68., 62., 49., 67., 81., 66., 56., 79., 70., 59., 64.,\n",
       "       75., 60., 63., 69., 50., 25., 42., 44., 55., 48., 57., 29., 47.,\n",
       "       65., 54., 20., 53., 37., 38., 33., 52., 30., 32., 43., 45., 51.,\n",
       "       40., 46., 39., 34., 35., 41., 36., 28., 31., 27., 26., 19., 23.,\n",
       "       24., 21., 17., 22., 13.])"
      ]
     },
     "execution_count": 9,
     "metadata": {},
     "output_type": "execute_result"
    }
   ],
   "source": [
    "data['critic_score'].unique()"
   ]
  },
  {
   "cell_type": "markdown",
   "metadata": {},
   "source": [
    "Все оценки проставлены по 100-бальной шкале и представляют собой целочисленные значения. Можно было бы оставить их в таком виде, но для уменьшения размера датасета лучше привести их к типу `int8`. Чтобы сделать это и не потерять пропущенные значения, присвоим последним значение `-1`, такая оценка невозможна и даст понять при дальнейшей работе с данными, что эти игры не получили оценки критиков."
   ]
  },
  {
   "cell_type": "code",
   "execution_count": 10,
   "metadata": {},
   "outputs": [],
   "source": [
    "data['critic_score'] = data['critic_score'].fillna(value= -(1)).astype('int8')"
   ]
  },
  {
   "cell_type": "markdown",
   "metadata": {},
   "source": [
    "Столбец `user_score` изначально имеет тип `object `, что довольно странно для столбца в котором должны быть числа, изучим уникальные значения:"
   ]
  },
  {
   "cell_type": "code",
   "execution_count": 11,
   "metadata": {},
   "outputs": [
    {
     "data": {
      "text/plain": [
       "array(['8', nan, '8.3', '8.5', '6.6', '8.4', '8.6', '7.7', '6.3', '7.4',\n",
       "       '8.2', '9', '7.9', '8.1', '8.7', '7.1', '3.4', '5.3', '4.8', '3.2',\n",
       "       '8.9', '6.4', '7.8', '7.5', '2.6', '7.2', '9.2', '7', '7.3', '4.3',\n",
       "       '7.6', '5.7', '5', '9.1', '6.5', 'tbd', '8.8', '6.9', '9.4', '6.8',\n",
       "       '6.1', '6.7', '5.4', '4', '4.9', '4.5', '9.3', '6.2', '4.2', '6',\n",
       "       '3.7', '4.1', '5.8', '5.6', '5.5', '4.4', '4.6', '5.9', '3.9',\n",
       "       '3.1', '2.9', '5.2', '3.3', '4.7', '5.1', '3.5', '2.5', '1.9', '3',\n",
       "       '2.7', '2.2', '2', '9.5', '2.1', '3.6', '2.8', '1.8', '3.8', '0',\n",
       "       '1.6', '9.6', '2.4', '1.7', '1.1', '0.3', '1.5', '0.7', '1.2',\n",
       "       '2.3', '0.5', '1.3', '0.2', '0.6', '1.4', '0.9', '1', '9.7'],\n",
       "      dtype=object)"
      ]
     },
     "execution_count": 11,
     "metadata": {},
     "output_type": "execute_result"
    }
   ],
   "source": [
    "data['user_score'].unique()"
   ]
  },
  {
   "cell_type": "markdown",
   "metadata": {},
   "source": [
    "Как видно числа храняться в виде строк, кроме того имеются значения типа `tbd` и пропущенные значения. Значение `tbd` расшифровывается как `to be determined`, скорее всего для объективной оценки игры не хватает количества поставленных оценок. Как и для столбца `critic_score` изменим пропущенные значения на `-1`, то же самое сделаем со значением `tbd`. При изменении типа данных учтем, что оценка ставится по 10-бальной шкале и может быть дробной."
   ]
  },
  {
   "cell_type": "code",
   "execution_count": 12,
   "metadata": {},
   "outputs": [],
   "source": [
    "data['user_score'] = data['user_score'].replace(to_replace='tbd', value=-1)\\\n",
    ".fillna(value=-1)\\\n",
    ".astype('float32')"
   ]
  },
  {
   "cell_type": "markdown",
   "metadata": {},
   "source": [
    "<div class=\"alert-success\">\n",
    "<b>Комментарий ревьюера ✔️</b>\n",
    "\n",
    "Здесь тоже можно поставить заглушку на пропуски, главное не забыть ее отфильтровать при расчете корреляций и проверке гипотез.</div>"
   ]
  },
  {
   "cell_type": "markdown",
   "metadata": {},
   "source": [
    "Последняя оставшаяся колонка `rating`, проверим уникальные значения:"
   ]
  },
  {
   "cell_type": "code",
   "execution_count": 13,
   "metadata": {},
   "outputs": [
    {
     "data": {
      "text/plain": [
       "array(['E', nan, 'M', 'T', 'E10+', 'K-A', 'AO', 'EC', 'RP'], dtype=object)"
      ]
     },
     "execution_count": 13,
     "metadata": {},
     "output_type": "execute_result"
    }
   ],
   "source": [
    "data['rating'].unique()"
   ]
  },
  {
   "cell_type": "markdown",
   "metadata": {},
   "source": [
    "В колонке категориальные значения - поставим `Unknown` вместо `NaN`."
   ]
  },
  {
   "cell_type": "code",
   "execution_count": 14,
   "metadata": {},
   "outputs": [],
   "source": [
    "data['rating'] = data['rating'].fillna(value='Unknown')"
   ]
  },
  {
   "cell_type": "markdown",
   "metadata": {},
   "source": [
    "<div class=\"alert-success\">\n",
    "<b>Комментарий ревьюера ✔️</b>\n",
    "\n",
    "Правильное решение - выделить игры без рейтинга в отдельную категорию, они нам понадобятся дальше для анализа.\n",
    "\n",
    "Также, можно посмотреть нет ли устаревших значений рейтинга.</div>"
   ]
  },
  {
   "cell_type": "markdown",
   "metadata": {},
   "source": [
    "Теперь проверим данные на явные и неявные дубликаты."
   ]
  },
  {
   "cell_type": "code",
   "execution_count": 15,
   "metadata": {
    "scrolled": true
   },
   "outputs": [
    {
     "data": {
      "text/plain": [
       "0"
      ]
     },
     "execution_count": 15,
     "metadata": {},
     "output_type": "execute_result"
    }
   ],
   "source": [
    "data.duplicated().sum()"
   ]
  },
  {
   "cell_type": "markdown",
   "metadata": {},
   "source": [
    "Явных дубликатов нет. Теперь проверим на неявные. Начнем с `platform`:"
   ]
  },
  {
   "cell_type": "code",
   "execution_count": 16,
   "metadata": {},
   "outputs": [
    {
     "data": {
      "text/plain": [
       "array(['2600', '3DO', '3DS', 'DC', 'DS', 'GB', 'GBA', 'GC', 'GEN', 'GG',\n",
       "       'N64', 'NES', 'NG', 'PC', 'PCFX', 'PS', 'PS2', 'PS3', 'PS4', 'PSP',\n",
       "       'PSV', 'SAT', 'SCD', 'SNES', 'TG16', 'WS', 'Wii', 'WiiU', 'X360',\n",
       "       'XB', 'XOne'], dtype=object)"
      ]
     },
     "execution_count": 16,
     "metadata": {},
     "output_type": "execute_result"
    }
   ],
   "source": [
    "data['platform'].sort_values().unique()"
   ]
  },
  {
   "cell_type": "markdown",
   "metadata": {},
   "source": [
    "Неявных дубликатов нет \n",
    "(_В реальной ситуации стоит обратиться к специалистам компании для уточнения, либо провести краткий анализ платформ в интернете_)\n",
    "\n",
    "Переходим к столбцу `genre`:"
   ]
  },
  {
   "cell_type": "code",
   "execution_count": 17,
   "metadata": {
    "scrolled": true
   },
   "outputs": [
    {
     "data": {
      "text/plain": [
       "array(['Action', 'Adventure', 'Fighting', 'Misc', 'Platform', 'Puzzle',\n",
       "       'Racing', 'Role-Playing', 'Shooter', 'Simulation', 'Sports',\n",
       "       'Strategy', 'Unknown'], dtype=object)"
      ]
     },
     "execution_count": 17,
     "metadata": {},
     "output_type": "execute_result"
    }
   ],
   "source": [
    "data['genre'].sort_values().unique()"
   ]
  },
  {
   "cell_type": "markdown",
   "metadata": {},
   "source": [
    " Неявных дубликатов нет.\n",
    " \n",
    " Проверим наличие дубликатов по паре \"название игры - платформа\":"
   ]
  },
  {
   "cell_type": "code",
   "execution_count": 18,
   "metadata": {
    "scrolled": true
   },
   "outputs": [
    {
     "data": {
      "text/plain": [
       "5"
      ]
     },
     "execution_count": 18,
     "metadata": {},
     "output_type": "execute_result"
    }
   ],
   "source": [
    "data.loc[:, ['name', 'platform']].duplicated().sum()"
   ]
  },
  {
   "cell_type": "markdown",
   "metadata": {},
   "source": [
    "Удаляем задвоенные строки:"
   ]
  },
  {
   "cell_type": "code",
   "execution_count": 19,
   "metadata": {},
   "outputs": [],
   "source": [
    "data = data.drop(data[data.loc[:, ['name', 'platform']].duplicated()].index)"
   ]
  },
  {
   "cell_type": "markdown",
   "metadata": {},
   "source": [
    "<div class=\"alert-warning\">\n",
    "<b>Комментарий ревьюера ⚠️</b>\n",
    "\n",
    "Также можно проверить наличие дубликатов по паре \"название игры - платформа\".</div>"
   ]
  },
  {
   "cell_type": "markdown",
   "metadata": {},
   "source": [
    "<div class=\"alert alert-info\"> <b>Комментарии студента:</b> Нашел и удалил 5 дублей. А стоит ли в таком случае проводить анализ на предмет того, какие именно строки удаляем? Сейчас, по умолчанию оставлены первые вхождения, но вдруг у вторых больше информации?</div>"
   ]
  },
  {
   "cell_type": "markdown",
   "metadata": {},
   "source": [
    "<div class=\"alert-success\">\n",
    "<b>Комментарий ревьюера V2 ✔️</b>\n",
    "\n",
    "Я бы вывел их на экран и посмотрел действительно ли это дубликаты, или может переиздания? 🙂</div>"
   ]
  },
  {
   "cell_type": "markdown",
   "metadata": {},
   "source": [
    "Завершаем предобработку добавлением столбца с общим количеством продаж:"
   ]
  },
  {
   "cell_type": "code",
   "execution_count": 20,
   "metadata": {},
   "outputs": [],
   "source": [
    "data['total_sales'] = data.loc[:, 'na_sales':'other_sales'].sum(axis=1)"
   ]
  },
  {
   "cell_type": "markdown",
   "metadata": {},
   "source": [
    "<div class=\"alert-success\">\n",
    "<b>Комментарий ревьюера ✔️</b>\n",
    "\n",
    "Общие продажи посчитаны верно! 👍\n",
    "</div>"
   ]
  },
  {
   "cell_type": "markdown",
   "metadata": {},
   "source": [
    "Еще раз выведем информацию о таблице и первые строки:"
   ]
  },
  {
   "cell_type": "code",
   "execution_count": 21,
   "metadata": {},
   "outputs": [
    {
     "name": "stdout",
     "output_type": "stream",
     "text": [
      "<class 'pandas.core.frame.DataFrame'>\n",
      "Int64Index: 16710 entries, 0 to 16714\n",
      "Data columns (total 12 columns):\n",
      " #   Column           Non-Null Count  Dtype  \n",
      "---  ------           --------------  -----  \n",
      " 0   name             16710 non-null  object \n",
      " 1   platform         16710 non-null  object \n",
      " 2   year_of_release  16710 non-null  int16  \n",
      " 3   genre            16710 non-null  object \n",
      " 4   na_sales         16710 non-null  float64\n",
      " 5   eu_sales         16710 non-null  float64\n",
      " 6   jp_sales         16710 non-null  float64\n",
      " 7   other_sales      16710 non-null  float64\n",
      " 8   critic_score     16710 non-null  int8   \n",
      " 9   user_score       16710 non-null  float32\n",
      " 10  rating           16710 non-null  object \n",
      " 11  total_sales      16710 non-null  float64\n",
      "dtypes: float32(1), float64(5), int16(1), int8(1), object(4)\n",
      "memory usage: 1.4+ MB\n"
     ]
    }
   ],
   "source": [
    "data.info()"
   ]
  },
  {
   "cell_type": "code",
   "execution_count": 22,
   "metadata": {},
   "outputs": [
    {
     "data": {
      "text/html": [
       "<div>\n",
       "<style scoped>\n",
       "    .dataframe tbody tr th:only-of-type {\n",
       "        vertical-align: middle;\n",
       "    }\n",
       "\n",
       "    .dataframe tbody tr th {\n",
       "        vertical-align: top;\n",
       "    }\n",
       "\n",
       "    .dataframe thead th {\n",
       "        text-align: right;\n",
       "    }\n",
       "</style>\n",
       "<table border=\"1\" class=\"dataframe\">\n",
       "  <thead>\n",
       "    <tr style=\"text-align: right;\">\n",
       "      <th></th>\n",
       "      <th>name</th>\n",
       "      <th>platform</th>\n",
       "      <th>year_of_release</th>\n",
       "      <th>genre</th>\n",
       "      <th>na_sales</th>\n",
       "      <th>eu_sales</th>\n",
       "      <th>jp_sales</th>\n",
       "      <th>other_sales</th>\n",
       "      <th>critic_score</th>\n",
       "      <th>user_score</th>\n",
       "      <th>rating</th>\n",
       "      <th>total_sales</th>\n",
       "    </tr>\n",
       "  </thead>\n",
       "  <tbody>\n",
       "    <tr>\n",
       "      <th>0</th>\n",
       "      <td>Wii Sports</td>\n",
       "      <td>Wii</td>\n",
       "      <td>2006</td>\n",
       "      <td>Sports</td>\n",
       "      <td>41.36</td>\n",
       "      <td>28.96</td>\n",
       "      <td>3.77</td>\n",
       "      <td>8.45</td>\n",
       "      <td>76</td>\n",
       "      <td>8.0</td>\n",
       "      <td>E</td>\n",
       "      <td>82.54</td>\n",
       "    </tr>\n",
       "    <tr>\n",
       "      <th>1</th>\n",
       "      <td>Super Mario Bros.</td>\n",
       "      <td>NES</td>\n",
       "      <td>1985</td>\n",
       "      <td>Platform</td>\n",
       "      <td>29.08</td>\n",
       "      <td>3.58</td>\n",
       "      <td>6.81</td>\n",
       "      <td>0.77</td>\n",
       "      <td>-1</td>\n",
       "      <td>-1.0</td>\n",
       "      <td>Unknown</td>\n",
       "      <td>40.24</td>\n",
       "    </tr>\n",
       "    <tr>\n",
       "      <th>2</th>\n",
       "      <td>Mario Kart Wii</td>\n",
       "      <td>Wii</td>\n",
       "      <td>2008</td>\n",
       "      <td>Racing</td>\n",
       "      <td>15.68</td>\n",
       "      <td>12.76</td>\n",
       "      <td>3.79</td>\n",
       "      <td>3.29</td>\n",
       "      <td>82</td>\n",
       "      <td>8.3</td>\n",
       "      <td>E</td>\n",
       "      <td>35.52</td>\n",
       "    </tr>\n",
       "    <tr>\n",
       "      <th>3</th>\n",
       "      <td>Wii Sports Resort</td>\n",
       "      <td>Wii</td>\n",
       "      <td>2009</td>\n",
       "      <td>Sports</td>\n",
       "      <td>15.61</td>\n",
       "      <td>10.93</td>\n",
       "      <td>3.28</td>\n",
       "      <td>2.95</td>\n",
       "      <td>80</td>\n",
       "      <td>8.0</td>\n",
       "      <td>E</td>\n",
       "      <td>32.77</td>\n",
       "    </tr>\n",
       "    <tr>\n",
       "      <th>4</th>\n",
       "      <td>Pokemon Red/Pokemon Blue</td>\n",
       "      <td>GB</td>\n",
       "      <td>1996</td>\n",
       "      <td>Role-Playing</td>\n",
       "      <td>11.27</td>\n",
       "      <td>8.89</td>\n",
       "      <td>10.22</td>\n",
       "      <td>1.00</td>\n",
       "      <td>-1</td>\n",
       "      <td>-1.0</td>\n",
       "      <td>Unknown</td>\n",
       "      <td>31.38</td>\n",
       "    </tr>\n",
       "  </tbody>\n",
       "</table>\n",
       "</div>"
      ],
      "text/plain": [
       "                       name platform  year_of_release         genre  na_sales  \\\n",
       "0                Wii Sports      Wii             2006        Sports     41.36   \n",
       "1         Super Mario Bros.      NES             1985      Platform     29.08   \n",
       "2            Mario Kart Wii      Wii             2008        Racing     15.68   \n",
       "3         Wii Sports Resort      Wii             2009        Sports     15.61   \n",
       "4  Pokemon Red/Pokemon Blue       GB             1996  Role-Playing     11.27   \n",
       "\n",
       "   eu_sales  jp_sales  other_sales  critic_score  user_score   rating  \\\n",
       "0     28.96      3.77         8.45            76         8.0        E   \n",
       "1      3.58      6.81         0.77            -1        -1.0  Unknown   \n",
       "2     12.76      3.79         3.29            82         8.3        E   \n",
       "3     10.93      3.28         2.95            80         8.0        E   \n",
       "4      8.89     10.22         1.00            -1        -1.0  Unknown   \n",
       "\n",
       "   total_sales  \n",
       "0        82.54  \n",
       "1        40.24  \n",
       "2        35.52  \n",
       "3        32.77  \n",
       "4        31.38  "
      ]
     },
     "execution_count": 22,
     "metadata": {},
     "output_type": "execute_result"
    }
   ],
   "source": [
    "data.head()"
   ]
  },
  {
   "cell_type": "markdown",
   "metadata": {},
   "source": [
    "**Итог:**\n",
    "- Названия приведены к \"нормальному\" типу;\n",
    "- Следующим образом обработаны пропуски:\n",
    "    - столбец `name`, 2 пропуска - заменены на `Unknown`;\n",
    "    - столбец `year_of_release`, 269 пропусков - заменены на `0`;\n",
    "    - столбец `genre`, 2 пропуска - заменены на `Unknown`;\n",
    "    - столбец `critic_score`, 8578 пропусков - заменены на `-1`;\n",
    "    - столбец `user_score`, 6701 пропуск - заменены на `-1`;\n",
    "    - столбец `rating`, 6766 пропусков - заменены на `Unknown`.\n",
    "- Значения `tbd` в `user_score` заменены на `-1`;\n",
    "- Обнаружены и удалены 5 дубликатов по паре \"название игры - платформа\";\n",
    "- Изменены типы данных:\n",
    "    - `year_of_release` на тип `int16`;\n",
    "    - `critic_score` на тип `int8`;\n",
    "    - `user_score` на тип `float32`;\n",
    "    - `user_score` на тип `float32`;\n",
    "- Добавлен столбец с общими продажами - `total_sales`."
   ]
  },
  {
   "cell_type": "markdown",
   "metadata": {},
   "source": [
    "### Анализ данных\n",
    "#### Начнем с года выпуска игр и посмотрим на распределение.\n",
    "\n",
    "Для начала посмотрим какие годы попали в датасет:"
   ]
  },
  {
   "cell_type": "markdown",
   "metadata": {},
   "source": [
    "<div class=\"alert-warning\">\n",
    "<b>Комментарий ревьюера ⚠️</b>\n",
    "\n",
    "Хорошо бы разделять ячейки Markdown в разделах работы, так мне будет проще их комментировать.\n",
    "</div>"
   ]
  },
  {
   "cell_type": "markdown",
   "metadata": {},
   "source": [
    "<div class=\"alert alert-info\"> <b>Комментарии студента:</b> Принято и исправлено по всему проекту.</div>"
   ]
  },
  {
   "cell_type": "markdown",
   "metadata": {},
   "source": [
    "<div class=\"alert-success\">\n",
    "<b>Комментарий ревьюера V2 ✔️</b>\n",
    "\n",
    "Отлично!</div>"
   ]
  },
  {
   "cell_type": "code",
   "execution_count": 23,
   "metadata": {
    "scrolled": true
   },
   "outputs": [
    {
     "data": {
      "text/plain": [
       "38"
      ]
     },
     "metadata": {},
     "output_type": "display_data"
    },
    {
     "data": {
      "text/plain": [
       "array([   0, 1980, 1981, 1982, 1983, 1984, 1985, 1986, 1987, 1988, 1989,\n",
       "       1990, 1991, 1992, 1993, 1994, 1995, 1996, 1997, 1998, 1999, 2000,\n",
       "       2001, 2002, 2003, 2004, 2005, 2006, 2007, 2008, 2009, 2010, 2011,\n",
       "       2012, 2013, 2014, 2015, 2016], dtype=int16)"
      ]
     },
     "execution_count": 23,
     "metadata": {},
     "output_type": "execute_result"
    }
   ],
   "source": [
    "display(len(data['year_of_release'].sort_values().unique()))\n",
    "data['year_of_release'].sort_values().unique()"
   ]
  },
  {
   "cell_type": "markdown",
   "metadata": {},
   "source": [
    "Итого 37 лет (значение `0` поставлено как \"заглушка для пропущенных данных\"). Построим гистограмму для наглядной визуализации и выведем точные значения в табличном виде:"
   ]
  },
  {
   "cell_type": "code",
   "execution_count": 24,
   "metadata": {},
   "outputs": [
    {
     "data": {
      "text/plain": [
       "year_of_release\n",
       "0        268\n",
       "1980       9\n",
       "1981      46\n",
       "1982      36\n",
       "1983      17\n",
       "1984      14\n",
       "1985      14\n",
       "1986      21\n",
       "1987      16\n",
       "1988      15\n",
       "1989      17\n",
       "1990      16\n",
       "1991      41\n",
       "1992      43\n",
       "1993      61\n",
       "1994     121\n",
       "1995     219\n",
       "1996     263\n",
       "1997     289\n",
       "1998     379\n",
       "1999     338\n",
       "2000     350\n",
       "2001     482\n",
       "2002     829\n",
       "2003     775\n",
       "2004     762\n",
       "2005     938\n",
       "2006    1006\n",
       "2007    1197\n",
       "2008    1427\n",
       "2009    1426\n",
       "2010    1255\n",
       "2011    1136\n",
       "2012     651\n",
       "2013     544\n",
       "2014     581\n",
       "2015     606\n",
       "2016     502\n",
       "Name: name, dtype: int64"
      ]
     },
     "metadata": {},
     "output_type": "display_data"
    },
    {
     "data": {
      "image/png": "[encoded data removed]",
      "text/plain": [
       "<Figure size 1080x432 with 1 Axes>"
      ]
     },
     "metadata": {
      "needs_background": "light"
     },
     "output_type": "display_data"
    }
   ],
   "source": [
    "display(data.groupby(by='year_of_release').count()['name'])\n",
    "data['year_of_release'].hist(figsize=(15,6), bins=37, range=(1980, 2016));"
   ]
  },
  {
   "cell_type": "markdown",
   "metadata": {},
   "source": [
    "<div class=\"alert-success\">\n",
    "<b>Комментарий ревьюера ✔️</b>\n",
    "\n",
    "Верно, до середины 90-х игр выпускалось крайне мало, этот период можно дальше не учитывать.  </div>"
   ]
  },
  {
   "cell_type": "markdown",
   "metadata": {},
   "source": [
    "Судя по графику наибольшее количество игр из датасета было выпущено в 2005-2011 годах. Затем следует спад в количестве игр, возможно дальнейший анализ анализ сможет подсказать почему это произошло. Также выделяется период с 1980 по 1993, который выглядит незначительным по объему продаж, видимо тогда технологии для игр только развивались. Но сразу после этого начинается ощутимый рост."
   ]
  },
  {
   "cell_type": "markdown",
   "metadata": {},
   "source": [
    "#### Выбор актуального периода:\n",
    "\n",
    "Стоит помнить, что задача исследования заключается в построении прогнозов на 2017 год, поэтому имеет смысл опираться на свежие данные по играм и поведению пользователя, которое также меняется. При выборе актуального периода учтем значительное сокращение количества выпущенных игр в 2010-2011 гг., явно вызванное какими-то изменениями на рынке и запросов потребителя. Ограничим актуальный период годами после спада: 2012-2016 гг."
   ]
  },
  {
   "cell_type": "markdown",
   "metadata": {},
   "source": [
    "<div class=\"alert-success\">\n",
    "<b>Комментарий ревьюера ✔️</b>\n",
    "\n",
    "Актуальный период выбран правильно. Брать для прогноза данные более чем за 5 лет для такой динамичной индустрии как видеоигры - нецелесообразно, можно захватить уходящие тренды.</div>"
   ]
  },
  {
   "cell_type": "code",
   "execution_count": 25,
   "metadata": {},
   "outputs": [
    {
     "name": "stdout",
     "output_type": "stream",
     "text": [
      "<class 'pandas.core.frame.DataFrame'>\n",
      "Int64Index: 2884 entries, 16 to 16714\n",
      "Data columns (total 12 columns):\n",
      " #   Column           Non-Null Count  Dtype  \n",
      "---  ------           --------------  -----  \n",
      " 0   name             2884 non-null   object \n",
      " 1   platform         2884 non-null   object \n",
      " 2   year_of_release  2884 non-null   int16  \n",
      " 3   genre            2884 non-null   object \n",
      " 4   na_sales         2884 non-null   float64\n",
      " 5   eu_sales         2884 non-null   float64\n",
      " 6   jp_sales         2884 non-null   float64\n",
      " 7   other_sales      2884 non-null   float64\n",
      " 8   critic_score     2884 non-null   int8   \n",
      " 9   user_score       2884 non-null   float32\n",
      " 10  rating           2884 non-null   object \n",
      " 11  total_sales      2884 non-null   float64\n",
      "dtypes: float32(1), float64(5), int16(1), int8(1), object(4)\n",
      "memory usage: 245.0+ KB\n"
     ]
    }
   ],
   "source": [
    "data_actual = data[data['year_of_release'] >= 2012]\n",
    "data_actual.info()"
   ]
  },
  {
   "cell_type": "markdown",
   "metadata": {},
   "source": [
    "Итого остается 2886 игр, которые будут проанализированы и использованы для создания прогноза."
   ]
  },
  {
   "cell_type": "markdown",
   "metadata": {},
   "source": [
    "#### Изменение продаж по платформам за все время:\n",
    "\n",
    "Перед тем как изучать данные по актуальному периоду вернемся еще раз к общему датасету и посмотрим на развитие платформ в течение времени. Для начала выберем 10 платформ с наибольшим количеством игр и построим для них гистограмы."
   ]
  },
  {
   "cell_type": "code",
   "execution_count": 26,
   "metadata": {
    "scrolled": false
   },
   "outputs": [
    {
     "data": {
      "text/html": [
       "<div>\n",
       "<style scoped>\n",
       "    .dataframe tbody tr th:only-of-type {\n",
       "        vertical-align: middle;\n",
       "    }\n",
       "\n",
       "    .dataframe tbody tr th {\n",
       "        vertical-align: top;\n",
       "    }\n",
       "\n",
       "    .dataframe thead th {\n",
       "        text-align: right;\n",
       "    }\n",
       "</style>\n",
       "<table border=\"1\" class=\"dataframe\">\n",
       "  <thead>\n",
       "    <tr style=\"text-align: right;\">\n",
       "      <th>platform</th>\n",
       "      <th>Total</th>\n",
       "      <th>PS2</th>\n",
       "      <th>X360</th>\n",
       "      <th>PS3</th>\n",
       "      <th>Wii</th>\n",
       "      <th>DS</th>\n",
       "      <th>PS</th>\n",
       "      <th>GBA</th>\n",
       "      <th>PS4</th>\n",
       "      <th>PSP</th>\n",
       "      <th>PC</th>\n",
       "      <th>3DS</th>\n",
       "      <th>XB</th>\n",
       "      <th>GB</th>\n",
       "      <th>NES</th>\n",
       "      <th>N64</th>\n",
       "      <th>SNES</th>\n",
       "      <th>GC</th>\n",
       "      <th>XOne</th>\n",
       "      <th>2600</th>\n",
       "      <th>WiiU</th>\n",
       "      <th>PSV</th>\n",
       "      <th>SAT</th>\n",
       "      <th>GEN</th>\n",
       "      <th>DC</th>\n",
       "      <th>SCD</th>\n",
       "      <th>NG</th>\n",
       "      <th>WS</th>\n",
       "      <th>TG16</th>\n",
       "      <th>3DO</th>\n",
       "      <th>GG</th>\n",
       "      <th>PCFX</th>\n",
       "    </tr>\n",
       "    <tr>\n",
       "      <th>year_of_release</th>\n",
       "      <th></th>\n",
       "      <th></th>\n",
       "      <th></th>\n",
       "      <th></th>\n",
       "      <th></th>\n",
       "      <th></th>\n",
       "      <th></th>\n",
       "      <th></th>\n",
       "      <th></th>\n",
       "      <th></th>\n",
       "      <th></th>\n",
       "      <th></th>\n",
       "      <th></th>\n",
       "      <th></th>\n",
       "      <th></th>\n",
       "      <th></th>\n",
       "      <th></th>\n",
       "      <th></th>\n",
       "      <th></th>\n",
       "      <th></th>\n",
       "      <th></th>\n",
       "      <th></th>\n",
       "      <th></th>\n",
       "      <th></th>\n",
       "      <th></th>\n",
       "      <th></th>\n",
       "      <th></th>\n",
       "      <th></th>\n",
       "      <th></th>\n",
       "      <th></th>\n",
       "      <th></th>\n",
       "      <th></th>\n",
       "    </tr>\n",
       "  </thead>\n",
       "  <tbody>\n",
       "    <tr>\n",
       "      <th>0</th>\n",
       "      <td>98.44</td>\n",
       "      <td>22.21</td>\n",
       "      <td>10.18</td>\n",
       "      <td>7.83</td>\n",
       "      <td>16.33</td>\n",
       "      <td>3.34</td>\n",
       "      <td>3.28</td>\n",
       "      <td>4.97</td>\n",
       "      <td>NaN</td>\n",
       "      <td>4.52</td>\n",
       "      <td>3.76</td>\n",
       "      <td>1.19</td>\n",
       "      <td>6.17</td>\n",
       "      <td>1.03</td>\n",
       "      <td>NaN</td>\n",
       "      <td>0.67</td>\n",
       "      <td>NaN</td>\n",
       "      <td>2.20</td>\n",
       "      <td>NaN</td>\n",
       "      <td>10.50</td>\n",
       "      <td>NaN</td>\n",
       "      <td>0.26</td>\n",
       "      <td>NaN</td>\n",
       "      <td>NaN</td>\n",
       "      <td>NaN</td>\n",
       "      <td>NaN</td>\n",
       "      <td>NaN</td>\n",
       "      <td>NaN</td>\n",
       "      <td>NaN</td>\n",
       "      <td>NaN</td>\n",
       "      <td>NaN</td>\n",
       "      <td>NaN</td>\n",
       "    </tr>\n",
       "    <tr>\n",
       "      <th>1980</th>\n",
       "      <td>11.38</td>\n",
       "      <td>NaN</td>\n",
       "      <td>NaN</td>\n",
       "      <td>NaN</td>\n",
       "      <td>NaN</td>\n",
       "      <td>NaN</td>\n",
       "      <td>NaN</td>\n",
       "      <td>NaN</td>\n",
       "      <td>NaN</td>\n",
       "      <td>NaN</td>\n",
       "      <td>NaN</td>\n",
       "      <td>NaN</td>\n",
       "      <td>NaN</td>\n",
       "      <td>NaN</td>\n",
       "      <td>NaN</td>\n",
       "      <td>NaN</td>\n",
       "      <td>NaN</td>\n",
       "      <td>NaN</td>\n",
       "      <td>NaN</td>\n",
       "      <td>11.38</td>\n",
       "      <td>NaN</td>\n",
       "      <td>NaN</td>\n",
       "      <td>NaN</td>\n",
       "      <td>NaN</td>\n",
       "      <td>NaN</td>\n",
       "      <td>NaN</td>\n",
       "      <td>NaN</td>\n",
       "      <td>NaN</td>\n",
       "      <td>NaN</td>\n",
       "      <td>NaN</td>\n",
       "      <td>NaN</td>\n",
       "      <td>NaN</td>\n",
       "    </tr>\n",
       "    <tr>\n",
       "      <th>1981</th>\n",
       "      <td>35.68</td>\n",
       "      <td>NaN</td>\n",
       "      <td>NaN</td>\n",
       "      <td>NaN</td>\n",
       "      <td>NaN</td>\n",
       "      <td>NaN</td>\n",
       "      <td>NaN</td>\n",
       "      <td>NaN</td>\n",
       "      <td>NaN</td>\n",
       "      <td>NaN</td>\n",
       "      <td>NaN</td>\n",
       "      <td>NaN</td>\n",
       "      <td>NaN</td>\n",
       "      <td>NaN</td>\n",
       "      <td>NaN</td>\n",
       "      <td>NaN</td>\n",
       "      <td>NaN</td>\n",
       "      <td>NaN</td>\n",
       "      <td>NaN</td>\n",
       "      <td>35.68</td>\n",
       "      <td>NaN</td>\n",
       "      <td>NaN</td>\n",
       "      <td>NaN</td>\n",
       "      <td>NaN</td>\n",
       "      <td>NaN</td>\n",
       "      <td>NaN</td>\n",
       "      <td>NaN</td>\n",
       "      <td>NaN</td>\n",
       "      <td>NaN</td>\n",
       "      <td>NaN</td>\n",
       "      <td>NaN</td>\n",
       "      <td>NaN</td>\n",
       "    </tr>\n",
       "    <tr>\n",
       "      <th>1982</th>\n",
       "      <td>28.88</td>\n",
       "      <td>NaN</td>\n",
       "      <td>NaN</td>\n",
       "      <td>NaN</td>\n",
       "      <td>NaN</td>\n",
       "      <td>NaN</td>\n",
       "      <td>NaN</td>\n",
       "      <td>NaN</td>\n",
       "      <td>NaN</td>\n",
       "      <td>NaN</td>\n",
       "      <td>NaN</td>\n",
       "      <td>NaN</td>\n",
       "      <td>NaN</td>\n",
       "      <td>NaN</td>\n",
       "      <td>NaN</td>\n",
       "      <td>NaN</td>\n",
       "      <td>NaN</td>\n",
       "      <td>NaN</td>\n",
       "      <td>NaN</td>\n",
       "      <td>28.88</td>\n",
       "      <td>NaN</td>\n",
       "      <td>NaN</td>\n",
       "      <td>NaN</td>\n",
       "      <td>NaN</td>\n",
       "      <td>NaN</td>\n",
       "      <td>NaN</td>\n",
       "      <td>NaN</td>\n",
       "      <td>NaN</td>\n",
       "      <td>NaN</td>\n",
       "      <td>NaN</td>\n",
       "      <td>NaN</td>\n",
       "      <td>NaN</td>\n",
       "    </tr>\n",
       "    <tr>\n",
       "      <th>1983</th>\n",
       "      <td>16.80</td>\n",
       "      <td>NaN</td>\n",
       "      <td>NaN</td>\n",
       "      <td>NaN</td>\n",
       "      <td>NaN</td>\n",
       "      <td>NaN</td>\n",
       "      <td>NaN</td>\n",
       "      <td>NaN</td>\n",
       "      <td>NaN</td>\n",
       "      <td>NaN</td>\n",
       "      <td>NaN</td>\n",
       "      <td>NaN</td>\n",
       "      <td>NaN</td>\n",
       "      <td>NaN</td>\n",
       "      <td>10.96</td>\n",
       "      <td>NaN</td>\n",
       "      <td>NaN</td>\n",
       "      <td>NaN</td>\n",
       "      <td>NaN</td>\n",
       "      <td>5.84</td>\n",
       "      <td>NaN</td>\n",
       "      <td>NaN</td>\n",
       "      <td>NaN</td>\n",
       "      <td>NaN</td>\n",
       "      <td>NaN</td>\n",
       "      <td>NaN</td>\n",
       "      <td>NaN</td>\n",
       "      <td>NaN</td>\n",
       "      <td>NaN</td>\n",
       "      <td>NaN</td>\n",
       "      <td>NaN</td>\n",
       "      <td>NaN</td>\n",
       "    </tr>\n",
       "    <tr>\n",
       "      <th>...</th>\n",
       "      <td>...</td>\n",
       "      <td>...</td>\n",
       "      <td>...</td>\n",
       "      <td>...</td>\n",
       "      <td>...</td>\n",
       "      <td>...</td>\n",
       "      <td>...</td>\n",
       "      <td>...</td>\n",
       "      <td>...</td>\n",
       "      <td>...</td>\n",
       "      <td>...</td>\n",
       "      <td>...</td>\n",
       "      <td>...</td>\n",
       "      <td>...</td>\n",
       "      <td>...</td>\n",
       "      <td>...</td>\n",
       "      <td>...</td>\n",
       "      <td>...</td>\n",
       "      <td>...</td>\n",
       "      <td>...</td>\n",
       "      <td>...</td>\n",
       "      <td>...</td>\n",
       "      <td>...</td>\n",
       "      <td>...</td>\n",
       "      <td>...</td>\n",
       "      <td>...</td>\n",
       "      <td>...</td>\n",
       "      <td>...</td>\n",
       "      <td>...</td>\n",
       "      <td>...</td>\n",
       "      <td>...</td>\n",
       "      <td>...</td>\n",
       "    </tr>\n",
       "    <tr>\n",
       "      <th>2013</th>\n",
       "      <td>361.24</td>\n",
       "      <td>NaN</td>\n",
       "      <td>88.58</td>\n",
       "      <td>113.25</td>\n",
       "      <td>8.59</td>\n",
       "      <td>1.54</td>\n",
       "      <td>NaN</td>\n",
       "      <td>NaN</td>\n",
       "      <td>25.99</td>\n",
       "      <td>3.14</td>\n",
       "      <td>12.38</td>\n",
       "      <td>56.57</td>\n",
       "      <td>NaN</td>\n",
       "      <td>NaN</td>\n",
       "      <td>NaN</td>\n",
       "      <td>NaN</td>\n",
       "      <td>NaN</td>\n",
       "      <td>NaN</td>\n",
       "      <td>18.96</td>\n",
       "      <td>NaN</td>\n",
       "      <td>21.65</td>\n",
       "      <td>10.59</td>\n",
       "      <td>NaN</td>\n",
       "      <td>NaN</td>\n",
       "      <td>NaN</td>\n",
       "      <td>NaN</td>\n",
       "      <td>NaN</td>\n",
       "      <td>NaN</td>\n",
       "      <td>NaN</td>\n",
       "      <td>NaN</td>\n",
       "      <td>NaN</td>\n",
       "      <td>NaN</td>\n",
       "    </tr>\n",
       "    <tr>\n",
       "      <th>2014</th>\n",
       "      <td>331.53</td>\n",
       "      <td>NaN</td>\n",
       "      <td>34.74</td>\n",
       "      <td>47.76</td>\n",
       "      <td>3.75</td>\n",
       "      <td>NaN</td>\n",
       "      <td>NaN</td>\n",
       "      <td>NaN</td>\n",
       "      <td>100.00</td>\n",
       "      <td>0.24</td>\n",
       "      <td>13.28</td>\n",
       "      <td>43.76</td>\n",
       "      <td>NaN</td>\n",
       "      <td>NaN</td>\n",
       "      <td>NaN</td>\n",
       "      <td>NaN</td>\n",
       "      <td>NaN</td>\n",
       "      <td>NaN</td>\n",
       "      <td>54.07</td>\n",
       "      <td>NaN</td>\n",
       "      <td>22.03</td>\n",
       "      <td>11.90</td>\n",
       "      <td>NaN</td>\n",
       "      <td>NaN</td>\n",
       "      <td>NaN</td>\n",
       "      <td>NaN</td>\n",
       "      <td>NaN</td>\n",
       "      <td>NaN</td>\n",
       "      <td>NaN</td>\n",
       "      <td>NaN</td>\n",
       "      <td>NaN</td>\n",
       "      <td>NaN</td>\n",
       "    </tr>\n",
       "    <tr>\n",
       "      <th>2015</th>\n",
       "      <td>267.98</td>\n",
       "      <td>NaN</td>\n",
       "      <td>11.96</td>\n",
       "      <td>16.82</td>\n",
       "      <td>1.14</td>\n",
       "      <td>NaN</td>\n",
       "      <td>NaN</td>\n",
       "      <td>NaN</td>\n",
       "      <td>118.90</td>\n",
       "      <td>0.12</td>\n",
       "      <td>8.52</td>\n",
       "      <td>27.78</td>\n",
       "      <td>NaN</td>\n",
       "      <td>NaN</td>\n",
       "      <td>NaN</td>\n",
       "      <td>NaN</td>\n",
       "      <td>NaN</td>\n",
       "      <td>NaN</td>\n",
       "      <td>60.14</td>\n",
       "      <td>NaN</td>\n",
       "      <td>16.35</td>\n",
       "      <td>6.25</td>\n",
       "      <td>NaN</td>\n",
       "      <td>NaN</td>\n",
       "      <td>NaN</td>\n",
       "      <td>NaN</td>\n",
       "      <td>NaN</td>\n",
       "      <td>NaN</td>\n",
       "      <td>NaN</td>\n",
       "      <td>NaN</td>\n",
       "      <td>NaN</td>\n",
       "      <td>NaN</td>\n",
       "    </tr>\n",
       "    <tr>\n",
       "      <th>2016</th>\n",
       "      <td>129.94</td>\n",
       "      <td>NaN</td>\n",
       "      <td>1.52</td>\n",
       "      <td>3.60</td>\n",
       "      <td>0.18</td>\n",
       "      <td>NaN</td>\n",
       "      <td>NaN</td>\n",
       "      <td>NaN</td>\n",
       "      <td>69.25</td>\n",
       "      <td>NaN</td>\n",
       "      <td>5.25</td>\n",
       "      <td>15.14</td>\n",
       "      <td>NaN</td>\n",
       "      <td>NaN</td>\n",
       "      <td>NaN</td>\n",
       "      <td>NaN</td>\n",
       "      <td>NaN</td>\n",
       "      <td>NaN</td>\n",
       "      <td>26.15</td>\n",
       "      <td>NaN</td>\n",
       "      <td>4.60</td>\n",
       "      <td>4.25</td>\n",
       "      <td>NaN</td>\n",
       "      <td>NaN</td>\n",
       "      <td>NaN</td>\n",
       "      <td>NaN</td>\n",
       "      <td>NaN</td>\n",
       "      <td>NaN</td>\n",
       "      <td>NaN</td>\n",
       "      <td>NaN</td>\n",
       "      <td>NaN</td>\n",
       "      <td>NaN</td>\n",
       "    </tr>\n",
       "    <tr>\n",
       "      <th>Total</th>\n",
       "      <td>8913.86</td>\n",
       "      <td>1255.77</td>\n",
       "      <td>970.17</td>\n",
       "      <td>939.16</td>\n",
       "      <td>907.51</td>\n",
       "      <td>806.12</td>\n",
       "      <td>730.86</td>\n",
       "      <td>317.85</td>\n",
       "      <td>314.14</td>\n",
       "      <td>294.05</td>\n",
       "      <td>259.44</td>\n",
       "      <td>259.00</td>\n",
       "      <td>257.74</td>\n",
       "      <td>255.46</td>\n",
       "      <td>251.05</td>\n",
       "      <td>218.68</td>\n",
       "      <td>200.04</td>\n",
       "      <td>198.93</td>\n",
       "      <td>159.32</td>\n",
       "      <td>96.98</td>\n",
       "      <td>82.19</td>\n",
       "      <td>54.07</td>\n",
       "      <td>33.59</td>\n",
       "      <td>30.74</td>\n",
       "      <td>15.95</td>\n",
       "      <td>1.86</td>\n",
       "      <td>1.44</td>\n",
       "      <td>1.42</td>\n",
       "      <td>0.16</td>\n",
       "      <td>0.1</td>\n",
       "      <td>0.04</td>\n",
       "      <td>0.03</td>\n",
       "    </tr>\n",
       "  </tbody>\n",
       "</table>\n",
       "<p>39 rows × 32 columns</p>\n",
       "</div>"
      ],
      "text/plain": [
       "platform           Total      PS2    X360     PS3     Wii      DS      PS  \\\n",
       "year_of_release                                                             \n",
       "0                  98.44    22.21   10.18    7.83   16.33    3.34    3.28   \n",
       "1980               11.38      NaN     NaN     NaN     NaN     NaN     NaN   \n",
       "1981               35.68      NaN     NaN     NaN     NaN     NaN     NaN   \n",
       "1982               28.88      NaN     NaN     NaN     NaN     NaN     NaN   \n",
       "1983               16.80      NaN     NaN     NaN     NaN     NaN     NaN   \n",
       "...                  ...      ...     ...     ...     ...     ...     ...   \n",
       "2013              361.24      NaN   88.58  113.25    8.59    1.54     NaN   \n",
       "2014              331.53      NaN   34.74   47.76    3.75     NaN     NaN   \n",
       "2015              267.98      NaN   11.96   16.82    1.14     NaN     NaN   \n",
       "2016              129.94      NaN    1.52    3.60    0.18     NaN     NaN   \n",
       "Total            8913.86  1255.77  970.17  939.16  907.51  806.12  730.86   \n",
       "\n",
       "platform            GBA     PS4     PSP      PC     3DS      XB      GB  \\\n",
       "year_of_release                                                           \n",
       "0                  4.97     NaN    4.52    3.76    1.19    6.17    1.03   \n",
       "1980                NaN     NaN     NaN     NaN     NaN     NaN     NaN   \n",
       "1981                NaN     NaN     NaN     NaN     NaN     NaN     NaN   \n",
       "1982                NaN     NaN     NaN     NaN     NaN     NaN     NaN   \n",
       "1983                NaN     NaN     NaN     NaN     NaN     NaN     NaN   \n",
       "...                 ...     ...     ...     ...     ...     ...     ...   \n",
       "2013                NaN   25.99    3.14   12.38   56.57     NaN     NaN   \n",
       "2014                NaN  100.00    0.24   13.28   43.76     NaN     NaN   \n",
       "2015                NaN  118.90    0.12    8.52   27.78     NaN     NaN   \n",
       "2016                NaN   69.25     NaN    5.25   15.14     NaN     NaN   \n",
       "Total            317.85  314.14  294.05  259.44  259.00  257.74  255.46   \n",
       "\n",
       "platform            NES     N64    SNES      GC    XOne   2600   WiiU    PSV  \\\n",
       "year_of_release                                                                \n",
       "0                   NaN    0.67     NaN    2.20     NaN  10.50    NaN   0.26   \n",
       "1980                NaN     NaN     NaN     NaN     NaN  11.38    NaN    NaN   \n",
       "1981                NaN     NaN     NaN     NaN     NaN  35.68    NaN    NaN   \n",
       "1982                NaN     NaN     NaN     NaN     NaN  28.88    NaN    NaN   \n",
       "1983              10.96     NaN     NaN     NaN     NaN   5.84    NaN    NaN   \n",
       "...                 ...     ...     ...     ...     ...    ...    ...    ...   \n",
       "2013                NaN     NaN     NaN     NaN   18.96    NaN  21.65  10.59   \n",
       "2014                NaN     NaN     NaN     NaN   54.07    NaN  22.03  11.90   \n",
       "2015                NaN     NaN     NaN     NaN   60.14    NaN  16.35   6.25   \n",
       "2016                NaN     NaN     NaN     NaN   26.15    NaN   4.60   4.25   \n",
       "Total            251.05  218.68  200.04  198.93  159.32  96.98  82.19  54.07   \n",
       "\n",
       "platform           SAT    GEN     DC   SCD    NG    WS  TG16  3DO    GG  PCFX  \n",
       "year_of_release                                                                \n",
       "0                  NaN    NaN    NaN   NaN   NaN   NaN   NaN  NaN   NaN   NaN  \n",
       "1980               NaN    NaN    NaN   NaN   NaN   NaN   NaN  NaN   NaN   NaN  \n",
       "1981               NaN    NaN    NaN   NaN   NaN   NaN   NaN  NaN   NaN   NaN  \n",
       "1982               NaN    NaN    NaN   NaN   NaN   NaN   NaN  NaN   NaN   NaN  \n",
       "1983               NaN    NaN    NaN   NaN   NaN   NaN   NaN  NaN   NaN   NaN  \n",
       "...                ...    ...    ...   ...   ...   ...   ...  ...   ...   ...  \n",
       "2013               NaN    NaN    NaN   NaN   NaN   NaN   NaN  NaN   NaN   NaN  \n",
       "2014               NaN    NaN    NaN   NaN   NaN   NaN   NaN  NaN   NaN   NaN  \n",
       "2015               NaN    NaN    NaN   NaN   NaN   NaN   NaN  NaN   NaN   NaN  \n",
       "2016               NaN    NaN    NaN   NaN   NaN   NaN   NaN  NaN   NaN   NaN  \n",
       "Total            33.59  30.74  15.95  1.86  1.44  1.42  0.16  0.1  0.04  0.03  \n",
       "\n",
       "[39 rows x 32 columns]"
      ]
     },
     "execution_count": 26,
     "metadata": {},
     "output_type": "execute_result"
    }
   ],
   "source": [
    "# Собираем сводную таблицу по суммарным продажам игр на каждой платформе по годам и сортируем по общим продажам\n",
    "data_pivot = data.pivot_table(values='total_sales', \n",
    "                index='year_of_release', \n",
    "                columns='platform', \n",
    "                aggfunc='sum', \n",
    "                margins=True,\n",
    "                margins_name='Total')\\\n",
    ".sort_values(by='Total', axis=1, ascending=False)\\\n",
    "#.drop(labels='Total', axis=1)\n",
    "\n",
    "pd.set_option('display.max_columns', None) # Вывыведем все колонки, чтобы увидеть первые 10 платформ\n",
    "pd.set_option('display.max_rows', 10) #Наиболее интересные колонки - наименование и общие продажи, остальное можно не выводить \n",
    "data_pivot"
   ]
  },
  {
   "cell_type": "code",
   "execution_count": 27,
   "metadata": {},
   "outputs": [
    {
     "data": {
      "image/png": "[encoded data removed]",
      "text/plain": [
       "<Figure size 1080x576 with 11 Axes>"
      ]
     },
     "metadata": {
      "needs_background": "light"
     },
     "output_type": "display_data"
    }
   ],
   "source": [
    "data_pivot.loc[1980:2016, 'Total':'PC']\\\n",
    ".plot(figsize=(15, 8), subplots=True, xlabel='Year'); "
   ]
  },
  {
   "cell_type": "markdown",
   "metadata": {},
   "source": [
    "<div class=\"alert-success\">\n",
    "<b>Комментарий ревьюера ✔️</b>\n",
    "\n",
    "Средний жизненный цикл платформ определен верно. Он явно не превышает 10 лет.</div>"
   ]
  },
  {
   "cell_type": "markdown",
   "metadata": {},
   "source": [
    "По данному графику можно сделать следующие выводы:\n",
    "- Наиболее популярные (по количеству продаж) платформы появились после 95 года;\n",
    "- Срок жизни (годы продаж игр для них) почти всех платформ составляет 5-10 лет, за исключением персональных компьютеров;\n",
    "- Для ПК игры продаются на протяжении более 20 лет, хотя общее количество продаж значительно ниже;\n",
    "- Пик продаж пришелся на 2008 год, после чего наблюжается снижение общего кол-ва покупок.\n",
    "\n",
    "Такая форма графика для ПК может объясняться несколькими причинами:\n",
    "- В отличие от приставок компьютеры совершенствуются с каждым годом, таким образом нет технических ограничений для игр. При улучшении приставок обычно им присваивают новое название и дальнейшие продажи попадают в другую категорию.\n",
    "- Низкие продажи могут быть обусловлены большим количеством \"пиратских\" установок игр - для компьютеров это сделать значительно проще, чем для приставок. Чаще всего, в последних системы защиты и шифрования как на уровне программ, так и на уровне \"железа\", сложнее и надежнее. А для ПК в основном применяется только программное шифрование."
   ]
  },
  {
   "cell_type": "markdown",
   "metadata": {},
   "source": [
    "#### Изменение продаж по платформам в актуальном периоде\n",
    "\n",
    "Теперь вернемся к выбранному ранее актуальному периоду и посмотрим на тенденцию последних лет."
   ]
  },
  {
   "cell_type": "code",
   "execution_count": 28,
   "metadata": {},
   "outputs": [
    {
     "data": {
      "text/html": [
       "<div>\n",
       "<style scoped>\n",
       "    .dataframe tbody tr th:only-of-type {\n",
       "        vertical-align: middle;\n",
       "    }\n",
       "\n",
       "    .dataframe tbody tr th {\n",
       "        vertical-align: top;\n",
       "    }\n",
       "\n",
       "    .dataframe thead th {\n",
       "        text-align: right;\n",
       "    }\n",
       "</style>\n",
       "<table border=\"1\" class=\"dataframe\">\n",
       "  <thead>\n",
       "    <tr style=\"text-align: right;\">\n",
       "      <th>platform</th>\n",
       "      <th>Total</th>\n",
       "      <th>PS4</th>\n",
       "      <th>PS3</th>\n",
       "      <th>X360</th>\n",
       "      <th>3DS</th>\n",
       "      <th>XOne</th>\n",
       "      <th>WiiU</th>\n",
       "      <th>PC</th>\n",
       "      <th>PSV</th>\n",
       "      <th>Wii</th>\n",
       "      <th>DS</th>\n",
       "      <th>PSP</th>\n",
       "    </tr>\n",
       "    <tr>\n",
       "      <th>year_of_release</th>\n",
       "      <th></th>\n",
       "      <th></th>\n",
       "      <th></th>\n",
       "      <th></th>\n",
       "      <th></th>\n",
       "      <th></th>\n",
       "      <th></th>\n",
       "      <th></th>\n",
       "      <th></th>\n",
       "      <th></th>\n",
       "      <th></th>\n",
       "      <th></th>\n",
       "    </tr>\n",
       "  </thead>\n",
       "  <tbody>\n",
       "    <tr>\n",
       "      <th>2012</th>\n",
       "      <td>355.75</td>\n",
       "      <td>NaN</td>\n",
       "      <td>107.35</td>\n",
       "      <td>99.74</td>\n",
       "      <td>51.36</td>\n",
       "      <td>NaN</td>\n",
       "      <td>17.56</td>\n",
       "      <td>23.14</td>\n",
       "      <td>16.19</td>\n",
       "      <td>21.71</td>\n",
       "      <td>11.01</td>\n",
       "      <td>7.69</td>\n",
       "    </tr>\n",
       "    <tr>\n",
       "      <th>2013</th>\n",
       "      <td>361.24</td>\n",
       "      <td>25.99</td>\n",
       "      <td>113.25</td>\n",
       "      <td>88.58</td>\n",
       "      <td>56.57</td>\n",
       "      <td>18.96</td>\n",
       "      <td>21.65</td>\n",
       "      <td>12.38</td>\n",
       "      <td>10.59</td>\n",
       "      <td>8.59</td>\n",
       "      <td>1.54</td>\n",
       "      <td>3.14</td>\n",
       "    </tr>\n",
       "    <tr>\n",
       "      <th>2014</th>\n",
       "      <td>331.53</td>\n",
       "      <td>100.00</td>\n",
       "      <td>47.76</td>\n",
       "      <td>34.74</td>\n",
       "      <td>43.76</td>\n",
       "      <td>54.07</td>\n",
       "      <td>22.03</td>\n",
       "      <td>13.28</td>\n",
       "      <td>11.90</td>\n",
       "      <td>3.75</td>\n",
       "      <td>NaN</td>\n",
       "      <td>0.24</td>\n",
       "    </tr>\n",
       "    <tr>\n",
       "      <th>2015</th>\n",
       "      <td>267.98</td>\n",
       "      <td>118.90</td>\n",
       "      <td>16.82</td>\n",
       "      <td>11.96</td>\n",
       "      <td>27.78</td>\n",
       "      <td>60.14</td>\n",
       "      <td>16.35</td>\n",
       "      <td>8.52</td>\n",
       "      <td>6.25</td>\n",
       "      <td>1.14</td>\n",
       "      <td>NaN</td>\n",
       "      <td>0.12</td>\n",
       "    </tr>\n",
       "    <tr>\n",
       "      <th>2016</th>\n",
       "      <td>129.94</td>\n",
       "      <td>69.25</td>\n",
       "      <td>3.60</td>\n",
       "      <td>1.52</td>\n",
       "      <td>15.14</td>\n",
       "      <td>26.15</td>\n",
       "      <td>4.60</td>\n",
       "      <td>5.25</td>\n",
       "      <td>4.25</td>\n",
       "      <td>0.18</td>\n",
       "      <td>NaN</td>\n",
       "      <td>NaN</td>\n",
       "    </tr>\n",
       "    <tr>\n",
       "      <th>Total</th>\n",
       "      <td>1446.44</td>\n",
       "      <td>314.14</td>\n",
       "      <td>288.78</td>\n",
       "      <td>236.54</td>\n",
       "      <td>194.61</td>\n",
       "      <td>159.32</td>\n",
       "      <td>82.19</td>\n",
       "      <td>62.57</td>\n",
       "      <td>49.18</td>\n",
       "      <td>35.37</td>\n",
       "      <td>12.55</td>\n",
       "      <td>11.19</td>\n",
       "    </tr>\n",
       "  </tbody>\n",
       "</table>\n",
       "</div>"
      ],
      "text/plain": [
       "platform           Total     PS4     PS3    X360     3DS    XOne   WiiU  \\\n",
       "year_of_release                                                           \n",
       "2012              355.75     NaN  107.35   99.74   51.36     NaN  17.56   \n",
       "2013              361.24   25.99  113.25   88.58   56.57   18.96  21.65   \n",
       "2014              331.53  100.00   47.76   34.74   43.76   54.07  22.03   \n",
       "2015              267.98  118.90   16.82   11.96   27.78   60.14  16.35   \n",
       "2016              129.94   69.25    3.60    1.52   15.14   26.15   4.60   \n",
       "Total            1446.44  314.14  288.78  236.54  194.61  159.32  82.19   \n",
       "\n",
       "platform            PC    PSV    Wii     DS    PSP  \n",
       "year_of_release                                     \n",
       "2012             23.14  16.19  21.71  11.01   7.69  \n",
       "2013             12.38  10.59   8.59   1.54   3.14  \n",
       "2014             13.28  11.90   3.75    NaN   0.24  \n",
       "2015              8.52   6.25   1.14    NaN   0.12  \n",
       "2016              5.25   4.25   0.18    NaN    NaN  \n",
       "Total            62.57  49.18  35.37  12.55  11.19  "
      ]
     },
     "execution_count": 28,
     "metadata": {},
     "output_type": "execute_result"
    }
   ],
   "source": [
    "data_pivot_actual = data_actual.pivot_table(values='total_sales', \n",
    "                                     index='year_of_release', \n",
    "                                     columns='platform', \n",
    "                                     aggfunc='sum', \n",
    "                                     margins=True,\n",
    "                                     margins_name='Total')\\\n",
    ".sort_values(by='Total', axis=1, ascending=False)\\\n",
    "#.drop(labels='Total', axis=1)\n",
    "\n",
    "data_pivot_actual"
   ]
  },
  {
   "cell_type": "markdown",
   "metadata": {},
   "source": [
    "Выборка платформ за последние 5 лет значительно меньше, что ожидаемо с учетом сделанного ранее вывода о сроке жизни платформ. Визуализируем данные:"
   ]
  },
  {
   "cell_type": "markdown",
   "metadata": {},
   "source": [
    "<div class=\"alert-warning\">\n",
    "<b>Комментарий ревьюера ⚠️</b>\n",
    "\n",
    "Все импорты библиотек лучше собрать в одной ячейке в самом начале проекта.</div>"
   ]
  },
  {
   "cell_type": "markdown",
   "metadata": {},
   "source": [
    "<div class=\"alert alert-info\"> <b>Комментарии студента:</b> Принято и исправлено.</div>"
   ]
  },
  {
   "cell_type": "markdown",
   "metadata": {},
   "source": [
    "<div class=\"alert-success\">\n",
    "<b>Комментарий ревьюера V2 ✔️</b>\n",
    "\n",
    "👍</div>"
   ]
  },
  {
   "cell_type": "code",
   "execution_count": 29,
   "metadata": {},
   "outputs": [
    {
     "data": {
      "image/png": "[encoded data removed]",
      "text/plain": [
       "<Figure size 1080x576 with 1 Axes>"
      ]
     },
     "metadata": {
      "needs_background": "light"
     },
     "output_type": "display_data"
    }
   ],
   "source": [
    "data_pivot_actual.loc[2012:2016]\\\n",
    ".plot(figsize=(15, 8), xlabel='Year')\n",
    "\n",
    "#data_pivot_actual.index\n",
    "plt.xticks(ticks=[2012, 2013, 2014, 2015, 2016]);"
   ]
  },
  {
   "cell_type": "markdown",
   "metadata": {},
   "source": [
    "График выглядит не очень оптимистично - общие продажи игр уменьшаются и за последние 5 лет сократились более чем вдвое. Отрицательные тенденции наблюдаются практически на всех платформах, из общей картины можно выделить лишь `PS4` и `XOne`, которые являются самыми молодыми и, видимо именно поэтому, показавшие рост с 2013 по 2015 годы.\n",
    "\n",
    "Тенденция общего снижения продаж выглядит не совсем понятной, возможно в данных не хватает информации по играм с какой-то новой платформы, которая и забрала к себе пользователей. Но чтобы проверить эту теорию имеющейся информации недостаточно.\n",
    "\n",
    "Стоит учесть, что на графиках не учитываются те игры, год выпуска которых неизвестен. На всякий случай проверим влияние этих игр, найдя сумму проданных копий по платформам, попавшим в актуальный период:"
   ]
  },
  {
   "cell_type": "code",
   "execution_count": 30,
   "metadata": {
    "scrolled": true
   },
   "outputs": [
    {
     "data": {
      "text/plain": [
       "platform\n",
       "3DS      1.19\n",
       "DS       3.34\n",
       "PC       3.76\n",
       "PS3      7.83\n",
       "PSP      4.52\n",
       "PSV      0.26\n",
       "Wii     16.33\n",
       "X360    10.18\n",
       "Name: total_sales, dtype: float64"
      ]
     },
     "execution_count": 30,
     "metadata": {},
     "output_type": "execute_result"
    }
   ],
   "source": [
    "data[\n",
    "    (data['year_of_release'] == 0) &\n",
    "    (data['platform'].isin(data_pivot_actual.columns))\n",
    "]\\\n",
    ".groupby(by='platform')\\\n",
    "['total_sales']\\\n",
    ".sum()"
   ]
  },
  {
   "cell_type": "markdown",
   "metadata": {},
   "source": [
    "Почти 50 млн копий, довольно большое значение, но даже оно не изменит тенденцию общих продаж.\n",
    "\n",
    "Возвращаясь к общему графику выделим 3 платформы, имеющих наибольшее количество продаж на 2016г.: `PS4`, `XOne`, `3DS`. Именно на этих платформах (из имеющегося списка) стоит сконцентрироваться для достижения наибольших показателей по продажам в 2017 г. Следует учитывать, что даже эти лидеры показывают уменьшение продаж, что также должно быть учтено при принятии бизнесс решений.\n",
    "\n"
   ]
  },
  {
   "cell_type": "markdown",
   "metadata": {},
   "source": [
    "<div class=\"alert-success\">\n",
    "<b>Комментарий ревьюера ✔️</b>\n",
    "    \n",
    "С выбором потенциально прибыльных платформ согласен.</div>"
   ]
  },
  {
   "cell_type": "markdown",
   "metadata": {},
   "source": [
    "#### Построение графика разброса значений глобальных продаж по платформам:"
   ]
  },
  {
   "cell_type": "code",
   "execution_count": 31,
   "metadata": {},
   "outputs": [
    {
     "data": {
      "image/png": "[encoded data removed]",
      "text/plain": [
       "<Figure size 1080x720 with 1 Axes>"
      ]
     },
     "metadata": {
      "needs_background": "light"
     },
     "output_type": "display_data"
    }
   ],
   "source": [
    "data_actual.pivot_table(index='name', columns='platform', values='total_sales', aggfunc=sum)\\\n",
    ".plot(kind='box', figsize=(15, 10)); "
   ]
  },
  {
   "cell_type": "markdown",
   "metadata": {},
   "source": [
    "Данный график дает представление о степени разброса значений продаж игр для разных платформ. На этом масштабе видно, что в основной массе продажи игр имеют близкие значения. Но у некоторых платформ имеются выбросы, указывающие на крайне удачные в продажах тайтлы. К таким платформам отнсятся: `3DS`, `PS3`, `PS4`, `X360`.\n",
    "\n",
    "Увеличим масштаб и посмотрим ближе на основную массу значений продаж:"
   ]
  },
  {
   "cell_type": "code",
   "execution_count": 32,
   "metadata": {
    "scrolled": false
   },
   "outputs": [
    {
     "data": {
      "image/png": "[encoded data removed]",
      "text/plain": [
       "<Figure size 1080x720 with 1 Axes>"
      ]
     },
     "metadata": {
      "needs_background": "light"
     },
     "output_type": "display_data"
    }
   ],
   "source": [
    "data_actual.pivot_table(index='name', columns='platform', values='total_sales', aggfunc=sum)\\\n",
    ".plot(kind='box', figsize=(15, 10), ylim=(0, 2)); "
   ]
  },
  {
   "cell_type": "markdown",
   "metadata": {},
   "source": [
    "На этом графике лучше видны распределения по основной массе продаж на разных платформах. Различия в среднем значении между платформами не очень большое. А вот значения выбросов отличаются в десятки раз. Платформы с большими средними продажами показывают и наибольшее количество популярных тайтлов. На это стоит обратить при выборе платформ для развития продаж."
   ]
  },
  {
   "cell_type": "markdown",
   "metadata": {},
   "source": [
    "<div class=\"alert-danger\">\n",
    "<b>Комментарий ревьюера ❌</b> \n",
    "\n",
    "Группировка по годам в данном случае не нужна, с ней у нас несколько значений всего будет на каждую консоль, по одному на год. Тут идея другая: рассмотреть распределение продаж по всем играм. </div>"
   ]
  },
  {
   "cell_type": "markdown",
   "metadata": {},
   "source": [
    "<div class=\"alert alert-info\"> <b>Комментарии студента:</b> Суть замечания кажется понял. Решил через сводную таблицу, чтобы отобразить все на одном графике, но не уверен, что это лучшее решение. Буду признателе за подсказку, если есть другие варианты решения.</div>"
   ]
  },
  {
   "cell_type": "markdown",
   "metadata": {},
   "source": [
    "<div class=\"alert-warning\">\n",
    "<b>Комментарий ревьюера V2 ⚠️</b>\n",
    "\n",
    "Для того чтобы вывести диаграмму размаха совсем не нужно агрегировать данные в сводную таблицу. 👇</div>"
   ]
  },
  {
   "cell_type": "code",
   "execution_count": 33,
   "metadata": {},
   "outputs": [
    {
     "data": {
      "image/png": "[encoded data removed]",
      "text/plain": [
       "<Figure size 1080x648 with 1 Axes>"
      ]
     },
     "metadata": {
      "needs_background": "light"
     },
     "output_type": "display_data"
    }
   ],
   "source": [
    "# Код ревьюера\n",
    "import seaborn as sns\n",
    "\n",
    "plt.figure(figsize= (15, 9))\n",
    "sns.boxplot(x = data_actual['platform'], y = data_actual['total_sales'])\n",
    "plt.title('График \"ящики с усами в разбивке по платформам\"')\n",
    "plt.ylim(0, 3)\n",
    "plt.show()"
   ]
  },
  {
   "cell_type": "markdown",
   "metadata": {},
   "source": [
    "#### Взаимосвязь между оценками пользователей и критиков и продажами\n",
    "\n",
    "Выберем наиболее популярную платформу из актуального периода и рассчитаем корреляцию между оценками критиков и общими продажами игр:"
   ]
  },
  {
   "cell_type": "code",
   "execution_count": 34,
   "metadata": {},
   "outputs": [
    {
     "data": {
      "text/plain": [
       "0.406567902061781"
      ]
     },
     "metadata": {},
     "output_type": "display_data"
    },
    {
     "data": {
      "image/png": "[encoded data removed]",
      "text/plain": [
       "<Figure size 1080x360 with 1 Axes>"
      ]
     },
     "metadata": {
      "needs_background": "light"
     },
     "output_type": "display_data"
    }
   ],
   "source": [
    "display(\n",
    "    data_actual[(data_actual['platform'] == 'PS4') &\n",
    "                (data_actual['critic_score'] != -1)]\\\n",
    "    ['total_sales']\\\n",
    "    .corr(data_actual['critic_score'])\n",
    ")\n",
    "\n",
    "data_actual[data_actual['platform'] == 'PS4']\\\n",
    ".plot(x='total_sales',\n",
    "      y='critic_score',\n",
    "      kind='scatter',\n",
    "      grid=True,\n",
    "      figsize=(15,5),\n",
    "      alpha=0.3,\n",
    "      ylim=(0,100)); # Учитываем только реальные оценки"
   ]
  },
  {
   "cell_type": "markdown",
   "metadata": {},
   "source": [
    "Коэффициент корреляции довольно низок, а график наглядно показывает, что вне зависимости от оценок критиков игры могут продаваться плохо. Также стоит отметить, что у игр с высокими продажами высокие оценки критиков (хотя прямой взаимосвязи нет).\n",
    "\n",
    "Рассчитаем корреляцию между оценками пользователей и общими продажами игр:"
   ]
  },
  {
   "cell_type": "code",
   "execution_count": 35,
   "metadata": {},
   "outputs": [
    {
     "data": {
      "text/plain": [
       "0.0012601648838544825"
      ]
     },
     "metadata": {},
     "output_type": "display_data"
    },
    {
     "data": {
      "image/png": "[encoded data removed]",
      "text/plain": [
       "<Figure size 1080x360 with 1 Axes>"
      ]
     },
     "metadata": {
      "needs_background": "light"
     },
     "output_type": "display_data"
    }
   ],
   "source": [
    "display(\n",
    "    data_actual[(data_actual['platform'] == 'PS4') &\n",
    "                (data_actual['critic_score'] != -1)]\\\n",
    "    ['total_sales']\\\n",
    "    .corr(data_actual['user_score'])\n",
    ")\n",
    "\n",
    "data_actual[data_actual['platform'] == 'PS4']\\\n",
    ".plot(x='total_sales', \n",
    "      y='user_score',\n",
    "      kind='scatter',\n",
    "      grid=True,\n",
    "      figsize=(15,5),\n",
    "      alpha=0.3,\n",
    "      ylim=(0,10)); # Учитываем только реальные оценки"
   ]
  },
  {
   "cell_type": "markdown",
   "metadata": {},
   "source": [
    "<div class=\"alert-success\">\n",
    "<b>Комментарий ревьюера V3 ✔️</b>\n",
    "\n",
    "Верно, такие коэффициенты корреляции могут говорить о том, что на PS4 оценки критиков сильнее влияют на успешность игры.</div>"
   ]
  },
  {
   "cell_type": "markdown",
   "metadata": {},
   "source": [
    "К-нт корреляции здесь практически равен нулю, что может объясняться субъктивностью оценок. И, в отличии от критиков, пользователи ставят низкие оценки вне зависимости от показателей продаж.\n",
    "\n",
    "Следует полагать, что аналогичные выводы справедливы и для других платформ, а значит, при планировании бизнес решений в целях увеличения продаж, не стоит полагаться только на оценки критиков и пользователей. Проверим эту теорию построив графики корреляции и для двух других популярных в последние годы платформ."
   ]
  },
  {
   "cell_type": "code",
   "execution_count": 36,
   "metadata": {
    "scrolled": false
   },
   "outputs": [
    {
     "data": {
      "image/png": "[encoded data removed]",
      "text/plain": [
       "<Figure size 1080x288 with 1 Axes>"
      ]
     },
     "metadata": {
      "needs_background": "light"
     },
     "output_type": "display_data"
    },
    {
     "data": {
      "image/png": "[encoded data removed]",
      "text/plain": [
       "<Figure size 1080x288 with 1 Axes>"
      ]
     },
     "metadata": {
      "needs_background": "light"
     },
     "output_type": "display_data"
    }
   ],
   "source": [
    "platforms_actual = ['XOne', '3DS']\n",
    "\n",
    "for i in range(0, len(platforms_actual)):\n",
    "    data_actual[data_actual['platform'] == platforms_actual[i]]\\\n",
    "    .plot(x='total_sales',\n",
    "          y='critic_score',\n",
    "          kind='scatter', \n",
    "          grid=True,\n",
    "          alpha=0.3,\n",
    "          title=f'{platforms_actual[i]}',\n",
    "          ylim=(0,100),\n",
    "         figsize=(15, 4));"
   ]
  },
  {
   "cell_type": "markdown",
   "metadata": {},
   "source": [
    "И для отзывов пользователей:"
   ]
  },
  {
   "cell_type": "code",
   "execution_count": 37,
   "metadata": {
    "scrolled": false
   },
   "outputs": [
    {
     "data": {
      "image/png": "[encoded data removed]",
      "text/plain": [
       "<Figure size 1080x288 with 1 Axes>"
      ]
     },
     "metadata": {
      "needs_background": "light"
     },
     "output_type": "display_data"
    },
    {
     "data": {
      "image/png": "[encoded data removed]",
      "text/plain": [
       "<Figure size 1080x288 with 1 Axes>"
      ]
     },
     "metadata": {
      "needs_background": "light"
     },
     "output_type": "display_data"
    }
   ],
   "source": [
    "for i in range(0, len(platforms_actual)):\n",
    "    data_actual[data_actual['platform'] == platforms_actual[i]]\\\n",
    "    .plot(x='total_sales',\n",
    "          y='user_score',\n",
    "          kind='scatter', \n",
    "          grid=True,\n",
    "          alpha=0.3,\n",
    "          title=f'{platforms_actual[i]}',\n",
    "          ylim=(0,10),\n",
    "         figsize=(15, 4));"
   ]
  },
  {
   "cell_type": "markdown",
   "metadata": {},
   "source": [
    "Также расчитаем коэффициент корреляции между отзывами для этих платформ и продажами игр:"
   ]
  },
  {
   "cell_type": "code",
   "execution_count": 38,
   "metadata": {
    "scrolled": false
   },
   "outputs": [
    {
     "name": "stdout",
     "output_type": "stream",
     "text": [
      "Коэффициент корреляции critic_score и total_sales для PS4\n",
      "0.40589480145836687\n",
      "Коэффициент корреляции user_score и total_sales для PS4\n",
      "-0.03362497447207173\n",
      "\n",
      "Коэффициент корреляции critic_score и total_sales для 3DS\n",
      "0.31055301915326294\n",
      "Коэффициент корреляции user_score и total_sales для 3DS\n",
      "0.20181252441109135\n",
      "\n"
     ]
    }
   ],
   "source": [
    "cor_list = ['critic_score', 'user_score']\n",
    "platforms = ['PS4', '3DS']\n",
    "\n",
    "for current_platform in platforms:\n",
    "    platform_actual = data_actual.query('platform == @current_platform & user_score > 0 & critic_score > 0')\n",
    "    for value in cor_list:\n",
    "        print('Коэффициент корреляции', value, 'и total_sales для', current_platform)       \n",
    "        print(platform_actual[value].corr(platform_actual['total_sales']))\n",
    "    print()"
   ]
  },
  {
   "cell_type": "markdown",
   "metadata": {},
   "source": [
    "Таким образом наглядно видно, что между отзывами как критиков, так и пользователей и продажами нет прямой связи и для других популярных платформ."
   ]
  },
  {
   "cell_type": "markdown",
   "metadata": {},
   "source": [
    "<div class=\"alert-danger\">\n",
    "<b>Комментарий ревьюера ❌</b> \n",
    "\n",
    "Обрати внимание, что ты считаешь корреляцию по данным, которые включают значения-заглушки - которыми ты заменял пропуски на этапе предобработки, а это сильно искажает результат.\n",
    "\n",
    "Кроме того, ты посчитал корреляцию только по одной платформе, а по заданию нужно сравнить ситуацию на нескольких популярных платформах.</div>"
   ]
  },
  {
   "cell_type": "markdown",
   "metadata": {},
   "source": [
    "<div class=\"alert alert-info\"> <b>Комментарии студента:</b> Добавил графики для еще двух популярных платформ. Исключил из расчета коэффициента \"заглушки\".</div>"
   ]
  },
  {
   "cell_type": "markdown",
   "metadata": {},
   "source": [
    "<div class=\"alert-danger\">\n",
    "<b>Комментарий ревьюера V2 ❌</b> \n",
    "\n",
    "У меня получаются другие результаты, возьмем к примеру PS4 👇 Нужно будет пересчитать коэффициенты и вывод возможно изменится.</div>"
   ]
  },
  {
   "cell_type": "markdown",
   "metadata": {},
   "source": [
    "<div class=\"alert alert-info\"> <b>Комментарии студента **V2**:</b> Расчитал коэфициенты, но мне кажется вывод из-за этого не поменялся, так как значения далеки от 1. Тем, что один из к-тов оказался отрициательным </div>"
   ]
  },
  {
   "cell_type": "code",
   "execution_count": 39,
   "metadata": {},
   "outputs": [
    {
     "name": "stdout",
     "output_type": "stream",
     "text": [
      "Коэффициент корреляции critic_score и total_sales\n",
      "0.40589480145836687\n",
      "\n",
      "Коэффициент корреляции user_score и total_sales\n",
      "-0.03362497447207173\n",
      "\n"
     ]
    }
   ],
   "source": [
    "# Код ревьюера\n",
    "games_actual_PS4 = data_actual.query('platform == \"PS4\" & user_score > 0 & critic_score > 0')\n",
    "\n",
    "cor_list = ['critic_score', 'user_score']\n",
    "\n",
    "for value in cor_list:\n",
    "    print('Коэффициент корреляции', value, 'и total_sales')\n",
    "    print(games_actual_PS4[value].corr(games_actual_PS4['total_sales']))\n",
    "    print()"
   ]
  },
  {
   "cell_type": "markdown",
   "metadata": {},
   "source": [
    "<div class=\"alert-success\">\n",
    "<b>Комментарий ревьюера V3 ✔️</b>\n",
    "\n",
    "Теперь коэффициенты корреляции рассчитаны верно!\n",
    "    \n",
    "</div>"
   ]
  },
  {
   "cell_type": "markdown",
   "metadata": {},
   "source": [
    "#### Влияние жанров на продажи\n",
    "\n",
    "Посмотрим на распределение игр по жанрам:"
   ]
  },
  {
   "cell_type": "code",
   "execution_count": 40,
   "metadata": {},
   "outputs": [
    {
     "data": {
      "image/png": "[encoded data removed]",
      "text/plain": [
       "<Figure size 1080x360 with 1 Axes>"
      ]
     },
     "metadata": {
      "needs_background": "light"
     },
     "output_type": "display_data"
    }
   ],
   "source": [
    "data_actual.groupby(by='genre')['total_sales']\\\n",
    ".count()\\\n",
    ".sort_values(ascending=False)\\\n",
    ".plot.bar(figsize=(15, 5),\n",
    "          grid=True,\n",
    "         title='Количество выпущенных игр по жанрам');"
   ]
  },
  {
   "cell_type": "markdown",
   "metadata": {},
   "source": [
    "Жанр `Action` лидирует с большим отрывом, более 1000 игр только в актуальном периоде. Сразу за ним `RPG`, `Adventure` и `Sports`, замыкает пятерку лидеров жанр `Shooter`.\n",
    "\n",
    "Теперь посмотрим на продажи этих жанров:"
   ]
  },
  {
   "cell_type": "code",
   "execution_count": 41,
   "metadata": {},
   "outputs": [
    {
     "data": {
      "image/png": "[encoded data removed]",
      "text/plain": [
       "<Figure size 1080x360 with 1 Axes>"
      ]
     },
     "metadata": {
      "needs_background": "light"
     },
     "output_type": "display_data"
    }
   ],
   "source": [
    "data_actual.groupby(by='genre')['total_sales']\\\n",
    ".sum()\\\n",
    ".sort_values(ascending=False)\\\n",
    ".plot.bar(figsize=(15, 5),\n",
    "          grid=True,\n",
    "         title='Суммы продаж в каждом жанре');"
   ]
  },
  {
   "cell_type": "markdown",
   "metadata": {},
   "source": [
    "Первое место по продажам также занимает жанр `Action`, но отрыв по продажам значительно меньше чем по количеству игр. Затем следуют `Shooter`, `RPG` и `Sports`. А вместо `Adventure` в пятерку лидеров попали игры прочих жанров - `Misc`. \n",
    "\n",
    "Видимо количество выпущенных игр не всегда определяет суммы продаж. Чтобы подтвердить эту теорию посмотрим на график зависимости продаж от жанров: "
   ]
  },
  {
   "cell_type": "code",
   "execution_count": 42,
   "metadata": {},
   "outputs": [
    {
     "data": {
      "image/png": "[encoded data removed]",
      "text/plain": [
       "<Figure size 1080x360 with 1 Axes>"
      ]
     },
     "metadata": {
      "needs_background": "light"
     },
     "output_type": "display_data"
    }
   ],
   "source": [
    "data_actual\\\n",
    ".plot(y='total_sales', \n",
    "      x='genre',\n",
    "      kind='scatter',\n",
    "      grid=True,\n",
    "      figsize=(15,5),\n",
    "      alpha=0.3,\n",
    "      title='Распределение по продажам игр в зависимости от жанра'\n",
    "     );"
   ]
  },
  {
   "cell_type": "markdown",
   "metadata": {},
   "source": [
    "Игры с самыми большими продажами относятся к `Action`, `Shooter` и `RPG`. \n",
    "\n",
    "Посмотрим на среднее количество продаж:"
   ]
  },
  {
   "cell_type": "code",
   "execution_count": 43,
   "metadata": {},
   "outputs": [
    {
     "data": {
      "image/png": "[encoded data removed]",
      "text/plain": [
       "<Figure size 1080x360 with 1 Axes>"
      ]
     },
     "metadata": {
      "needs_background": "light"
     },
     "output_type": "display_data"
    }
   ],
   "source": [
    "data_actual.groupby(by='genre')['total_sales']\\\n",
    ".mean()\\\n",
    ".sort_values(ascending=False)\\\n",
    ".plot(kind='bar', grid=True, figsize=(15,5), title='Среднее количество продаж игр по жанрам');\n",
    "\n",
    "#plt.xticks(\n",
    "#    ticks=np.arange(len(data_actual['genre'].unique().tolist())),\n",
    "#    labels=data_actual['genre'].unique().tolist()\n",
    "#);"
   ]
  },
  {
   "cell_type": "markdown",
   "metadata": {},
   "source": [
    "<div class=\"alert-danger\">\n",
    "<b>Комментарий ревьюера ❌</b> \n",
    "\n",
    "У меня получается другой лидер по средним продажам 👇</div>"
   ]
  },
  {
   "cell_type": "markdown",
   "metadata": {},
   "source": [
    "<div class=\"alert alert-info\"> <b>Комментарии студента:</b> Ошибка заключалась в том, что я передал подписи на ось Х, которые не соответствовали значениям. Исправлено.</div>"
   ]
  },
  {
   "cell_type": "code",
   "execution_count": 44,
   "metadata": {},
   "outputs": [
    {
     "data": {
      "image/png": "[encoded data removed]",
      "text/plain": [
       "<Figure size 1080x360 with 1 Axes>"
      ]
     },
     "metadata": {
      "needs_background": "light"
     },
     "output_type": "display_data"
    }
   ],
   "source": [
    "# Код ревьюера\n",
    "data_actual.groupby('genre')['total_sales'].mean().sort_values(ascending= False)\\\n",
    "  .plot(kind = 'bar', figsize = (15,5), title = 'Средние продажи игр по жанрам')\n",
    "\n",
    "\n",
    "plt.xticks(rotation = 0)\n",
    "plt.xlabel('Жанры')\n",
    "plt.show()"
   ]
  },
  {
   "cell_type": "markdown",
   "metadata": {},
   "source": [
    "<div class=\"alert-success\">\n",
    "<b>Комментарий ревьюера V2 ✔️</b>\n",
    "\n",
    "Верно, теперь лидер прибыльности жанров поменялся.</div>"
   ]
  },
  {
   "cell_type": "markdown",
   "metadata": {},
   "source": [
    "Как видно, среди лидеров по продажам в жанрах `Action` и `RPG`, есть и менее удачные тайтлы, которые \"тянут\" среднее значение вниз. А жанр `Shooter` показывает хорошие результаты - средние продажи этого жанра выше прочих.\n",
    "\n",
    "***Выводы:***\n",
    "1) Датасет предоставляет данные за период с 1980 по 2016 годы. Условно этот период можно разделить на несколько участков:\n",
    "- 1980-1993 - становление игровой индустрии, низкие продажи;\n",
    "- 1994-2004 - быстрый рост продаж;\n",
    "- 2005-2011 - пик продаж;\n",
    "- 2012-2016 - снижение количества продаж.\n",
    "\n",
    "2) В качестве актуального периода для анализа выбран последний, так как он отображает текущего потребителя и состояние рынка;\n",
    "\n",
    "3) По общему графику распределения игр по годам и платформам сделаны следующие выводы:\n",
    "- Срок жизни платформ составляет в среднем 5-10 лет, исключение представляют персональные компьютеров;\n",
    "- Пик продаж пришелся на 2008 год, после чего наблюжается снижение общего кол-ва покупок.\n",
    "\n",
    "4) За последние 5 лет общие продажи игр сократились более чем вдвое. Среди продаж по платформам лидируют `PS4` и `XOne`, но и они показывают снижение продаж. \n",
    "\n",
    "    _Рекомендуется провести дополнительный анализ для выявления причин сокращения продаж, возможно в датасет не попали платформы, появившиеся в 2014 и более поздних годах. Появление таких платформ могло бы объяснить снижение продаж по остальным._\n",
    "\n",
    "5) В основной массе продажи игр имеют близкие средние значения. У некоторых платформ имеются выбросы, указывающие на крайне удачные в продажах тайтлы. К таким платформам отнсятся: `3DS`, `PS3`, `PS4`, `X360`. На них стоит обратить внимание при выборе платформ для развития продаж.\n",
    "\n",
    "6) Прямой взаимосвязи между оценками пользователей и критиков и продажами не выявлено.\n",
    "\n",
    "7) Лучше всего продаются игры жанра `Action`, затем следуют жанры `Shooter`, `RPG` и `Sports`. Если говорить о средних значениях продаж, то наиболее стабильно продается жанр `Shooter`."
   ]
  },
  {
   "cell_type": "markdown",
   "metadata": {},
   "source": [
    "<div class=\"alert-warning\">\n",
    "<b>Комментарий ревьюера ⚠️</b>\n",
    "\n",
    "Отдельные пункты вывода по разделу нужно будет поправить после доработок.\n",
    "\n",
    "</div>"
   ]
  },
  {
   "cell_type": "markdown",
   "metadata": {},
   "source": [
    "<div class=\"alert alert-info\"> <b>Комментарии студента:</b> Исправлено.</div>"
   ]
  },
  {
   "cell_type": "markdown",
   "metadata": {},
   "source": [
    "<div class=\"alert-success\">\n",
    "<b>Комментарий ревьюера V2 ✔️</b>\n",
    "\n",
    "Отлично! </div>"
   ]
  },
  {
   "cell_type": "markdown",
   "metadata": {},
   "source": [
    "## Составление портрета пользователя\n",
    "\n",
    "Проведем отдельный анализ для пользователей разных регионов - `NA`, `EU`, `JP`. Это поможет выстроить разную региональную политику и в целом принять решение о работе в том или ином регионе.\n",
    "\n",
    "### Для начала определим наиболее популярные платформы:"
   ]
  },
  {
   "cell_type": "code",
   "execution_count": 46,
   "metadata": {},
   "outputs": [
    {
     "data": {
      "image/png": "[encoded data removed]",
      "text/plain": [
       "<Figure size 1152x360 with 3 Axes>"
      ]
     },
     "metadata": {
      "needs_background": "light"
     },
     "output_type": "display_data"
    }
   ],
   "source": [
    "sales = ['na_sales', 'eu_sales', 'jp_sales']\n",
    "region = ['NA', 'EU', 'JP']\n",
    "\n",
    "for i in range(0, 3):\n",
    "    plt.subplot(1, 3, i+1)\n",
    "    data_actual.groupby(by='platform')[sales[i]]\\\n",
    "    .sum()\\\n",
    "    .sort_values(ascending=False)\\\n",
    "    .head(5)\\\n",
    "    .plot(kind='bar',\n",
    "          title=f'Топ-5 платформ {region[i]}',\n",
    "          figsize=(16, 5),\n",
    "          xlabel='',\n",
    "          ylim=(0, 145),\n",
    "          grid=True);"
   ]
  },
  {
   "cell_type": "markdown",
   "metadata": {},
   "source": [
    "Как видно из диаграм предпочтения пользователей в разных регионах отличаются. Три платформы популярны везде: `PS4`, `PS3`, `3DS`. Стоит учесть это, если компания планирует продавать во всех регионах одновременно. Образает на себя внимание схожесть предпочтений у пользователей `NA` и `EU` - 5-ку лидеров составляют одни и те же платформы. Возможно дело в схожести культур Европы и Северной Америки.\n",
    "Также стоит отметить, что продажи в `NA` и `EU` выше, чем в `JP`.\n",
    "\n",
    "### Теперь посмотрим какие жанры нравятся пользователям:"
   ]
  },
  {
   "cell_type": "code",
   "execution_count": 47,
   "metadata": {},
   "outputs": [
    {
     "data": {
      "image/png": "[encoded data removed]",
      "text/plain": [
       "<Figure size 1152x360 with 3 Axes>"
      ]
     },
     "metadata": {
      "needs_background": "light"
     },
     "output_type": "display_data"
    }
   ],
   "source": [
    "for i in range(0, 3):\n",
    "    plt.subplot(1, 3, i+1)\n",
    "    data_actual.groupby(by='genre')[sales[i]]\\\n",
    "    .sum()\\\n",
    "    .sort_values(ascending=False)\\\n",
    "    .head(5)\\\n",
    "    .plot(kind='bar',\n",
    "          title=f'Топ-5 жанров {region[i]}',\n",
    "          figsize=(16, 5),\n",
    "          xlabel='',\n",
    "          ylim=(0, 200),\n",
    "          grid=True);"
   ]
  },
  {
   "cell_type": "markdown",
   "metadata": {},
   "source": [
    "Наиболее популярные жанры по всему миру - `Action` и `RPG`, они вошли в пятерку во всех регионах. `Shooter` и `RPG` отлично продаются в Европе и Америке. Также снова можно увидеть, что `NA` и `EU` пользователи придерживаются практически одинаковых предпочтений. А вот игроки из Японии предпочитают несколько другие жанры.\n"
   ]
  },
  {
   "cell_type": "markdown",
   "metadata": {},
   "source": [
    "<div class=\"alert-success\">\n",
    "<b>Комментарий ревьюера ✔️</b>\n",
    "\n",
    "Портреты игроков различных регионов по платформам и жанрам составлены верно.</div>"
   ]
  },
  {
   "cell_type": "markdown",
   "metadata": {},
   "source": [
    "\n",
    "### Осталось посмотреть как на продажи в регионах влияет рейтинг `ESRB`:"
   ]
  },
  {
   "cell_type": "code",
   "execution_count": 48,
   "metadata": {},
   "outputs": [
    {
     "data": {
      "image/png": "[encoded data removed]",
      "text/plain": [
       "<Figure size 1152x360 with 3 Axes>"
      ]
     },
     "metadata": {
      "needs_background": "light"
     },
     "output_type": "display_data"
    }
   ],
   "source": [
    "for i in range(0, 3):\n",
    "    plt.subplot(1, 3, i+1)\n",
    "    data_actual.groupby(by='rating')[sales[i]]\\\n",
    "    .sum()\\\n",
    "    .sort_values(ascending=False)\\\n",
    "    .head(5)\\\n",
    "    .plot(kind='bar',\n",
    "          title=f'Топ-5 рейтингов {region[i]}',\n",
    "          figsize=(16, 5),\n",
    "          xlabel='',\n",
    "          ylim=(0, 250),\n",
    "          grid=True);"
   ]
  },
  {
   "cell_type": "markdown",
   "metadata": {},
   "source": [
    "Единомыслие `NA` и `EU` пользователей можно считать доказанным - все популярные жанры совпадают. Наибольшим успехом пользуются игры 17+, возможных причин может быть несколько, одна из них - высокий средний возраст игроков, но для проверки гипотезы нужно провести отдельное исследование.\n",
    "\n",
    "У игроков из Японии на первое место вышли игры, рейтинг которых неизвестен, для того, чтобы назвать лидера необходимо дополнить данные.\n",
    "\n",
    "***Выводы:***\n",
    "1) Предпочтения игроков по всему миру отличаются, при этом Севреная Америка и Европа имеют много общего, а японские геймеры явно имеют отличающиеся интересы;\n",
    "2) Наиболее популярные платформы по всему миру - `PS4`, `PS3`, `3DS`;\n",
    "3) Наиболее популярные жанры по всему миру - `Action` и `RPG`;\n",
    "4) Наиболее популярные жанры в Северной Америке и Европе - `M`, `E`, `E10+`, `T`. В Японии - `E`, `T`, `M`, `E10+`.\n",
    "\n"
   ]
  },
  {
   "cell_type": "markdown",
   "metadata": {},
   "source": [
    "<div class=\"alert-success\">\n",
    "<b>Комментарий ревьюера ✔️</b>\n",
    "\n",
    "Правильно, что не забыл игры без рейтинга ESRB. Их лидерство в Японии можно объяснить возможным наличием там своего стандарта для рейтингов.</div>"
   ]
  },
  {
   "cell_type": "markdown",
   "metadata": {},
   "source": [
    "## Проверка гипотез\n",
    "### Средние пользовательские рейтинги платформ Xbox One и PC одинаковые\n",
    "\n",
    "Для проверки сформулируем нулевую и альтернативную гипотезы:\n",
    "H_0: Средний пользовательский рейтинг платформы `XOne` = Средний пользовательский рейтинг платформы `PC`\n",
    "H_a: Средний пользовательский рейтинг платформы `XOne` ≠ Средний пользовательский рейтинг платформы `PC`\n",
    "\n",
    "Примем 5% уровень значимости\n",
    "alpha = 0.05\n",
    "\n",
    "Таким образом проведя тест Стьюдента мы получим вероятность того, что среднее значение рейтинга платформы `PC` близко или равно рейтингу платформы `XOne`. В качестве результата теста мы можем утверждать, что гипотеза неверна в случае если расчетная вероятность мала - другими словами вероятность равенства двух средних мало настолько, что нельзя говорить об их равенстве. Если же вероятность больше уровня значимости, значит отвергать такую гипотезу нельзя (_Прим. это не является основанием для подтверждения верности нулевой гипотезы_) "
   ]
  },
  {
   "cell_type": "code",
   "execution_count": 49,
   "metadata": {},
   "outputs": [],
   "source": [
    "from scipy import stats as st"
   ]
  },
  {
   "cell_type": "code",
   "execution_count": 50,
   "metadata": {},
   "outputs": [
    {
     "name": "stdout",
     "output_type": "stream",
     "text": [
      "0.5065923213162264\n",
      "Не получилось отвергнуть нулевую гипотезу\n"
     ]
    }
   ],
   "source": [
    "results = st.ttest_ind(\n",
    "    (data_actual[(data_actual['platform'] =='XOne') &\n",
    "                 (data_actual['user_score'] != -1)]\n",
    "     ['user_score']),\n",
    "    (data_actual[(data_actual['platform'] =='PC') & \n",
    "                 (data_actual['user_score'] != -1)]\n",
    "     ['user_score']),\n",
    "    equal_var = False)\n",
    "\n",
    "alpha = .05\n",
    "\n",
    "print(results.pvalue) # вывод значения p-value на экран \n",
    "\n",
    "if results.pvalue < alpha:\n",
    "    print('Отвергаем нулевую гипотезу')\n",
    "else:\n",
    "    print('Не получилось отвергнуть нулевую гипотезу')"
   ]
  },
  {
   "cell_type": "markdown",
   "metadata": {},
   "source": [
    "<div class=\"alert-danger\">\n",
    "<b>Комментарий ревьюера ❌</b>\n",
    "\n",
    "Метод проверки гипотезы выбран верно. Но в выборках не должно быть значений-заглушек 👇, тогда результат будет достоверный.</div>"
   ]
  },
  {
   "cell_type": "markdown",
   "metadata": {},
   "source": [
    "<div class=\"alert alert-info\"> <b>Комментарии студента:</b> Исправлено.</div>"
   ]
  },
  {
   "cell_type": "markdown",
   "metadata": {},
   "source": [
    "<div class=\"alert-success\">\n",
    "<b>Комментарий ревьюера V2 ✔️</b>\n",
    "\n",
    "Результат проверки гипотезы правильный.</div>"
   ]
  },
  {
   "cell_type": "code",
   "execution_count": 51,
   "metadata": {},
   "outputs": [
    {
     "data": {
      "text/plain": [
       "<AxesSubplot:>"
      ]
     },
     "execution_count": 51,
     "metadata": {},
     "output_type": "execute_result"
    },
    {
     "data": {
      "image/png": "[encoded data removed]",
      "text/plain": [
       "<Figure size 432x288 with 1 Axes>"
      ]
     },
     "metadata": {
      "needs_background": "light"
     },
     "output_type": "display_data"
    }
   ],
   "source": [
    "# Код ревьюера\n",
    "data_actual[data_actual['platform'] =='XOne']['user_score'].hist()"
   ]
  },
  {
   "cell_type": "markdown",
   "metadata": {},
   "source": [
    "**Вывод:** По результатам теста исключить нулевую гипотезу нельзя, а значит средние пользовательские рейтинги платформ `Xbox One` и `PC` могут быть одинаковыми.\n",
    "\n",
    "### Средние пользовательские рейтинги жанров Action  и Sports разные\n",
    "\n",
    "H_0: Средний пользовательский рейтинг жанра `Action` = Средний пользовательский рейтинг жанра `Sports`\n",
    "H_a: Средний пользовательский рейтинг жанра `Action` ≠ Средний пользовательский рейтинг жанра `Sports`\n",
    "\n",
    "Примем 5% уровень значимости\n",
    "alpha = 0.05"
   ]
  },
  {
   "cell_type": "code",
   "execution_count": 52,
   "metadata": {},
   "outputs": [
    {
     "name": "stdout",
     "output_type": "stream",
     "text": [
      "5.989172574568752e-20\n",
      "Отвергаем нулевую гипотезу\n"
     ]
    }
   ],
   "source": [
    "results = st.ttest_ind(\n",
    "    (data_actual[\n",
    "        (data_actual['genre'] =='Action') &\n",
    "        (data_actual['user_score'] != -1)]\n",
    "     ['user_score']),\n",
    "    (data_actual[(data_actual['genre'] =='Sports') &\n",
    "                 (data_actual['user_score'] != -1)]\n",
    "     ['user_score']),\n",
    "    equal_var = False)\n",
    "\n",
    "alpha = .05\n",
    "\n",
    "print(results.pvalue) # вывод значения p-value на экран \n",
    "\n",
    "if results.pvalue < alpha:\n",
    "    print('Отвергаем нулевую гипотезу')\n",
    "else:\n",
    "    print('Не получилось отвергнуть нулевую гипотезу')"
   ]
  },
  {
   "cell_type": "markdown",
   "metadata": {},
   "source": [
    "**Вывод:** По результатам теста мы должны отвергнуть нулевую теорию, а значит средние пользовательские рейтинги жанров Action  и Sports отличаются."
   ]
  },
  {
   "cell_type": "markdown",
   "metadata": {},
   "source": [
    "<div class=\"alert-danger\">\n",
    "<b>Комментарий ревьюера ❌</b>\n",
    "\n",
    "Аналогично и по проверке второй гипотезы.</div>"
   ]
  },
  {
   "cell_type": "markdown",
   "metadata": {},
   "source": [
    "<div class=\"alert alert-info\"> <b>Комментарии студента:</b> Исправлено.</div>"
   ]
  },
  {
   "cell_type": "markdown",
   "metadata": {},
   "source": [
    "<div class=\"alert-success\">\n",
    "<b>Комментарий ревьюера V2 ✔️</b>\n",
    "\n",
    "Здесь тоже теперь все верно.</div>"
   ]
  },
  {
   "cell_type": "markdown",
   "metadata": {},
   "source": [
    "<div class=\"alert-warning\">\n",
    "<b>Комментарий ревьюера V2 ⚠️</b>\n",
    "\n",
    "Хорошо бы сформулировать краткий вывод по этому разделу проверки гипотез.</div>"
   ]
  },
  {
   "cell_type": "markdown",
   "metadata": {},
   "source": [
    "## Общий вывод\n",
    "### Исходная задача\n",
    "Необходимо провести анализ исторических сведений о продажах игр на разных платформах в разных регионах. Результаты анализа будут использованы для построения стратегии продаж и маркетинговых компаний в 2017 году.\n",
    "\n",
    "Исходные данные содержат 16715 записей, каждая из которых предоставляет сведения об игре: название, платформа, год выпуска, продажи по регионам, рейтинг и возрастные ограничения. Данные представлены более чем за 30 лет, с 1980 года.\n",
    "\n",
    "**Цели исследования:**\n",
    "1. Определить для пользователя каждого региона (NA, EU, JP):\n",
    "    - Самые популярные платформы (топ-5);\n",
    "    - Самые популярные жанры (топ-5);\n",
    "    - Влияние рейтинга ESRB на продажи в отдельном регионе.\n",
    "2. Проверить гипотезы:\n",
    "    - Средние пользовательские рейтинги платформ Xbox One и PC одинаковые;\n",
    "    - Средние пользовательские рейтинги жанров Action и Sports разные.\n",
    "\n",
    "### Обработка данных\n",
    "- Названия приведены к \"нормальному\" типу;\n",
    "- Следующим образом обработаны пропуски:\n",
    "    - столбец `name`, 2 пропуска - заменены на `Unknown`;\n",
    "    - столбец `year_of_release`, 269 пропусков - заменены на `0`;\n",
    "    - столбец `genre`, 2 пропуска - заменены на `Unknown`;\n",
    "    - столбец `critic_score`, 8578 пропусков - заменены на `-1`;\n",
    "    - столбец `user_score`, 6701 пропуск - заменены на `-1`;\n",
    "    - столбец `rating`, 6766 пропусков - заменены на `Unknown`.\n",
    "- Значения `tbd` в `user_score` заменены на `-1`;\n",
    "- Обнаружены и удалены 5 дубликатов по паре \"название игры - платформа\";\n",
    "- Изменены типы данных:\n",
    "    - `year_of_release` на тип `int16`;\n",
    "    - `critic_score` на тип `int8`;\n",
    "    - `user_score` на тип `float32`;\n",
    "    - `user_score` на тип `float32`;\n",
    "- Добавлен столбец с общими продажами - `total_sales`.\n",
    "\n",
    "### Анализ данных\n",
    "1) Датасет предоставляет данные за период с 1980 по 2016 годы. Условно этот период можно разделить на несколько участков:\n",
    "- 1980-1993 - становление игровой индустрии, низкие продажи;\n",
    "- 1994-2004 - быстрый рост продаж;\n",
    "- 2005-2011 - пик продаж;\n",
    "- 2012-2016 - снижение количества продаж.\n",
    "\n",
    "2) В качестве актуального периода для анализа выбран последний, так как он отображает текущего потребителя и состояние рынка;\n",
    "\n",
    "3) По общему графику распределения игр по годам и платформам сделаны следующие выводы:\n",
    "- Срок жизни платформ составляет в среднем 5-10 лет, исключение представляют персональные компьютеров;\n",
    "- Пик продаж пришелся на 2008 год, после чего наблюжается снижение общего кол-ва покупок.\n",
    "\n",
    "4) За последние 5 лет общие продажи игр сократились более чем вдвое. Среди продаж по платформам лидируют `PS4` и `XOne`, но и они показывают снижение продаж. \n",
    "\n",
    "    (_Рекомендуется провести дополнительный анализ для выявления причин сокращения продаж, возможно в датасет не попали платформы, появившиеся в 2014 и более поздних годах. Появление таких платформ могло бы объяснить снижение продаж по остальным._)\n",
    "\n",
    "5) В основной массе продажи игр имеют близкие средние значения. У некоторых платформ имеются выбросы, указывающие на крайне удачные в продажах тайтлы. К таким платформам отнсятся: `3DS`, `PS3`, `PS4`, `X360`. На них стоит обратить внимание при выборе платформ для развития продаж.\n",
    "\n",
    "6) Прямой взаимосвязи между оценками пользователей и критиков и продажами не выявлено.\n",
    "\n",
    "7) Лучше всего продаются игры жанра `Action`, затем следуют жанры `Shooter`, `RPG` и `Sports`. Если говорить о средних значениях продаж, то наиболее стабильно продается жанр `Shooter`.\n",
    "\n",
    "### Предпочтения пользователей\n",
    "1) Предпочтения игроков по всему миру отличаются, при этом Севреная Америка и Европа имеют много общего, а японские геймеры явно имеют отличающиеся интересы;\n",
    "\n",
    "2) Наиболее популярные платформы по всему миру - `PS4`, `PS3`, `3DS`;\n",
    "\n",
    "3) Наиболее популярные жанры по всему миру - `Action`, `Shooter` и `RPG`;\n",
    "\n",
    "4) Наиболее популярные жанры в Северной Америке и Европе - `M`, `E`, `E10+`, `T`. В Японии - `E`, `T`, `M`, `E10+`.\n",
    "\n",
    "### Проверка гипотез\n",
    "1) Средние пользовательские рейтинги платформ Xbox One и PC одинаковые\n",
    "    \n",
    "    * По результатам теста исключить нулевую гипотезу нельзя, а значит средние пользовательские рейтинги платформ `Xbox One` и `PC` могут быть одинаковыми.\n",
    "    \n",
    "2) Средние пользовательские рейтинги жанров Action  и Sports разные\n",
    "    \n",
    "    * По результатам теста мы должны отвергнуть нулевую теорию, а значит средние пользовательские рейтинги жанров Action  и Sports отличаются.\n",
    "    \n",
    "### Рекомендации\n",
    "\n",
    "В целях достижения наибольших показателей продаж рекомендуется сосредоточиться на регионах `NA` и `EU`, так как объемы продаж в них наибольшие. Говоря о платформах, следует в первую очередь сконцентрировать внимание на `PS3`, `PS4`, `X360`, в этих регионах они наиболее востребованы. Учитывая снижение спроса потребителя необходимо провести дополнительный анализ рынка, вероятнее всего есть новые платформы, которые забрали значительную часть пользователей, а значит с ётими платформами можно добиться более высоких показателей продаж.\n",
    "\n",
    "Говоря о жанрах, наиболее перспективными являются `Action`, `Shooter` и `RPG`. \n",
    "\n",
    "По рейтингу безусловным лидером является `M`, продажи этих игр самые высокие."
   ]
  },
  {
   "cell_type": "markdown",
   "metadata": {},
   "source": [
    "<div class=\"alert-success\">\n",
    "<b>Комментарий ревьюера ✔️</b>\n",
    "\n",
    "У тебя получился очень подробный общий вывод, отражающий все основные результаты исследования. \n",
    "\n",
    "Отдельные пункты вывода надо будет немного скорректировать после внесения изменений в работу.\n",
    "\n",
    "Не хватает только рекомендаций магазину видеоигр, для которого мы проводили исследование. Подумай пожалуйста как их можно сформулировать, на каких платформах, жанрах и рейтингах, в каких регионах им нужно сконцентрироваться?</div>"
   ]
  },
  {
   "cell_type": "markdown",
   "metadata": {},
   "source": [
    "<div style=\"border:solid blue 3px; padding: 20px\">\n",
    "<b>Общий комментарий ревьюера:</b>\n",
    "\n",
    "Проделана большая работа, но нужно кое-что поправить чтобы я ее принял.\n",
    "    \n",
    "Есть несколько критических замечаний:\n",
    "- по графику \"ящики с усами\"\n",
    "- по определению корреляций оценок и продаж\n",
    "- по оценке прибыльности жанров\n",
    "- по проверке гипотез\n",
    "   \n",
    "Также, постарайся отработать желтые комментарии.\n",
    "    \n",
    "Буду ждать твой доработанный проект. ⌛️</div>"
   ]
  },
  {
   "cell_type": "markdown",
   "metadata": {},
   "source": [
    "<div style=\"border:solid blue 3px; padding: 20px\">\n",
    "<b>Общий комментарий ревьюера V2</b>\n",
    "\n",
    "Спасибо, что дорабатываешь проект. У меня остались вопросы только к расчету корреляций. Я оставил пример, как можно быстро все посчитать для нескольких платформ.\n",
    "\n",
    "Уверен ты быстро с этим справишься.\n",
    "\n",
    "</div>"
   ]
  },
  {
   "cell_type": "markdown",
   "metadata": {},
   "source": [
    "<div style=\"border:solid blue 3px; padding: 20px\">\n",
    "<b>Общий комментарий ревьюера V3</b>\n",
    "\n",
    "Критические замечания исправлены. У тебя получилась очень хорошая работа: отличный код, наглядные графики и правильные выводы.\n",
    "\n",
    "Успехов в дальнейшем обучении!🤝\n",
    "\n",
    "</div>"
   ]
  },
  {
   "cell_type": "code",
   "execution_count": null,
   "metadata": {},
   "outputs": [],
   "source": []
  }
 ],
 "metadata": {
  "ExecuteTimeLog": [
   {
    "duration": 566,
    "start_time": "2022-12-20T13:28:06.151Z"
   },
   {
    "duration": 108,
    "start_time": "2022-12-20T13:28:16.646Z"
   },
   {
    "duration": 82,
    "start_time": "2022-12-20T13:28:23.479Z"
   },
   {
    "duration": 69,
    "start_time": "2022-12-20T13:33:23.956Z"
   },
   {
    "duration": 5,
    "start_time": "2022-12-20T13:33:28.529Z"
   },
   {
    "duration": 8,
    "start_time": "2022-12-20T13:35:17.576Z"
   },
   {
    "duration": 45,
    "start_time": "2022-12-20T13:40:40.836Z"
   },
   {
    "duration": 516,
    "start_time": "2022-12-20T13:40:47.232Z"
   },
   {
    "duration": 30,
    "start_time": "2022-12-20T13:40:51.457Z"
   },
   {
    "duration": 5,
    "start_time": "2022-12-20T13:41:05.894Z"
   },
   {
    "duration": 5,
    "start_time": "2022-12-20T13:42:51.610Z"
   },
   {
    "duration": 20,
    "start_time": "2022-12-20T13:42:59.865Z"
   },
   {
    "duration": 4,
    "start_time": "2022-12-20T13:43:07.214Z"
   },
   {
    "duration": 7,
    "start_time": "2022-12-20T13:43:10.059Z"
   },
   {
    "duration": 86,
    "start_time": "2022-12-20T13:43:29.711Z"
   },
   {
    "duration": 5,
    "start_time": "2022-12-20T13:43:33.076Z"
   },
   {
    "duration": 20,
    "start_time": "2022-12-20T13:43:34.976Z"
   },
   {
    "duration": 899,
    "start_time": "2022-12-21T10:39:01.076Z"
   },
   {
    "duration": 4,
    "start_time": "2022-12-21T10:39:01.976Z"
   },
   {
    "duration": 22,
    "start_time": "2022-12-21T10:39:01.981Z"
   },
   {
    "duration": 578,
    "start_time": "2022-12-22T10:11:43.155Z"
   },
   {
    "duration": 4,
    "start_time": "2022-12-22T10:11:43.736Z"
   },
   {
    "duration": 19,
    "start_time": "2022-12-22T10:11:43.742Z"
   },
   {
    "duration": 1192,
    "start_time": "2022-12-22T10:13:29.806Z"
   },
   {
    "duration": 970,
    "start_time": "2022-12-22T10:14:21.253Z"
   },
   {
    "duration": 1162,
    "start_time": "2022-12-22T10:14:48.368Z"
   },
   {
    "duration": 484,
    "start_time": "2022-12-22T10:27:24.803Z"
   },
   {
    "duration": 1246,
    "start_time": "2022-12-22T10:27:25.289Z"
   },
   {
    "duration": 4,
    "start_time": "2022-12-22T10:27:26.536Z"
   },
   {
    "duration": 24,
    "start_time": "2022-12-22T10:27:26.542Z"
   },
   {
    "duration": 77,
    "start_time": "2022-12-22T10:33:48.163Z"
   },
   {
    "duration": 6,
    "start_time": "2022-12-22T10:45:59.744Z"
   },
   {
    "duration": 6,
    "start_time": "2022-12-22T10:47:31.999Z"
   },
   {
    "duration": 5,
    "start_time": "2022-12-22T10:48:37.524Z"
   },
   {
    "duration": 6,
    "start_time": "2022-12-22T10:48:49.722Z"
   },
   {
    "duration": 10,
    "start_time": "2022-12-22T10:50:05.527Z"
   },
   {
    "duration": 13,
    "start_time": "2022-12-22T10:52:52.277Z"
   },
   {
    "duration": 12,
    "start_time": "2022-12-22T10:53:13.938Z"
   },
   {
    "duration": 67,
    "start_time": "2022-12-22T10:54:08.289Z"
   },
   {
    "duration": 20,
    "start_time": "2022-12-22T10:54:16.435Z"
   },
   {
    "duration": 10,
    "start_time": "2022-12-22T11:08:03.748Z"
   },
   {
    "duration": 22,
    "start_time": "2022-12-22T11:08:34.333Z"
   },
   {
    "duration": 12,
    "start_time": "2022-12-22T11:08:42.753Z"
   },
   {
    "duration": 5,
    "start_time": "2022-12-22T11:08:57.458Z"
   },
   {
    "duration": 10,
    "start_time": "2022-12-22T11:08:59.114Z"
   },
   {
    "duration": 5,
    "start_time": "2022-12-22T11:14:27.376Z"
   },
   {
    "duration": 11,
    "start_time": "2022-12-22T11:14:31.118Z"
   },
   {
    "duration": 14,
    "start_time": "2022-12-22T11:14:58.504Z"
   },
   {
    "duration": 6,
    "start_time": "2022-12-22T11:18:56.879Z"
   },
   {
    "duration": 17,
    "start_time": "2022-12-22T11:18:57.926Z"
   },
   {
    "duration": 25,
    "start_time": "2022-12-22T11:19:01.907Z"
   },
   {
    "duration": 55,
    "start_time": "2022-12-22T11:27:02.038Z"
   },
   {
    "duration": 16,
    "start_time": "2022-12-22T11:27:10.577Z"
   },
   {
    "duration": 14,
    "start_time": "2022-12-22T11:28:22.787Z"
   },
   {
    "duration": 13,
    "start_time": "2022-12-22T11:28:44.503Z"
   },
   {
    "duration": 21,
    "start_time": "2022-12-22T11:29:01.725Z"
   },
   {
    "duration": 14,
    "start_time": "2022-12-22T11:29:11.380Z"
   },
   {
    "duration": 15,
    "start_time": "2022-12-22T11:30:06.312Z"
   },
   {
    "duration": 14,
    "start_time": "2022-12-22T11:30:12.766Z"
   },
   {
    "duration": 25,
    "start_time": "2022-12-22T11:30:18.447Z"
   },
   {
    "duration": 14,
    "start_time": "2022-12-22T11:30:26.110Z"
   },
   {
    "duration": 12,
    "start_time": "2022-12-22T11:30:38.795Z"
   },
   {
    "duration": 14,
    "start_time": "2022-12-22T11:30:52.477Z"
   },
   {
    "duration": 19,
    "start_time": "2022-12-22T11:31:09.854Z"
   },
   {
    "duration": 14,
    "start_time": "2022-12-22T11:31:40.821Z"
   },
   {
    "duration": 6,
    "start_time": "2022-12-22T11:43:48.989Z"
   },
   {
    "duration": 5,
    "start_time": "2022-12-22T11:45:08.719Z"
   },
   {
    "duration": 9,
    "start_time": "2022-12-22T11:46:48.993Z"
   },
   {
    "duration": 14,
    "start_time": "2022-12-22T11:47:36.841Z"
   },
   {
    "duration": 7,
    "start_time": "2022-12-22T11:50:47.616Z"
   },
   {
    "duration": 7,
    "start_time": "2022-12-22T11:51:03.876Z"
   },
   {
    "duration": 7,
    "start_time": "2022-12-22T11:52:59.374Z"
   },
   {
    "duration": 631,
    "start_time": "2022-12-22T16:54:17.118Z"
   },
   {
    "duration": 1419,
    "start_time": "2022-12-22T16:54:17.751Z"
   },
   {
    "duration": 4,
    "start_time": "2022-12-22T16:54:19.171Z"
   },
   {
    "duration": 66,
    "start_time": "2022-12-22T16:54:19.177Z"
   },
   {
    "duration": 5,
    "start_time": "2022-12-22T16:54:19.244Z"
   },
   {
    "duration": 11,
    "start_time": "2022-12-22T16:54:19.251Z"
   },
   {
    "duration": 20,
    "start_time": "2022-12-22T16:54:19.265Z"
   },
   {
    "duration": 15,
    "start_time": "2022-12-22T16:54:19.288Z"
   },
   {
    "duration": 8,
    "start_time": "2022-12-22T16:54:19.305Z"
   },
   {
    "duration": 8,
    "start_time": "2022-12-22T16:54:19.316Z"
   },
   {
    "duration": 19,
    "start_time": "2022-12-22T16:54:19.326Z"
   },
   {
    "duration": 20,
    "start_time": "2022-12-22T16:54:19.347Z"
   },
   {
    "duration": 5,
    "start_time": "2022-12-22T16:54:19.369Z"
   },
   {
    "duration": 32,
    "start_time": "2022-12-22T16:54:19.375Z"
   },
   {
    "duration": 89,
    "start_time": "2022-12-22T16:59:12.626Z"
   },
   {
    "duration": 6,
    "start_time": "2022-12-22T17:00:18.055Z"
   },
   {
    "duration": 5,
    "start_time": "2022-12-22T17:00:33.439Z"
   },
   {
    "duration": 8,
    "start_time": "2022-12-22T17:02:46.659Z"
   },
   {
    "duration": 376,
    "start_time": "2022-12-22T17:03:11.279Z"
   },
   {
    "duration": 13,
    "start_time": "2022-12-22T17:05:27.517Z"
   },
   {
    "duration": 10,
    "start_time": "2022-12-22T17:05:43.946Z"
   },
   {
    "duration": 10,
    "start_time": "2022-12-22T17:05:48.662Z"
   },
   {
    "duration": 8,
    "start_time": "2022-12-22T17:06:15.377Z"
   },
   {
    "duration": 83,
    "start_time": "2022-12-22T17:07:50.893Z"
   },
   {
    "duration": 75,
    "start_time": "2022-12-22T17:08:02.726Z"
   },
   {
    "duration": 76,
    "start_time": "2022-12-22T17:08:07.027Z"
   },
   {
    "duration": 107,
    "start_time": "2022-12-22T17:08:11.710Z"
   },
   {
    "duration": 5,
    "start_time": "2022-12-22T17:09:02.560Z"
   },
   {
    "duration": 11,
    "start_time": "2022-12-22T17:42:31.438Z"
   },
   {
    "duration": 15,
    "start_time": "2022-12-22T17:42:35.425Z"
   },
   {
    "duration": 8,
    "start_time": "2022-12-22T17:45:57.454Z"
   },
   {
    "duration": 7,
    "start_time": "2022-12-22T17:47:21.630Z"
   },
   {
    "duration": 6,
    "start_time": "2022-12-22T17:47:34.171Z"
   },
   {
    "duration": 16,
    "start_time": "2022-12-22T17:49:28.689Z"
   },
   {
    "duration": 31,
    "start_time": "2022-12-22T18:57:02.621Z"
   },
   {
    "duration": 23,
    "start_time": "2022-12-22T18:57:17.258Z"
   },
   {
    "duration": 22,
    "start_time": "2022-12-22T18:57:33.349Z"
   },
   {
    "duration": 21,
    "start_time": "2022-12-22T18:58:39.827Z"
   },
   {
    "duration": 13,
    "start_time": "2022-12-22T19:03:00.288Z"
   },
   {
    "duration": 9,
    "start_time": "2022-12-22T19:59:12.762Z"
   },
   {
    "duration": 14,
    "start_time": "2022-12-22T19:59:21.514Z"
   },
   {
    "duration": 1099,
    "start_time": "2022-12-22T20:07:49.432Z"
   },
   {
    "duration": 567,
    "start_time": "2022-12-22T20:08:12.985Z"
   },
   {
    "duration": 1109,
    "start_time": "2022-12-22T20:08:13.554Z"
   },
   {
    "duration": 3,
    "start_time": "2022-12-22T20:08:14.665Z"
   },
   {
    "duration": 128,
    "start_time": "2022-12-22T20:08:14.670Z"
   },
   {
    "duration": 10,
    "start_time": "2022-12-22T20:08:14.808Z"
   },
   {
    "duration": 5,
    "start_time": "2022-12-22T20:08:14.820Z"
   },
   {
    "duration": 56,
    "start_time": "2022-12-22T20:08:14.826Z"
   },
   {
    "duration": 7,
    "start_time": "2022-12-22T20:08:14.884Z"
   },
   {
    "duration": 6,
    "start_time": "2022-12-22T20:08:14.892Z"
   },
   {
    "duration": 17,
    "start_time": "2022-12-22T20:08:14.899Z"
   },
   {
    "duration": 10,
    "start_time": "2022-12-22T20:08:14.919Z"
   },
   {
    "duration": 17,
    "start_time": "2022-12-22T20:08:14.931Z"
   },
   {
    "duration": 7,
    "start_time": "2022-12-22T20:08:14.949Z"
   },
   {
    "duration": 29,
    "start_time": "2022-12-22T20:08:14.959Z"
   },
   {
    "duration": 32,
    "start_time": "2022-12-22T20:08:14.990Z"
   },
   {
    "duration": 18,
    "start_time": "2022-12-22T20:08:15.024Z"
   },
   {
    "duration": 14,
    "start_time": "2022-12-22T20:08:15.043Z"
   },
   {
    "duration": 13,
    "start_time": "2022-12-22T20:08:15.058Z"
   },
   {
    "duration": 16,
    "start_time": "2022-12-22T20:08:15.073Z"
   },
   {
    "duration": 9,
    "start_time": "2022-12-22T21:39:07.846Z"
   },
   {
    "duration": 83,
    "start_time": "2022-12-22T21:39:46.446Z"
   },
   {
    "duration": 1359,
    "start_time": "2022-12-22T21:39:51.140Z"
   },
   {
    "duration": 1215,
    "start_time": "2022-12-22T21:45:47.714Z"
   },
   {
    "duration": 15,
    "start_time": "2022-12-22T21:46:04.717Z"
   },
   {
    "duration": 8,
    "start_time": "2022-12-22T21:46:17.265Z"
   },
   {
    "duration": 7,
    "start_time": "2022-12-22T21:48:38.178Z"
   },
   {
    "duration": 15,
    "start_time": "2022-12-22T21:57:16.327Z"
   },
   {
    "duration": 14,
    "start_time": "2022-12-22T21:59:45.435Z"
   },
   {
    "duration": 193,
    "start_time": "2022-12-22T23:20:12.275Z"
   },
   {
    "duration": 193,
    "start_time": "2022-12-22T23:20:16.474Z"
   },
   {
    "duration": 152,
    "start_time": "2022-12-22T23:21:02.173Z"
   },
   {
    "duration": 198,
    "start_time": "2022-12-22T23:21:28.098Z"
   },
   {
    "duration": 186,
    "start_time": "2022-12-22T23:21:37.892Z"
   },
   {
    "duration": 11,
    "start_time": "2022-12-22T23:25:11.351Z"
   },
   {
    "duration": 6,
    "start_time": "2022-12-22T23:25:21.455Z"
   },
   {
    "duration": 6,
    "start_time": "2022-12-22T23:25:44.935Z"
   },
   {
    "duration": 9,
    "start_time": "2022-12-22T23:26:39.525Z"
   },
   {
    "duration": 7,
    "start_time": "2022-12-22T23:26:46.668Z"
   },
   {
    "duration": 8,
    "start_time": "2022-12-22T23:26:50.775Z"
   },
   {
    "duration": 183,
    "start_time": "2022-12-22T23:28:36.136Z"
   },
   {
    "duration": 175,
    "start_time": "2022-12-22T23:29:10.631Z"
   },
   {
    "duration": 188,
    "start_time": "2022-12-22T23:29:17.370Z"
   },
   {
    "duration": 14,
    "start_time": "2022-12-22T23:42:31.049Z"
   },
   {
    "duration": 90,
    "start_time": "2022-12-22T23:42:55.909Z"
   },
   {
    "duration": 72,
    "start_time": "2022-12-22T23:43:04.966Z"
   },
   {
    "duration": 71,
    "start_time": "2022-12-22T23:44:21.548Z"
   },
   {
    "duration": 9,
    "start_time": "2022-12-22T23:44:30.417Z"
   },
   {
    "duration": 8,
    "start_time": "2022-12-22T23:44:56.658Z"
   },
   {
    "duration": 187,
    "start_time": "2022-12-22T23:45:02.666Z"
   },
   {
    "duration": 190,
    "start_time": "2022-12-22T23:47:02.180Z"
   },
   {
    "duration": 275,
    "start_time": "2022-12-22T23:47:12.250Z"
   },
   {
    "duration": 189,
    "start_time": "2022-12-22T23:47:41.483Z"
   },
   {
    "duration": 15,
    "start_time": "2022-12-22T23:48:54.292Z"
   },
   {
    "duration": 188,
    "start_time": "2022-12-22T23:49:49.682Z"
   },
   {
    "duration": 7,
    "start_time": "2022-12-23T00:03:06.048Z"
   },
   {
    "duration": 13,
    "start_time": "2022-12-23T00:03:25.492Z"
   },
   {
    "duration": 537,
    "start_time": "2022-12-23T14:21:20.268Z"
   },
   {
    "duration": 1251,
    "start_time": "2022-12-23T14:21:20.807Z"
   },
   {
    "duration": 3,
    "start_time": "2022-12-23T14:21:22.060Z"
   },
   {
    "duration": 72,
    "start_time": "2022-12-23T14:21:22.075Z"
   },
   {
    "duration": 4,
    "start_time": "2022-12-23T14:21:22.149Z"
   },
   {
    "duration": 24,
    "start_time": "2022-12-23T14:21:22.154Z"
   },
   {
    "duration": 9,
    "start_time": "2022-12-23T14:21:22.180Z"
   },
   {
    "duration": 10,
    "start_time": "2022-12-23T14:21:22.190Z"
   },
   {
    "duration": 15,
    "start_time": "2022-12-23T14:21:22.202Z"
   },
   {
    "duration": 15,
    "start_time": "2022-12-23T14:21:22.219Z"
   },
   {
    "duration": 25,
    "start_time": "2022-12-23T14:21:22.235Z"
   },
   {
    "duration": 22,
    "start_time": "2022-12-23T14:21:22.262Z"
   },
   {
    "duration": 24,
    "start_time": "2022-12-23T14:21:22.285Z"
   },
   {
    "duration": 42,
    "start_time": "2022-12-23T14:21:22.310Z"
   },
   {
    "duration": 20,
    "start_time": "2022-12-23T14:21:22.354Z"
   },
   {
    "duration": 28,
    "start_time": "2022-12-23T14:21:22.376Z"
   },
   {
    "duration": 17,
    "start_time": "2022-12-23T14:21:22.406Z"
   },
   {
    "duration": 31,
    "start_time": "2022-12-23T14:21:22.425Z"
   },
   {
    "duration": 25,
    "start_time": "2022-12-23T14:21:22.458Z"
   },
   {
    "duration": 34,
    "start_time": "2022-12-23T14:21:22.484Z"
   },
   {
    "duration": 198,
    "start_time": "2022-12-23T14:21:22.520Z"
   },
   {
    "duration": 13,
    "start_time": "2022-12-23T14:21:22.720Z"
   },
   {
    "duration": 30,
    "start_time": "2022-12-23T14:21:22.735Z"
   },
   {
    "duration": 68,
    "start_time": "2022-12-23T14:29:38.279Z"
   },
   {
    "duration": 65,
    "start_time": "2022-12-23T14:37:38.046Z"
   },
   {
    "duration": 64,
    "start_time": "2022-12-23T14:38:58.711Z"
   },
   {
    "duration": 93,
    "start_time": "2022-12-23T15:41:08.976Z"
   },
   {
    "duration": 93,
    "start_time": "2022-12-23T15:42:52.139Z"
   },
   {
    "duration": 54,
    "start_time": "2022-12-23T15:46:46.769Z"
   },
   {
    "duration": 88,
    "start_time": "2022-12-23T15:47:14.465Z"
   },
   {
    "duration": 750,
    "start_time": "2022-12-23T15:50:35.937Z"
   },
   {
    "duration": 83,
    "start_time": "2022-12-23T15:51:04.811Z"
   },
   {
    "duration": 55,
    "start_time": "2022-12-23T15:51:36.561Z"
   },
   {
    "duration": 49,
    "start_time": "2022-12-23T15:51:54.471Z"
   },
   {
    "duration": 56,
    "start_time": "2022-12-23T15:53:22.270Z"
   },
   {
    "duration": 90,
    "start_time": "2022-12-23T15:56:47.597Z"
   },
   {
    "duration": 66,
    "start_time": "2022-12-23T15:57:16.670Z"
   },
   {
    "duration": 736,
    "start_time": "2022-12-23T15:57:24.159Z"
   },
   {
    "duration": 68,
    "start_time": "2022-12-23T15:57:38.905Z"
   },
   {
    "duration": 55,
    "start_time": "2022-12-23T15:58:07.458Z"
   },
   {
    "duration": 57,
    "start_time": "2022-12-23T16:06:06.797Z"
   },
   {
    "duration": 722,
    "start_time": "2022-12-23T16:06:26.759Z"
   },
   {
    "duration": 52,
    "start_time": "2022-12-23T16:06:49.997Z"
   },
   {
    "duration": 51,
    "start_time": "2022-12-23T16:06:53.831Z"
   },
   {
    "duration": 44,
    "start_time": "2022-12-23T16:07:20.947Z"
   },
   {
    "duration": 68,
    "start_time": "2022-12-23T16:08:10.193Z"
   },
   {
    "duration": 3882,
    "start_time": "2022-12-23T16:08:49.062Z"
   },
   {
    "duration": 4163,
    "start_time": "2022-12-23T16:08:55.110Z"
   },
   {
    "duration": 50,
    "start_time": "2022-12-23T16:13:31.440Z"
   },
   {
    "duration": 1040,
    "start_time": "2022-12-23T16:13:40.036Z"
   },
   {
    "duration": 737,
    "start_time": "2022-12-23T16:15:40.251Z"
   },
   {
    "duration": 1444,
    "start_time": "2022-12-23T16:17:30.832Z"
   },
   {
    "duration": 54,
    "start_time": "2022-12-23T16:17:51.719Z"
   },
   {
    "duration": 1201,
    "start_time": "2022-12-23T16:18:11.757Z"
   },
   {
    "duration": 73,
    "start_time": "2022-12-23T16:39:42.907Z"
   },
   {
    "duration": 46,
    "start_time": "2022-12-23T16:41:57.056Z"
   },
   {
    "duration": 84,
    "start_time": "2022-12-23T16:42:01.057Z"
   },
   {
    "duration": 55,
    "start_time": "2022-12-23T16:42:26.316Z"
   },
   {
    "duration": 84,
    "start_time": "2022-12-23T16:42:38.430Z"
   },
   {
    "duration": 83,
    "start_time": "2022-12-23T16:45:40.845Z"
   },
   {
    "duration": 90,
    "start_time": "2022-12-23T16:46:15.451Z"
   },
   {
    "duration": 44,
    "start_time": "2022-12-23T16:47:31.228Z"
   },
   {
    "duration": 719,
    "start_time": "2022-12-23T16:47:38.358Z"
   },
   {
    "duration": 52,
    "start_time": "2022-12-23T16:47:50.769Z"
   },
   {
    "duration": 48,
    "start_time": "2022-12-23T16:48:09.932Z"
   },
   {
    "duration": 485,
    "start_time": "2022-12-23T16:49:35.669Z"
   },
   {
    "duration": 486,
    "start_time": "2022-12-23T16:52:49.823Z"
   },
   {
    "duration": 54,
    "start_time": "2022-12-23T16:53:12.264Z"
   },
   {
    "duration": 524,
    "start_time": "2022-12-23T16:53:27.940Z"
   },
   {
    "duration": 570,
    "start_time": "2022-12-23T16:53:35.610Z"
   },
   {
    "duration": 56,
    "start_time": "2022-12-23T16:54:30.607Z"
   },
   {
    "duration": 493,
    "start_time": "2022-12-23T16:54:57.320Z"
   },
   {
    "duration": 48,
    "start_time": "2022-12-23T16:58:02.529Z"
   },
   {
    "duration": 535,
    "start_time": "2022-12-23T16:58:33.653Z"
   },
   {
    "duration": 65,
    "start_time": "2022-12-23T16:58:45.036Z"
   },
   {
    "duration": 693,
    "start_time": "2022-12-23T16:59:07.283Z"
   },
   {
    "duration": 724,
    "start_time": "2022-12-23T16:59:51.118Z"
   },
   {
    "duration": 49,
    "start_time": "2022-12-23T17:00:45.720Z"
   },
   {
    "duration": 746,
    "start_time": "2022-12-23T17:00:50.306Z"
   },
   {
    "duration": 48,
    "start_time": "2022-12-23T17:01:34.327Z"
   },
   {
    "duration": 53,
    "start_time": "2022-12-23T17:01:48.438Z"
   },
   {
    "duration": 50,
    "start_time": "2022-12-23T17:01:58.514Z"
   },
   {
    "duration": 560,
    "start_time": "2022-12-24T11:52:56.146Z"
   },
   {
    "duration": 1295,
    "start_time": "2022-12-24T11:52:56.708Z"
   },
   {
    "duration": 8,
    "start_time": "2022-12-24T11:52:58.005Z"
   },
   {
    "duration": 50,
    "start_time": "2022-12-24T11:52:58.015Z"
   },
   {
    "duration": 5,
    "start_time": "2022-12-24T11:52:58.067Z"
   },
   {
    "duration": 19,
    "start_time": "2022-12-24T11:52:58.073Z"
   },
   {
    "duration": 7,
    "start_time": "2022-12-24T11:52:58.093Z"
   },
   {
    "duration": 6,
    "start_time": "2022-12-24T11:52:58.111Z"
   },
   {
    "duration": 7,
    "start_time": "2022-12-24T11:52:58.118Z"
   },
   {
    "duration": 13,
    "start_time": "2022-12-24T11:52:58.126Z"
   },
   {
    "duration": 15,
    "start_time": "2022-12-24T11:52:58.140Z"
   },
   {
    "duration": 17,
    "start_time": "2022-12-24T11:52:58.157Z"
   },
   {
    "duration": 19,
    "start_time": "2022-12-24T11:52:58.176Z"
   },
   {
    "duration": 19,
    "start_time": "2022-12-24T11:52:58.198Z"
   },
   {
    "duration": 13,
    "start_time": "2022-12-24T11:52:58.219Z"
   },
   {
    "duration": 12,
    "start_time": "2022-12-24T11:52:58.233Z"
   },
   {
    "duration": 6,
    "start_time": "2022-12-24T11:52:58.247Z"
   },
   {
    "duration": 17,
    "start_time": "2022-12-24T11:52:58.255Z"
   },
   {
    "duration": 41,
    "start_time": "2022-12-24T11:52:58.274Z"
   },
   {
    "duration": 13,
    "start_time": "2022-12-24T11:52:58.317Z"
   },
   {
    "duration": 239,
    "start_time": "2022-12-24T11:52:58.332Z"
   },
   {
    "duration": 15,
    "start_time": "2022-12-24T11:52:58.573Z"
   },
   {
    "duration": 46,
    "start_time": "2022-12-24T11:52:58.590Z"
   },
   {
    "duration": 0,
    "start_time": "2022-12-24T11:52:58.639Z"
   },
   {
    "duration": 0,
    "start_time": "2022-12-24T11:52:58.640Z"
   },
   {
    "duration": 183,
    "start_time": "2022-12-24T11:53:19.184Z"
   },
   {
    "duration": 106,
    "start_time": "2022-12-24T11:54:14.709Z"
   },
   {
    "duration": 116,
    "start_time": "2022-12-24T11:54:48.742Z"
   },
   {
    "duration": 100,
    "start_time": "2022-12-24T11:56:27.397Z"
   },
   {
    "duration": 101,
    "start_time": "2022-12-24T11:56:49.873Z"
   },
   {
    "duration": 110,
    "start_time": "2022-12-24T11:58:01.304Z"
   },
   {
    "duration": 81,
    "start_time": "2022-12-24T11:58:27.347Z"
   },
   {
    "duration": 86,
    "start_time": "2022-12-24T11:58:59.242Z"
   },
   {
    "duration": 1146,
    "start_time": "2022-12-24T11:59:32.082Z"
   },
   {
    "duration": 663,
    "start_time": "2022-12-24T12:09:10.315Z"
   },
   {
    "duration": 752,
    "start_time": "2022-12-24T12:09:48.789Z"
   },
   {
    "duration": 111,
    "start_time": "2022-12-24T12:10:46.857Z"
   },
   {
    "duration": 110,
    "start_time": "2022-12-24T12:23:42.544Z"
   },
   {
    "duration": 810,
    "start_time": "2022-12-24T16:59:57.927Z"
   },
   {
    "duration": 1253,
    "start_time": "2022-12-24T16:59:58.739Z"
   },
   {
    "duration": 4,
    "start_time": "2022-12-24T16:59:59.993Z"
   },
   {
    "duration": 62,
    "start_time": "2022-12-24T16:59:59.998Z"
   },
   {
    "duration": 5,
    "start_time": "2022-12-24T17:00:00.062Z"
   },
   {
    "duration": 33,
    "start_time": "2022-12-24T17:00:00.069Z"
   },
   {
    "duration": 37,
    "start_time": "2022-12-24T17:00:00.104Z"
   },
   {
    "duration": 15,
    "start_time": "2022-12-24T17:00:00.143Z"
   },
   {
    "duration": 8,
    "start_time": "2022-12-24T17:00:00.160Z"
   },
   {
    "duration": 10,
    "start_time": "2022-12-24T17:00:00.169Z"
   },
   {
    "duration": 19,
    "start_time": "2022-12-24T17:00:00.181Z"
   },
   {
    "duration": 14,
    "start_time": "2022-12-24T17:00:00.201Z"
   },
   {
    "duration": 11,
    "start_time": "2022-12-24T17:00:00.217Z"
   },
   {
    "duration": 28,
    "start_time": "2022-12-24T17:00:00.231Z"
   },
   {
    "duration": 12,
    "start_time": "2022-12-24T17:00:00.261Z"
   },
   {
    "duration": 14,
    "start_time": "2022-12-24T17:00:00.274Z"
   },
   {
    "duration": 29,
    "start_time": "2022-12-24T17:00:00.290Z"
   },
   {
    "duration": 17,
    "start_time": "2022-12-24T17:00:00.321Z"
   },
   {
    "duration": 25,
    "start_time": "2022-12-24T17:00:00.339Z"
   },
   {
    "duration": 33,
    "start_time": "2022-12-24T17:00:00.366Z"
   },
   {
    "duration": 205,
    "start_time": "2022-12-24T17:00:00.400Z"
   },
   {
    "duration": 12,
    "start_time": "2022-12-24T17:00:00.607Z"
   },
   {
    "duration": 107,
    "start_time": "2022-12-24T17:00:00.621Z"
   },
   {
    "duration": 75,
    "start_time": "2022-12-24T17:00:00.729Z"
   },
   {
    "duration": 0,
    "start_time": "2022-12-24T17:00:00.806Z"
   },
   {
    "duration": 16,
    "start_time": "2022-12-24T17:02:03.123Z"
   },
   {
    "duration": 95,
    "start_time": "2022-12-24T17:03:55.010Z"
   },
   {
    "duration": 108,
    "start_time": "2022-12-24T17:04:02.110Z"
   },
   {
    "duration": 396,
    "start_time": "2022-12-24T17:04:38.905Z"
   },
   {
    "duration": 463,
    "start_time": "2022-12-24T17:04:53.749Z"
   },
   {
    "duration": 534,
    "start_time": "2022-12-24T17:05:43.718Z"
   },
   {
    "duration": 96,
    "start_time": "2022-12-24T17:06:05.811Z"
   },
   {
    "duration": 43,
    "start_time": "2022-12-24T17:09:43.206Z"
   },
   {
    "duration": 112,
    "start_time": "2022-12-24T17:10:00.620Z"
   },
   {
    "duration": 68,
    "start_time": "2022-12-24T17:10:19.366Z"
   },
   {
    "duration": 121,
    "start_time": "2022-12-24T17:10:29.310Z"
   },
   {
    "duration": 335,
    "start_time": "2022-12-24T17:11:04.569Z"
   },
   {
    "duration": 390,
    "start_time": "2022-12-24T17:11:19.093Z"
   },
   {
    "duration": 342,
    "start_time": "2022-12-24T17:12:11.427Z"
   },
   {
    "duration": 263,
    "start_time": "2022-12-24T17:12:17.412Z"
   },
   {
    "duration": 1402,
    "start_time": "2022-12-24T17:12:52.105Z"
   },
   {
    "duration": 1046,
    "start_time": "2022-12-24T17:13:56.908Z"
   },
   {
    "duration": 916,
    "start_time": "2022-12-24T17:14:12.356Z"
   },
   {
    "duration": 108,
    "start_time": "2022-12-24T17:15:00.114Z"
   },
   {
    "duration": 780,
    "start_time": "2022-12-24T17:15:14.395Z"
   },
   {
    "duration": 1086,
    "start_time": "2022-12-24T17:16:03.864Z"
   },
   {
    "duration": 1050,
    "start_time": "2022-12-24T17:16:14.708Z"
   },
   {
    "duration": 338,
    "start_time": "2022-12-24T17:16:22.322Z"
   },
   {
    "duration": 422,
    "start_time": "2022-12-24T17:17:49.612Z"
   },
   {
    "duration": 111,
    "start_time": "2022-12-24T17:19:09.093Z"
   },
   {
    "duration": 13,
    "start_time": "2022-12-24T17:19:15.304Z"
   },
   {
    "duration": 12,
    "start_time": "2022-12-24T17:19:27.478Z"
   },
   {
    "duration": 105,
    "start_time": "2022-12-24T17:20:00.592Z"
   },
   {
    "duration": 55,
    "start_time": "2022-12-24T17:21:02.950Z"
   },
   {
    "duration": 107,
    "start_time": "2022-12-24T17:21:12.702Z"
   },
   {
    "duration": 43,
    "start_time": "2022-12-24T17:21:24.590Z"
   },
   {
    "duration": 118,
    "start_time": "2022-12-24T17:21:52.005Z"
   },
   {
    "duration": 222,
    "start_time": "2022-12-24T17:21:55.897Z"
   },
   {
    "duration": 888,
    "start_time": "2022-12-24T17:33:02.064Z"
   },
   {
    "duration": 876,
    "start_time": "2022-12-24T17:33:09.873Z"
   },
   {
    "duration": 1022,
    "start_time": "2022-12-24T17:33:20.444Z"
   },
   {
    "duration": 1048,
    "start_time": "2022-12-24T17:33:33.854Z"
   },
   {
    "duration": 71,
    "start_time": "2022-12-24T17:42:03.277Z"
   },
   {
    "duration": 13,
    "start_time": "2022-12-24T22:35:57.161Z"
   },
   {
    "duration": 15,
    "start_time": "2022-12-24T22:36:00.899Z"
   },
   {
    "duration": 42,
    "start_time": "2022-12-24T22:36:10.826Z"
   },
   {
    "duration": 278,
    "start_time": "2022-12-24T22:40:09.862Z"
   },
   {
    "duration": 283,
    "start_time": "2022-12-24T22:41:10.344Z"
   },
   {
    "duration": 338,
    "start_time": "2022-12-24T22:41:38.470Z"
   },
   {
    "duration": 1026,
    "start_time": "2022-12-24T22:42:02.857Z"
   },
   {
    "duration": 369,
    "start_time": "2022-12-24T22:44:48.864Z"
   },
   {
    "duration": 827,
    "start_time": "2022-12-24T22:54:07.394Z"
   },
   {
    "duration": 890,
    "start_time": "2022-12-24T22:54:42.865Z"
   },
   {
    "duration": 68,
    "start_time": "2022-12-24T22:55:09.548Z"
   },
   {
    "duration": 1009,
    "start_time": "2022-12-24T22:55:28.062Z"
   },
   {
    "duration": 40,
    "start_time": "2022-12-24T22:58:40.185Z"
   },
   {
    "duration": 261,
    "start_time": "2022-12-24T22:59:08.327Z"
   },
   {
    "duration": 466,
    "start_time": "2022-12-24T23:04:46.065Z"
   },
   {
    "duration": 1030,
    "start_time": "2022-12-24T23:04:46.675Z"
   },
   {
    "duration": 4,
    "start_time": "2022-12-24T23:04:52.257Z"
   },
   {
    "duration": 108,
    "start_time": "2022-12-24T23:04:53.574Z"
   },
   {
    "duration": 4,
    "start_time": "2022-12-24T23:04:57.741Z"
   },
   {
    "duration": 6,
    "start_time": "2022-12-24T23:06:08.783Z"
   },
   {
    "duration": 19,
    "start_time": "2022-12-24T23:09:35.298Z"
   },
   {
    "duration": 67,
    "start_time": "2022-12-24T23:11:10.653Z"
   },
   {
    "duration": 10,
    "start_time": "2022-12-24T23:11:28.518Z"
   },
   {
    "duration": 13,
    "start_time": "2022-12-24T23:11:35.456Z"
   },
   {
    "duration": 7,
    "start_time": "2022-12-24T23:11:42.129Z"
   },
   {
    "duration": 8,
    "start_time": "2022-12-24T23:11:50.742Z"
   },
   {
    "duration": 9,
    "start_time": "2022-12-24T23:12:51.839Z"
   },
   {
    "duration": 19,
    "start_time": "2022-12-24T23:14:44.174Z"
   },
   {
    "duration": 422,
    "start_time": "2022-12-24T23:19:41.940Z"
   },
   {
    "duration": 960,
    "start_time": "2022-12-24T23:19:42.364Z"
   },
   {
    "duration": 3,
    "start_time": "2022-12-24T23:19:43.325Z"
   },
   {
    "duration": 112,
    "start_time": "2022-12-24T23:19:43.329Z"
   },
   {
    "duration": 5,
    "start_time": "2022-12-24T23:19:43.443Z"
   },
   {
    "duration": 8,
    "start_time": "2022-12-24T23:19:43.449Z"
   },
   {
    "duration": 7,
    "start_time": "2022-12-24T23:19:43.459Z"
   },
   {
    "duration": 11,
    "start_time": "2022-12-24T23:19:43.467Z"
   },
   {
    "duration": 3,
    "start_time": "2022-12-24T23:19:43.480Z"
   },
   {
    "duration": 6,
    "start_time": "2022-12-24T23:19:43.485Z"
   },
   {
    "duration": 8,
    "start_time": "2022-12-24T23:19:43.493Z"
   },
   {
    "duration": 8,
    "start_time": "2022-12-24T23:19:43.502Z"
   },
   {
    "duration": 7,
    "start_time": "2022-12-24T23:19:43.511Z"
   },
   {
    "duration": 15,
    "start_time": "2022-12-24T23:19:43.521Z"
   },
   {
    "duration": 11,
    "start_time": "2022-12-24T23:19:43.538Z"
   },
   {
    "duration": 33,
    "start_time": "2022-12-24T23:19:43.550Z"
   },
   {
    "duration": 8,
    "start_time": "2022-12-24T23:19:43.584Z"
   },
   {
    "duration": 14,
    "start_time": "2022-12-24T23:19:43.593Z"
   },
   {
    "duration": 13,
    "start_time": "2022-12-24T23:19:43.608Z"
   },
   {
    "duration": 11,
    "start_time": "2022-12-24T23:19:43.622Z"
   },
   {
    "duration": 203,
    "start_time": "2022-12-24T23:19:43.635Z"
   },
   {
    "duration": 13,
    "start_time": "2022-12-24T23:19:43.840Z"
   },
   {
    "duration": 103,
    "start_time": "2022-12-24T23:19:43.855Z"
   },
   {
    "duration": 1001,
    "start_time": "2022-12-24T23:19:43.961Z"
   },
   {
    "duration": 46,
    "start_time": "2022-12-24T23:19:44.964Z"
   },
   {
    "duration": 295,
    "start_time": "2022-12-24T23:19:45.012Z"
   },
   {
    "duration": 14,
    "start_time": "2022-12-24T23:19:45.309Z"
   },
   {
    "duration": 371,
    "start_time": "2022-12-25T00:00:32.586Z"
   },
   {
    "duration": 21,
    "start_time": "2022-12-25T00:00:55.435Z"
   },
   {
    "duration": 476,
    "start_time": "2022-12-25T12:02:59.166Z"
   },
   {
    "duration": 1282,
    "start_time": "2022-12-25T12:02:59.643Z"
   },
   {
    "duration": 4,
    "start_time": "2022-12-25T12:03:00.927Z"
   },
   {
    "duration": 67,
    "start_time": "2022-12-25T12:03:00.932Z"
   },
   {
    "duration": 11,
    "start_time": "2022-12-25T12:03:01.001Z"
   },
   {
    "duration": 52,
    "start_time": "2022-12-25T12:03:01.014Z"
   },
   {
    "duration": 6,
    "start_time": "2022-12-25T12:03:01.068Z"
   },
   {
    "duration": 15,
    "start_time": "2022-12-25T12:03:01.076Z"
   },
   {
    "duration": 6,
    "start_time": "2022-12-25T12:03:01.093Z"
   },
   {
    "duration": 25,
    "start_time": "2022-12-25T12:03:01.102Z"
   },
   {
    "duration": 12,
    "start_time": "2022-12-25T12:03:01.129Z"
   },
   {
    "duration": 8,
    "start_time": "2022-12-25T12:03:01.143Z"
   },
   {
    "duration": 14,
    "start_time": "2022-12-25T12:03:01.152Z"
   },
   {
    "duration": 20,
    "start_time": "2022-12-25T12:03:01.168Z"
   },
   {
    "duration": 11,
    "start_time": "2022-12-25T12:03:01.190Z"
   },
   {
    "duration": 25,
    "start_time": "2022-12-25T12:03:01.203Z"
   },
   {
    "duration": 9,
    "start_time": "2022-12-25T12:03:01.230Z"
   },
   {
    "duration": 14,
    "start_time": "2022-12-25T12:03:01.240Z"
   },
   {
    "duration": 14,
    "start_time": "2022-12-25T12:03:01.255Z"
   },
   {
    "duration": 11,
    "start_time": "2022-12-25T12:03:01.271Z"
   },
   {
    "duration": 257,
    "start_time": "2022-12-25T12:03:01.283Z"
   },
   {
    "duration": 13,
    "start_time": "2022-12-25T12:03:01.542Z"
   },
   {
    "duration": 101,
    "start_time": "2022-12-25T12:03:01.556Z"
   },
   {
    "duration": 1084,
    "start_time": "2022-12-25T12:03:01.659Z"
   },
   {
    "duration": 45,
    "start_time": "2022-12-25T12:03:02.745Z"
   },
   {
    "duration": 315,
    "start_time": "2022-12-25T12:03:02.792Z"
   },
   {
    "duration": 41,
    "start_time": "2022-12-25T12:03:03.112Z"
   },
   {
    "duration": 33,
    "start_time": "2022-12-25T12:03:03.157Z"
   },
   {
    "duration": 7,
    "start_time": "2022-12-25T12:03:17.554Z"
   },
   {
    "duration": 74,
    "start_time": "2022-12-25T12:04:27.643Z"
   },
   {
    "duration": 9,
    "start_time": "2022-12-25T12:04:33.403Z"
   },
   {
    "duration": 17,
    "start_time": "2022-12-25T12:05:15.901Z"
   },
   {
    "duration": 4,
    "start_time": "2022-12-25T12:05:35.102Z"
   },
   {
    "duration": 4,
    "start_time": "2022-12-25T12:05:49.301Z"
   },
   {
    "duration": 8,
    "start_time": "2022-12-25T12:06:05.047Z"
   },
   {
    "duration": 13,
    "start_time": "2022-12-25T12:06:50.700Z"
   },
   {
    "duration": 10,
    "start_time": "2022-12-25T12:07:17.937Z"
   },
   {
    "duration": 6,
    "start_time": "2022-12-25T12:07:30.113Z"
   },
   {
    "duration": 12,
    "start_time": "2022-12-25T12:08:22.227Z"
   },
   {
    "duration": 11,
    "start_time": "2022-12-25T12:08:37.834Z"
   },
   {
    "duration": 13,
    "start_time": "2022-12-25T12:11:54.868Z"
   },
   {
    "duration": 10,
    "start_time": "2022-12-25T12:12:37.228Z"
   },
   {
    "duration": 6,
    "start_time": "2022-12-25T12:12:59.858Z"
   },
   {
    "duration": 8,
    "start_time": "2022-12-25T12:13:18.706Z"
   },
   {
    "duration": 8,
    "start_time": "2022-12-25T12:17:16.829Z"
   },
   {
    "duration": 8,
    "start_time": "2022-12-25T12:17:38.992Z"
   },
   {
    "duration": 9,
    "start_time": "2022-12-25T12:18:16.951Z"
   },
   {
    "duration": 15,
    "start_time": "2022-12-25T12:22:50.370Z"
   },
   {
    "duration": 20,
    "start_time": "2022-12-25T12:23:19.175Z"
   },
   {
    "duration": 14,
    "start_time": "2022-12-25T12:23:49.054Z"
   },
   {
    "duration": 9,
    "start_time": "2022-12-25T12:23:57.483Z"
   },
   {
    "duration": 271,
    "start_time": "2022-12-25T12:52:57.069Z"
   },
   {
    "duration": 319,
    "start_time": "2022-12-25T12:53:54.210Z"
   },
   {
    "duration": 236,
    "start_time": "2022-12-25T12:55:41.812Z"
   },
   {
    "duration": 240,
    "start_time": "2022-12-25T12:55:58.238Z"
   },
   {
    "duration": 16,
    "start_time": "2022-12-25T13:17:18.001Z"
   },
   {
    "duration": 11,
    "start_time": "2022-12-25T13:17:59.073Z"
   },
   {
    "duration": 169,
    "start_time": "2022-12-25T13:18:47.355Z"
   },
   {
    "duration": 142,
    "start_time": "2022-12-25T13:19:34.382Z"
   },
   {
    "duration": 156,
    "start_time": "2022-12-25T13:21:27.741Z"
   },
   {
    "duration": 128,
    "start_time": "2022-12-25T13:28:29.078Z"
   },
   {
    "duration": 144,
    "start_time": "2022-12-25T13:28:39.434Z"
   },
   {
    "duration": 224,
    "start_time": "2022-12-25T13:30:14.892Z"
   },
   {
    "duration": 148,
    "start_time": "2022-12-25T13:30:21.146Z"
   },
   {
    "duration": 172,
    "start_time": "2022-12-25T13:37:02.426Z"
   },
   {
    "duration": 172,
    "start_time": "2022-12-25T13:38:12.315Z"
   },
   {
    "duration": 5,
    "start_time": "2022-12-25T13:38:31.266Z"
   },
   {
    "duration": 177,
    "start_time": "2022-12-25T13:39:05.629Z"
   },
   {
    "duration": 159,
    "start_time": "2022-12-25T13:39:19.464Z"
   },
   {
    "duration": 157,
    "start_time": "2022-12-25T13:41:25.280Z"
   },
   {
    "duration": 166,
    "start_time": "2022-12-25T13:58:47.926Z"
   },
   {
    "duration": 183,
    "start_time": "2022-12-25T13:59:00.495Z"
   },
   {
    "duration": 164,
    "start_time": "2022-12-25T13:59:24.540Z"
   },
   {
    "duration": 160,
    "start_time": "2022-12-25T13:59:38.856Z"
   },
   {
    "duration": 15,
    "start_time": "2022-12-25T14:01:39.966Z"
   },
   {
    "duration": 7,
    "start_time": "2022-12-25T14:03:54.996Z"
   },
   {
    "duration": 10,
    "start_time": "2022-12-25T14:04:08.920Z"
   },
   {
    "duration": 12,
    "start_time": "2022-12-25T14:04:20.135Z"
   },
   {
    "duration": 230,
    "start_time": "2022-12-25T14:04:57.633Z"
   },
   {
    "duration": 185,
    "start_time": "2022-12-25T14:05:18.517Z"
   },
   {
    "duration": 56,
    "start_time": "2022-12-25T14:05:55.533Z"
   },
   {
    "duration": 174,
    "start_time": "2022-12-25T14:06:01.497Z"
   },
   {
    "duration": 166,
    "start_time": "2022-12-25T14:06:18.667Z"
   },
   {
    "duration": 185,
    "start_time": "2022-12-25T14:11:02.174Z"
   },
   {
    "duration": 49,
    "start_time": "2022-12-25T14:27:31.123Z"
   },
   {
    "duration": 21,
    "start_time": "2022-12-25T14:27:37.291Z"
   },
   {
    "duration": 191,
    "start_time": "2022-12-25T14:27:59.521Z"
   },
   {
    "duration": 258,
    "start_time": "2022-12-25T14:35:54.574Z"
   },
   {
    "duration": 235,
    "start_time": "2022-12-25T14:36:15.562Z"
   },
   {
    "duration": 78,
    "start_time": "2022-12-25T14:57:22.112Z"
   },
   {
    "duration": 181,
    "start_time": "2022-12-25T14:57:24.847Z"
   },
   {
    "duration": 8,
    "start_time": "2022-12-25T14:57:51.184Z"
   },
   {
    "duration": 166,
    "start_time": "2022-12-25T14:58:12.775Z"
   },
   {
    "duration": 129,
    "start_time": "2022-12-25T14:58:27.043Z"
   },
   {
    "duration": 385,
    "start_time": "2022-12-25T15:03:20.529Z"
   },
   {
    "duration": 348,
    "start_time": "2022-12-25T15:04:05.930Z"
   },
   {
    "duration": 1373,
    "start_time": "2022-12-25T15:04:34.990Z"
   },
   {
    "duration": 1118,
    "start_time": "2022-12-25T15:07:31.130Z"
   },
   {
    "duration": 319,
    "start_time": "2022-12-25T15:07:48.031Z"
   },
   {
    "duration": 4,
    "start_time": "2022-12-25T15:08:30.282Z"
   },
   {
    "duration": 340,
    "start_time": "2022-12-25T15:08:36.281Z"
   },
   {
    "duration": 291,
    "start_time": "2022-12-25T15:08:51.239Z"
   },
   {
    "duration": 164,
    "start_time": "2022-12-25T15:09:54.696Z"
   },
   {
    "duration": 148,
    "start_time": "2022-12-25T15:10:15.392Z"
   },
   {
    "duration": 161,
    "start_time": "2022-12-25T15:10:28.210Z"
   },
   {
    "duration": 8,
    "start_time": "2022-12-25T15:11:41.442Z"
   },
   {
    "duration": 11,
    "start_time": "2022-12-25T15:11:57.357Z"
   },
   {
    "duration": 7,
    "start_time": "2022-12-25T15:12:22.640Z"
   },
   {
    "duration": 203,
    "start_time": "2022-12-25T15:12:43.668Z"
   },
   {
    "duration": 209,
    "start_time": "2022-12-25T15:13:45.531Z"
   },
   {
    "duration": 148,
    "start_time": "2022-12-25T15:19:09.882Z"
   },
   {
    "duration": 10,
    "start_time": "2022-12-25T15:19:15.632Z"
   },
   {
    "duration": 8,
    "start_time": "2022-12-25T15:19:31.548Z"
   },
   {
    "duration": 8,
    "start_time": "2022-12-25T15:20:42.080Z"
   },
   {
    "duration": 5,
    "start_time": "2022-12-25T15:21:40.452Z"
   },
   {
    "duration": 73,
    "start_time": "2022-12-25T15:23:13.985Z"
   },
   {
    "duration": 214,
    "start_time": "2022-12-25T15:23:19.963Z"
   },
   {
    "duration": 210,
    "start_time": "2022-12-25T15:23:28.438Z"
   },
   {
    "duration": 209,
    "start_time": "2022-12-25T15:23:36.884Z"
   },
   {
    "duration": 127,
    "start_time": "2022-12-25T15:24:19.231Z"
   },
   {
    "duration": 139,
    "start_time": "2022-12-25T15:24:48.327Z"
   },
   {
    "duration": 203,
    "start_time": "2022-12-25T15:25:23.770Z"
   },
   {
    "duration": 156,
    "start_time": "2022-12-25T15:25:38.569Z"
   },
   {
    "duration": 138,
    "start_time": "2022-12-25T15:26:53.551Z"
   },
   {
    "duration": 165,
    "start_time": "2022-12-25T15:27:37.029Z"
   },
   {
    "duration": 202,
    "start_time": "2022-12-25T15:27:48.787Z"
   },
   {
    "duration": 248,
    "start_time": "2022-12-25T15:28:29.141Z"
   },
   {
    "duration": 204,
    "start_time": "2022-12-25T15:29:12.146Z"
   },
   {
    "duration": 185,
    "start_time": "2022-12-25T15:29:34.328Z"
   },
   {
    "duration": 240,
    "start_time": "2022-12-25T15:30:34.857Z"
   },
   {
    "duration": 200,
    "start_time": "2022-12-25T15:30:42.140Z"
   },
   {
    "duration": 129,
    "start_time": "2022-12-25T15:31:43.427Z"
   },
   {
    "duration": 12,
    "start_time": "2022-12-25T15:32:46.189Z"
   },
   {
    "duration": 125,
    "start_time": "2022-12-25T15:32:51.680Z"
   },
   {
    "duration": 130,
    "start_time": "2022-12-25T15:33:00.406Z"
   },
   {
    "duration": 192,
    "start_time": "2022-12-25T15:33:38.706Z"
   },
   {
    "duration": 201,
    "start_time": "2022-12-25T15:36:38.072Z"
   },
   {
    "duration": 177,
    "start_time": "2022-12-25T15:37:17.370Z"
   },
   {
    "duration": 283,
    "start_time": "2022-12-25T15:38:23.274Z"
   },
   {
    "duration": 193,
    "start_time": "2022-12-25T15:42:45.957Z"
   },
   {
    "duration": 168,
    "start_time": "2022-12-25T15:42:53.454Z"
   },
   {
    "duration": 172,
    "start_time": "2022-12-25T15:43:02.404Z"
   },
   {
    "duration": 638,
    "start_time": "2022-12-25T18:37:11.998Z"
   },
   {
    "duration": 1376,
    "start_time": "2022-12-25T18:37:12.638Z"
   },
   {
    "duration": 4,
    "start_time": "2022-12-25T18:37:14.016Z"
   },
   {
    "duration": 83,
    "start_time": "2022-12-25T18:37:14.022Z"
   },
   {
    "duration": 6,
    "start_time": "2022-12-25T18:37:14.113Z"
   },
   {
    "duration": 22,
    "start_time": "2022-12-25T18:37:14.122Z"
   },
   {
    "duration": 6,
    "start_time": "2022-12-25T18:37:14.146Z"
   },
   {
    "duration": 11,
    "start_time": "2022-12-25T18:37:14.153Z"
   },
   {
    "duration": 16,
    "start_time": "2022-12-25T18:37:14.165Z"
   },
   {
    "duration": 6,
    "start_time": "2022-12-25T18:37:14.184Z"
   },
   {
    "duration": 22,
    "start_time": "2022-12-25T18:37:14.191Z"
   },
   {
    "duration": 11,
    "start_time": "2022-12-25T18:37:14.215Z"
   },
   {
    "duration": 7,
    "start_time": "2022-12-25T18:37:14.227Z"
   },
   {
    "duration": 20,
    "start_time": "2022-12-25T18:37:14.236Z"
   },
   {
    "duration": 16,
    "start_time": "2022-12-25T18:37:14.258Z"
   },
   {
    "duration": 18,
    "start_time": "2022-12-25T18:37:14.276Z"
   },
   {
    "duration": 19,
    "start_time": "2022-12-25T18:37:14.298Z"
   },
   {
    "duration": 14,
    "start_time": "2022-12-25T18:37:14.319Z"
   },
   {
    "duration": 19,
    "start_time": "2022-12-25T18:37:14.335Z"
   },
   {
    "duration": 10,
    "start_time": "2022-12-25T18:37:14.355Z"
   },
   {
    "duration": 219,
    "start_time": "2022-12-25T18:37:14.366Z"
   },
   {
    "duration": 27,
    "start_time": "2022-12-25T18:37:14.587Z"
   },
   {
    "duration": 101,
    "start_time": "2022-12-25T18:37:14.616Z"
   },
   {
    "duration": 1256,
    "start_time": "2022-12-25T18:37:14.728Z"
   },
   {
    "duration": 60,
    "start_time": "2022-12-25T18:37:15.985Z"
   },
   {
    "duration": 273,
    "start_time": "2022-12-25T18:37:16.048Z"
   },
   {
    "duration": 10,
    "start_time": "2022-12-25T18:37:16.322Z"
   },
   {
    "duration": 297,
    "start_time": "2022-12-25T18:37:16.334Z"
   },
   {
    "duration": 309,
    "start_time": "2022-12-25T18:37:16.633Z"
   },
   {
    "duration": 185,
    "start_time": "2022-12-25T18:37:16.945Z"
   },
   {
    "duration": 210,
    "start_time": "2022-12-25T18:37:17.132Z"
   },
   {
    "duration": 190,
    "start_time": "2022-12-25T18:37:17.344Z"
   },
   {
    "duration": 222,
    "start_time": "2022-12-25T18:37:17.536Z"
   },
   {
    "duration": 182,
    "start_time": "2022-12-25T18:37:17.761Z"
   },
   {
    "duration": 21,
    "start_time": "2022-12-25T18:37:17.945Z"
   },
   {
    "duration": 29,
    "start_time": "2022-12-25T18:37:17.968Z"
   },
   {
    "duration": 71,
    "start_time": "2022-12-25T18:51:28.128Z"
   },
   {
    "duration": 9,
    "start_time": "2022-12-25T18:51:43.384Z"
   },
   {
    "duration": 7,
    "start_time": "2022-12-25T18:52:03.289Z"
   },
   {
    "duration": 7,
    "start_time": "2022-12-25T18:52:25.254Z"
   },
   {
    "duration": 7,
    "start_time": "2022-12-25T18:52:35.337Z"
   },
   {
    "duration": 6,
    "start_time": "2022-12-25T18:52:58.681Z"
   },
   {
    "duration": 113,
    "start_time": "2022-12-25T18:53:05.275Z"
   },
   {
    "duration": 12,
    "start_time": "2022-12-25T18:53:13.976Z"
   },
   {
    "duration": 12,
    "start_time": "2022-12-25T18:53:30.213Z"
   },
   {
    "duration": 109,
    "start_time": "2022-12-25T18:53:41.265Z"
   },
   {
    "duration": 118,
    "start_time": "2022-12-25T18:54:52.982Z"
   },
   {
    "duration": 121,
    "start_time": "2022-12-25T18:55:50.612Z"
   },
   {
    "duration": 115,
    "start_time": "2022-12-25T18:55:57.164Z"
   },
   {
    "duration": 177,
    "start_time": "2022-12-25T18:56:13.561Z"
   },
   {
    "duration": 143,
    "start_time": "2022-12-25T18:56:18.985Z"
   },
   {
    "duration": 113,
    "start_time": "2022-12-25T18:56:24.387Z"
   },
   {
    "duration": 126,
    "start_time": "2022-12-25T18:56:27.086Z"
   },
   {
    "duration": 127,
    "start_time": "2022-12-25T18:56:36.754Z"
   },
   {
    "duration": 132,
    "start_time": "2022-12-25T18:56:47.737Z"
   },
   {
    "duration": 160,
    "start_time": "2022-12-25T18:56:53.780Z"
   },
   {
    "duration": 136,
    "start_time": "2022-12-25T18:56:57.559Z"
   },
   {
    "duration": 135,
    "start_time": "2022-12-25T18:57:09.127Z"
   },
   {
    "duration": 131,
    "start_time": "2022-12-25T18:57:15.544Z"
   },
   {
    "duration": 137,
    "start_time": "2022-12-25T18:57:30.041Z"
   },
   {
    "duration": 197,
    "start_time": "2022-12-25T19:00:25.655Z"
   },
   {
    "duration": 264,
    "start_time": "2022-12-25T19:04:02.281Z"
   },
   {
    "duration": 197,
    "start_time": "2022-12-25T19:10:13.045Z"
   },
   {
    "duration": 188,
    "start_time": "2022-12-25T19:10:57.455Z"
   },
   {
    "duration": 201,
    "start_time": "2022-12-25T19:11:13.009Z"
   },
   {
    "duration": 125,
    "start_time": "2022-12-25T19:11:18.234Z"
   },
   {
    "duration": 196,
    "start_time": "2022-12-25T19:11:20.535Z"
   },
   {
    "duration": 229,
    "start_time": "2022-12-25T19:12:06.029Z"
   },
   {
    "duration": 287,
    "start_time": "2022-12-25T19:12:11.175Z"
   },
   {
    "duration": 266,
    "start_time": "2022-12-25T19:12:19.249Z"
   },
   {
    "duration": 267,
    "start_time": "2022-12-25T19:12:25.242Z"
   },
   {
    "duration": 284,
    "start_time": "2022-12-25T19:12:52.820Z"
   },
   {
    "duration": 285,
    "start_time": "2022-12-25T19:13:03.555Z"
   },
   {
    "duration": 294,
    "start_time": "2022-12-25T19:13:07.438Z"
   },
   {
    "duration": 297,
    "start_time": "2022-12-25T19:16:24.662Z"
   },
   {
    "duration": 398,
    "start_time": "2022-12-25T19:16:56.796Z"
   },
   {
    "duration": 281,
    "start_time": "2022-12-25T19:17:03.097Z"
   },
   {
    "duration": 312,
    "start_time": "2022-12-25T19:17:16.629Z"
   },
   {
    "duration": 318,
    "start_time": "2022-12-25T19:17:36.242Z"
   },
   {
    "duration": 303,
    "start_time": "2022-12-25T19:17:49.458Z"
   },
   {
    "duration": 383,
    "start_time": "2022-12-25T19:23:28.761Z"
   },
   {
    "duration": 313,
    "start_time": "2022-12-25T19:25:39.038Z"
   },
   {
    "duration": 343,
    "start_time": "2022-12-25T19:25:46.882Z"
   },
   {
    "duration": 319,
    "start_time": "2022-12-25T19:34:52.082Z"
   },
   {
    "duration": 309,
    "start_time": "2022-12-25T19:35:25.240Z"
   },
   {
    "duration": 304,
    "start_time": "2022-12-25T19:35:32.547Z"
   },
   {
    "duration": 390,
    "start_time": "2022-12-25T19:35:39.900Z"
   },
   {
    "duration": 293,
    "start_time": "2022-12-25T19:37:35.608Z"
   },
   {
    "duration": 399,
    "start_time": "2022-12-25T19:59:00.670Z"
   },
   {
    "duration": 8,
    "start_time": "2022-12-25T20:02:29.726Z"
   },
   {
    "duration": 8,
    "start_time": "2022-12-25T20:40:04.799Z"
   },
   {
    "duration": 429,
    "start_time": "2022-12-25T20:55:22.777Z"
   },
   {
    "duration": 945,
    "start_time": "2022-12-25T20:55:23.207Z"
   },
   {
    "duration": 3,
    "start_time": "2022-12-25T20:55:24.153Z"
   },
   {
    "duration": 110,
    "start_time": "2022-12-25T20:55:24.158Z"
   },
   {
    "duration": 4,
    "start_time": "2022-12-25T20:55:24.270Z"
   },
   {
    "duration": 7,
    "start_time": "2022-12-25T20:55:24.275Z"
   },
   {
    "duration": 8,
    "start_time": "2022-12-25T20:55:24.283Z"
   },
   {
    "duration": 9,
    "start_time": "2022-12-25T20:55:24.292Z"
   },
   {
    "duration": 13,
    "start_time": "2022-12-25T20:55:24.302Z"
   },
   {
    "duration": 5,
    "start_time": "2022-12-25T20:55:24.317Z"
   },
   {
    "duration": 7,
    "start_time": "2022-12-25T20:55:24.324Z"
   },
   {
    "duration": 5,
    "start_time": "2022-12-25T20:55:24.332Z"
   },
   {
    "duration": 6,
    "start_time": "2022-12-25T20:55:24.338Z"
   },
   {
    "duration": 16,
    "start_time": "2022-12-25T20:55:24.346Z"
   },
   {
    "duration": 11,
    "start_time": "2022-12-25T20:55:24.363Z"
   },
   {
    "duration": 39,
    "start_time": "2022-12-25T20:55:24.375Z"
   },
   {
    "duration": 5,
    "start_time": "2022-12-25T20:55:24.415Z"
   },
   {
    "duration": 18,
    "start_time": "2022-12-25T20:55:24.421Z"
   },
   {
    "duration": 12,
    "start_time": "2022-12-25T20:55:24.441Z"
   },
   {
    "duration": 11,
    "start_time": "2022-12-25T20:55:24.455Z"
   },
   {
    "duration": 218,
    "start_time": "2022-12-25T20:55:24.467Z"
   },
   {
    "duration": 26,
    "start_time": "2022-12-25T20:55:24.687Z"
   },
   {
    "duration": 69,
    "start_time": "2022-12-25T20:55:24.714Z"
   },
   {
    "duration": 942,
    "start_time": "2022-12-25T20:55:24.785Z"
   },
   {
    "duration": 45,
    "start_time": "2022-12-25T20:55:25.729Z"
   },
   {
    "duration": 276,
    "start_time": "2022-12-25T20:55:25.777Z"
   },
   {
    "duration": 9,
    "start_time": "2022-12-25T20:55:26.055Z"
   },
   {
    "duration": 237,
    "start_time": "2022-12-25T20:55:26.068Z"
   },
   {
    "duration": 168,
    "start_time": "2022-12-25T20:55:26.307Z"
   },
   {
    "duration": 228,
    "start_time": "2022-12-25T20:55:26.477Z"
   },
   {
    "duration": 185,
    "start_time": "2022-12-25T20:55:26.707Z"
   },
   {
    "duration": 191,
    "start_time": "2022-12-25T20:55:26.894Z"
   },
   {
    "duration": 186,
    "start_time": "2022-12-25T20:55:27.087Z"
   },
   {
    "duration": 163,
    "start_time": "2022-12-25T20:55:27.275Z"
   },
   {
    "duration": 293,
    "start_time": "2022-12-25T20:55:27.440Z"
   },
   {
    "duration": 308,
    "start_time": "2022-12-25T20:55:27.735Z"
   },
   {
    "duration": 276,
    "start_time": "2022-12-25T20:55:28.045Z"
   },
   {
    "duration": 473,
    "start_time": "2022-12-25T20:55:28.322Z"
   },
   {
    "duration": 7,
    "start_time": "2022-12-25T20:55:28.797Z"
   },
   {
    "duration": 7,
    "start_time": "2022-12-25T20:55:28.813Z"
   },
   {
    "duration": 442,
    "start_time": "2022-12-26T08:36:16.754Z"
   },
   {
    "duration": 1069,
    "start_time": "2022-12-26T08:36:17.197Z"
   },
   {
    "duration": 3,
    "start_time": "2022-12-26T08:36:18.268Z"
   },
   {
    "duration": 113,
    "start_time": "2022-12-26T08:36:18.273Z"
   },
   {
    "duration": 4,
    "start_time": "2022-12-26T08:36:18.388Z"
   },
   {
    "duration": 8,
    "start_time": "2022-12-26T08:36:18.393Z"
   },
   {
    "duration": 6,
    "start_time": "2022-12-26T08:36:18.402Z"
   },
   {
    "duration": 14,
    "start_time": "2022-12-26T08:36:18.409Z"
   },
   {
    "duration": 3,
    "start_time": "2022-12-26T08:36:18.425Z"
   },
   {
    "duration": 13,
    "start_time": "2022-12-26T08:36:18.431Z"
   },
   {
    "duration": 16,
    "start_time": "2022-12-26T08:36:18.446Z"
   },
   {
    "duration": 22,
    "start_time": "2022-12-26T08:36:18.463Z"
   },
   {
    "duration": 9,
    "start_time": "2022-12-26T08:36:18.487Z"
   },
   {
    "duration": 26,
    "start_time": "2022-12-26T08:36:18.498Z"
   },
   {
    "duration": 12,
    "start_time": "2022-12-26T08:36:18.525Z"
   },
   {
    "duration": 12,
    "start_time": "2022-12-26T08:36:18.539Z"
   },
   {
    "duration": 8,
    "start_time": "2022-12-26T08:36:18.552Z"
   },
   {
    "duration": 14,
    "start_time": "2022-12-26T08:36:18.562Z"
   },
   {
    "duration": 13,
    "start_time": "2022-12-26T08:36:18.577Z"
   },
   {
    "duration": 9,
    "start_time": "2022-12-26T08:36:18.622Z"
   },
   {
    "duration": 207,
    "start_time": "2022-12-26T08:36:18.632Z"
   },
   {
    "duration": 13,
    "start_time": "2022-12-26T08:36:18.841Z"
   },
   {
    "duration": 85,
    "start_time": "2022-12-26T08:36:18.855Z"
   },
   {
    "duration": 1058,
    "start_time": "2022-12-26T08:36:18.942Z"
   },
   {
    "duration": 55,
    "start_time": "2022-12-26T08:36:20.002Z"
   },
   {
    "duration": 278,
    "start_time": "2022-12-26T08:36:20.058Z"
   },
   {
    "duration": 8,
    "start_time": "2022-12-26T08:36:20.338Z"
   },
   {
    "duration": 245,
    "start_time": "2022-12-26T08:36:20.349Z"
   },
   {
    "duration": 160,
    "start_time": "2022-12-26T08:36:20.595Z"
   },
   {
    "duration": 234,
    "start_time": "2022-12-26T08:36:20.757Z"
   },
   {
    "duration": 186,
    "start_time": "2022-12-26T08:36:20.993Z"
   },
   {
    "duration": 175,
    "start_time": "2022-12-26T08:36:21.181Z"
   },
   {
    "duration": 185,
    "start_time": "2022-12-26T08:36:21.358Z"
   },
   {
    "duration": 192,
    "start_time": "2022-12-26T08:36:21.545Z"
   },
   {
    "duration": 325,
    "start_time": "2022-12-26T08:36:21.739Z"
   },
   {
    "duration": 332,
    "start_time": "2022-12-26T08:36:22.066Z"
   },
   {
    "duration": 311,
    "start_time": "2022-12-26T08:36:22.400Z"
   },
   {
    "duration": 502,
    "start_time": "2022-12-26T08:36:22.712Z"
   },
   {
    "duration": 11,
    "start_time": "2022-12-26T08:36:23.216Z"
   },
   {
    "duration": 11,
    "start_time": "2022-12-26T08:36:23.228Z"
   },
   {
    "duration": 75,
    "start_time": "2022-12-26T08:40:33.731Z"
   },
   {
    "duration": 77,
    "start_time": "2022-12-26T08:41:05.116Z"
   },
   {
    "duration": 73,
    "start_time": "2022-12-26T08:43:17.766Z"
   },
   {
    "duration": 237,
    "start_time": "2022-12-26T08:50:57.421Z"
   },
   {
    "duration": 171,
    "start_time": "2022-12-26T08:51:20.296Z"
   },
   {
    "duration": 174,
    "start_time": "2022-12-26T08:51:51.389Z"
   },
   {
    "duration": 178,
    "start_time": "2022-12-26T08:52:02.134Z"
   },
   {
    "duration": 137,
    "start_time": "2022-12-26T08:55:53.926Z"
   },
   {
    "duration": 192,
    "start_time": "2022-12-26T08:56:06.384Z"
   },
   {
    "duration": 48,
    "start_time": "2022-12-26T14:52:01.452Z"
   },
   {
    "duration": 768,
    "start_time": "2022-12-26T14:52:10.091Z"
   },
   {
    "duration": 207,
    "start_time": "2022-12-26T14:52:10.861Z"
   },
   {
    "duration": 849,
    "start_time": "2022-12-26T14:52:11.070Z"
   },
   {
    "duration": 3,
    "start_time": "2022-12-26T14:52:11.922Z"
   },
   {
    "duration": 58,
    "start_time": "2022-12-26T14:52:11.927Z"
   },
   {
    "duration": 5,
    "start_time": "2022-12-26T14:52:11.987Z"
   },
   {
    "duration": 25,
    "start_time": "2022-12-26T14:52:11.993Z"
   },
   {
    "duration": 7,
    "start_time": "2022-12-26T14:52:12.019Z"
   },
   {
    "duration": 12,
    "start_time": "2022-12-26T14:52:12.027Z"
   },
   {
    "duration": 12,
    "start_time": "2022-12-26T14:52:12.041Z"
   },
   {
    "duration": 9,
    "start_time": "2022-12-26T14:52:12.054Z"
   },
   {
    "duration": 20,
    "start_time": "2022-12-26T14:52:12.064Z"
   },
   {
    "duration": 13,
    "start_time": "2022-12-26T14:52:12.086Z"
   },
   {
    "duration": 20,
    "start_time": "2022-12-26T14:52:12.100Z"
   },
   {
    "duration": 24,
    "start_time": "2022-12-26T14:52:12.121Z"
   },
   {
    "duration": 12,
    "start_time": "2022-12-26T14:52:12.147Z"
   },
   {
    "duration": 23,
    "start_time": "2022-12-26T14:52:12.161Z"
   },
   {
    "duration": 11,
    "start_time": "2022-12-26T14:52:12.186Z"
   },
   {
    "duration": 27,
    "start_time": "2022-12-26T14:52:12.199Z"
   },
   {
    "duration": 18,
    "start_time": "2022-12-26T14:52:12.228Z"
   },
   {
    "duration": 31,
    "start_time": "2022-12-26T14:52:12.247Z"
   },
   {
    "duration": 200,
    "start_time": "2022-12-26T14:52:12.280Z"
   },
   {
    "duration": 13,
    "start_time": "2022-12-26T14:52:12.481Z"
   },
   {
    "duration": 83,
    "start_time": "2022-12-26T14:52:12.496Z"
   },
   {
    "duration": 1013,
    "start_time": "2022-12-26T14:52:12.581Z"
   },
   {
    "duration": 54,
    "start_time": "2022-12-26T14:52:13.596Z"
   },
   {
    "duration": 282,
    "start_time": "2022-12-26T14:52:13.652Z"
   },
   {
    "duration": 10,
    "start_time": "2022-12-26T14:52:13.938Z"
   },
   {
    "duration": 305,
    "start_time": "2022-12-26T14:52:13.950Z"
   },
   {
    "duration": 263,
    "start_time": "2022-12-26T14:52:14.257Z"
   },
   {
    "duration": 192,
    "start_time": "2022-12-26T14:52:14.522Z"
   },
   {
    "duration": 177,
    "start_time": "2022-12-26T14:52:14.715Z"
   },
   {
    "duration": 195,
    "start_time": "2022-12-26T14:52:14.894Z"
   },
   {
    "duration": 173,
    "start_time": "2022-12-26T14:52:15.092Z"
   },
   {
    "duration": 147,
    "start_time": "2022-12-26T14:52:15.266Z"
   },
   {
    "duration": 171,
    "start_time": "2022-12-26T14:52:15.415Z"
   },
   {
    "duration": 349,
    "start_time": "2022-12-26T14:52:15.588Z"
   },
   {
    "duration": 322,
    "start_time": "2022-12-26T14:52:15.939Z"
   },
   {
    "duration": 349,
    "start_time": "2022-12-26T14:52:16.263Z"
   },
   {
    "duration": 396,
    "start_time": "2022-12-26T14:52:16.613Z"
   },
   {
    "duration": 9,
    "start_time": "2022-12-26T14:52:17.011Z"
   },
   {
    "duration": 132,
    "start_time": "2022-12-26T14:52:17.022Z"
   },
   {
    "duration": 9,
    "start_time": "2022-12-26T14:52:17.156Z"
   },
   {
    "duration": 16,
    "start_time": "2022-12-26T14:59:10.477Z"
   },
   {
    "duration": 124,
    "start_time": "2022-12-26T14:59:30.433Z"
   },
   {
    "duration": 70,
    "start_time": "2022-12-26T15:01:05.412Z"
   },
   {
    "duration": 1383,
    "start_time": "2022-12-26T15:01:10.140Z"
   },
   {
    "duration": 124,
    "start_time": "2022-12-26T15:01:59.299Z"
   },
   {
    "duration": 125,
    "start_time": "2022-12-26T15:02:09.069Z"
   },
   {
    "duration": 94,
    "start_time": "2022-12-26T15:06:50.694Z"
   },
   {
    "duration": 41217,
    "start_time": "2022-12-26T15:07:03.763Z"
   },
   {
    "duration": 304,
    "start_time": "2022-12-26T15:09:13.783Z"
   },
   {
    "duration": 228,
    "start_time": "2022-12-26T15:09:24.265Z"
   },
   {
    "duration": 307,
    "start_time": "2022-12-26T15:14:08.001Z"
   },
   {
    "duration": 238,
    "start_time": "2022-12-26T15:14:31.390Z"
   },
   {
    "duration": 281,
    "start_time": "2022-12-26T15:18:22.103Z"
   },
   {
    "duration": 247,
    "start_time": "2022-12-26T15:18:31.836Z"
   },
   {
    "duration": 281,
    "start_time": "2022-12-26T15:18:45.491Z"
   },
   {
    "duration": 163,
    "start_time": "2022-12-26T15:25:38.653Z"
   },
   {
    "duration": 167,
    "start_time": "2022-12-26T15:26:04.880Z"
   },
   {
    "duration": 175,
    "start_time": "2022-12-26T15:27:54.287Z"
   },
   {
    "duration": 2102,
    "start_time": "2022-12-26T15:35:48.636Z"
   },
   {
    "duration": 1340,
    "start_time": "2022-12-26T15:36:23.577Z"
   },
   {
    "duration": 3,
    "start_time": "2022-12-26T15:37:06.565Z"
   },
   {
    "duration": 6,
    "start_time": "2022-12-26T15:37:19.618Z"
   },
   {
    "duration": 1166,
    "start_time": "2022-12-26T15:37:38.960Z"
   },
   {
    "duration": 1283,
    "start_time": "2022-12-26T15:37:45.938Z"
   },
   {
    "duration": 321,
    "start_time": "2022-12-26T15:38:29.021Z"
   },
   {
    "duration": 316,
    "start_time": "2022-12-26T15:39:19.493Z"
   },
   {
    "duration": 398,
    "start_time": "2022-12-26T15:39:56.907Z"
   },
   {
    "duration": 502,
    "start_time": "2022-12-26T15:40:14.923Z"
   },
   {
    "duration": 463,
    "start_time": "2022-12-26T15:40:31.454Z"
   },
   {
    "duration": 207,
    "start_time": "2022-12-26T15:40:47.322Z"
   },
   {
    "duration": 21,
    "start_time": "2022-12-26T16:19:13.599Z"
   },
   {
    "duration": 10,
    "start_time": "2022-12-26T16:24:05.513Z"
   },
   {
    "duration": 265,
    "start_time": "2022-12-26T16:30:29.346Z"
   },
   {
    "duration": 342,
    "start_time": "2022-12-26T16:30:56.177Z"
   },
   {
    "duration": 310,
    "start_time": "2022-12-26T16:31:09.214Z"
   },
   {
    "duration": 4,
    "start_time": "2022-12-26T16:31:25.587Z"
   },
   {
    "duration": 222,
    "start_time": "2022-12-26T16:31:53.423Z"
   },
   {
    "duration": 289,
    "start_time": "2022-12-26T16:32:00.127Z"
   },
   {
    "duration": 22,
    "start_time": "2022-12-26T16:32:07.645Z"
   },
   {
    "duration": 204,
    "start_time": "2022-12-26T16:32:14.381Z"
   },
   {
    "duration": 530,
    "start_time": "2022-12-26T20:27:30.600Z"
   },
   {
    "duration": 519,
    "start_time": "2022-12-26T20:27:39.516Z"
   },
   {
    "duration": 605,
    "start_time": "2022-12-26T20:35:10.299Z"
   },
   {
    "duration": 100,
    "start_time": "2022-12-26T20:36:09.896Z"
   },
   {
    "duration": 231,
    "start_time": "2022-12-26T20:36:48.769Z"
   },
   {
    "duration": 222,
    "start_time": "2022-12-26T20:36:56.592Z"
   },
   {
    "duration": 219,
    "start_time": "2022-12-26T20:37:03.530Z"
   },
   {
    "duration": 220,
    "start_time": "2022-12-26T20:37:12.170Z"
   },
   {
    "duration": 230,
    "start_time": "2022-12-26T20:37:17.034Z"
   },
   {
    "duration": 163,
    "start_time": "2022-12-26T20:37:33.790Z"
   },
   {
    "duration": 551,
    "start_time": "2022-12-26T20:37:51.512Z"
   },
   {
    "duration": 1145,
    "start_time": "2022-12-26T20:38:43.764Z"
   },
   {
    "duration": 1170,
    "start_time": "2022-12-26T20:39:05.793Z"
   },
   {
    "duration": 1355,
    "start_time": "2022-12-26T20:39:14.693Z"
   },
   {
    "duration": 1463,
    "start_time": "2022-12-26T20:39:49.168Z"
   },
   {
    "duration": 1407,
    "start_time": "2022-12-26T20:44:19.966Z"
   },
   {
    "duration": 1118,
    "start_time": "2022-12-26T20:44:27.224Z"
   },
   {
    "duration": 1721,
    "start_time": "2022-12-26T20:44:37.368Z"
   },
   {
    "duration": 1131,
    "start_time": "2022-12-26T20:44:47.204Z"
   },
   {
    "duration": 664,
    "start_time": "2022-12-26T20:46:29.457Z"
   },
   {
    "duration": 4,
    "start_time": "2022-12-26T20:46:30.123Z"
   },
   {
    "duration": 1136,
    "start_time": "2022-12-26T20:46:47.195Z"
   },
   {
    "duration": 550,
    "start_time": "2022-12-26T20:48:21.167Z"
   },
   {
    "duration": 1460,
    "start_time": "2022-12-26T20:51:16.972Z"
   },
   {
    "duration": 1707,
    "start_time": "2022-12-26T20:51:55.089Z"
   },
   {
    "duration": 1720,
    "start_time": "2022-12-26T20:52:01.589Z"
   },
   {
    "duration": 1522,
    "start_time": "2022-12-26T20:52:06.483Z"
   },
   {
    "duration": 1676,
    "start_time": "2022-12-26T20:53:31.812Z"
   },
   {
    "duration": 1584,
    "start_time": "2022-12-26T20:53:56.622Z"
   },
   {
    "duration": 142,
    "start_time": "2022-12-26T20:54:47.387Z"
   },
   {
    "duration": 144,
    "start_time": "2022-12-26T20:55:01.754Z"
   },
   {
    "duration": 1630,
    "start_time": "2022-12-26T20:56:28.267Z"
   },
   {
    "duration": 15,
    "start_time": "2022-12-26T20:58:05.657Z"
   },
   {
    "duration": 67,
    "start_time": "2022-12-26T21:19:01.434Z"
   },
   {
    "duration": 867,
    "start_time": "2022-12-26T21:19:09.868Z"
   },
   {
    "duration": 133,
    "start_time": "2022-12-26T21:19:10.738Z"
   },
   {
    "duration": 1029,
    "start_time": "2022-12-26T21:19:10.873Z"
   },
   {
    "duration": 4,
    "start_time": "2022-12-26T21:19:11.905Z"
   },
   {
    "duration": 94,
    "start_time": "2022-12-26T21:19:11.911Z"
   },
   {
    "duration": 6,
    "start_time": "2022-12-26T21:19:12.007Z"
   },
   {
    "duration": 50,
    "start_time": "2022-12-26T21:19:12.015Z"
   },
   {
    "duration": 23,
    "start_time": "2022-12-26T21:19:12.067Z"
   },
   {
    "duration": 23,
    "start_time": "2022-12-26T21:19:12.092Z"
   },
   {
    "duration": 23,
    "start_time": "2022-12-26T21:19:12.118Z"
   },
   {
    "duration": 15,
    "start_time": "2022-12-26T21:19:12.144Z"
   },
   {
    "duration": 20,
    "start_time": "2022-12-26T21:19:12.161Z"
   },
   {
    "duration": 8,
    "start_time": "2022-12-26T21:19:12.182Z"
   },
   {
    "duration": 13,
    "start_time": "2022-12-26T21:19:12.192Z"
   },
   {
    "duration": 33,
    "start_time": "2022-12-26T21:19:12.207Z"
   },
   {
    "duration": 25,
    "start_time": "2022-12-26T21:19:12.245Z"
   },
   {
    "duration": 23,
    "start_time": "2022-12-26T21:19:12.272Z"
   },
   {
    "duration": 14,
    "start_time": "2022-12-26T21:19:12.297Z"
   },
   {
    "duration": 35,
    "start_time": "2022-12-26T21:19:12.313Z"
   },
   {
    "duration": 46,
    "start_time": "2022-12-26T21:19:12.353Z"
   },
   {
    "duration": 23,
    "start_time": "2022-12-26T21:19:12.401Z"
   },
   {
    "duration": 345,
    "start_time": "2022-12-26T21:19:12.426Z"
   },
   {
    "duration": 16,
    "start_time": "2022-12-26T21:19:12.773Z"
   },
   {
    "duration": 117,
    "start_time": "2022-12-26T21:19:12.792Z"
   },
   {
    "duration": 1285,
    "start_time": "2022-12-26T21:19:12.911Z"
   },
   {
    "duration": 62,
    "start_time": "2022-12-26T21:19:14.198Z"
   },
   {
    "duration": 302,
    "start_time": "2022-12-26T21:19:14.261Z"
   },
   {
    "duration": 12,
    "start_time": "2022-12-26T21:19:14.568Z"
   },
   {
    "duration": 368,
    "start_time": "2022-12-26T21:19:14.582Z"
   },
   {
    "duration": 287,
    "start_time": "2022-12-26T21:19:14.953Z"
   },
   {
    "duration": 176,
    "start_time": "2022-12-26T21:19:15.242Z"
   },
   {
    "duration": 175,
    "start_time": "2022-12-26T21:19:15.420Z"
   },
   {
    "duration": 21,
    "start_time": "2022-12-26T21:19:15.598Z"
   },
   {
    "duration": 80,
    "start_time": "2022-12-26T21:19:15.635Z"
   },
   {
    "duration": 0,
    "start_time": "2022-12-26T21:19:15.717Z"
   },
   {
    "duration": 0,
    "start_time": "2022-12-26T21:19:15.718Z"
   },
   {
    "duration": 0,
    "start_time": "2022-12-26T21:19:15.720Z"
   },
   {
    "duration": 0,
    "start_time": "2022-12-26T21:19:15.721Z"
   },
   {
    "duration": 0,
    "start_time": "2022-12-26T21:19:15.735Z"
   },
   {
    "duration": 0,
    "start_time": "2022-12-26T21:19:15.736Z"
   },
   {
    "duration": 0,
    "start_time": "2022-12-26T21:19:15.736Z"
   },
   {
    "duration": 0,
    "start_time": "2022-12-26T21:19:15.737Z"
   },
   {
    "duration": 0,
    "start_time": "2022-12-26T21:19:15.737Z"
   },
   {
    "duration": 0,
    "start_time": "2022-12-26T21:19:15.739Z"
   },
   {
    "duration": 0,
    "start_time": "2022-12-26T21:19:15.740Z"
   },
   {
    "duration": 0,
    "start_time": "2022-12-26T21:19:15.741Z"
   },
   {
    "duration": 0,
    "start_time": "2022-12-26T21:19:15.744Z"
   },
   {
    "duration": 0,
    "start_time": "2022-12-26T21:19:15.745Z"
   },
   {
    "duration": 13,
    "start_time": "2022-12-26T21:20:50.617Z"
   },
   {
    "duration": 16,
    "start_time": "2022-12-26T21:21:49.199Z"
   },
   {
    "duration": 4,
    "start_time": "2022-12-26T21:23:06.471Z"
   },
   {
    "duration": 11,
    "start_time": "2022-12-26T21:23:47.512Z"
   },
   {
    "duration": 8,
    "start_time": "2022-12-26T21:24:13.219Z"
   },
   {
    "duration": 8,
    "start_time": "2022-12-26T21:24:21.033Z"
   },
   {
    "duration": 8,
    "start_time": "2022-12-26T21:24:41.959Z"
   },
   {
    "duration": 5,
    "start_time": "2022-12-26T21:25:40.405Z"
   },
   {
    "duration": 17,
    "start_time": "2022-12-26T21:25:50.942Z"
   },
   {
    "duration": 15,
    "start_time": "2022-12-26T21:25:59.192Z"
   },
   {
    "duration": 4,
    "start_time": "2022-12-26T21:26:13.301Z"
   },
   {
    "duration": 658,
    "start_time": "2022-12-26T21:28:55.073Z"
   },
   {
    "duration": 737,
    "start_time": "2022-12-26T21:29:11.422Z"
   },
   {
    "duration": 1142,
    "start_time": "2022-12-26T21:29:50.125Z"
   },
   {
    "duration": 8,
    "start_time": "2022-12-26T21:29:59.259Z"
   },
   {
    "duration": 305,
    "start_time": "2022-12-26T21:31:21.523Z"
   },
   {
    "duration": 302,
    "start_time": "2022-12-26T21:31:36.037Z"
   },
   {
    "duration": 307,
    "start_time": "2022-12-26T21:31:39.328Z"
   },
   {
    "duration": 25,
    "start_time": "2022-12-26T21:31:56.625Z"
   },
   {
    "duration": 195,
    "start_time": "2022-12-26T21:34:39.484Z"
   },
   {
    "duration": 173,
    "start_time": "2022-12-26T21:34:39.818Z"
   },
   {
    "duration": 183,
    "start_time": "2022-12-26T21:34:41.692Z"
   },
   {
    "duration": 225,
    "start_time": "2022-12-26T21:34:43.002Z"
   },
   {
    "duration": 188,
    "start_time": "2022-12-26T21:35:00.802Z"
   },
   {
    "duration": 124,
    "start_time": "2022-12-26T21:35:25.123Z"
   },
   {
    "duration": 212,
    "start_time": "2022-12-26T21:35:30.192Z"
   },
   {
    "duration": 51,
    "start_time": "2022-12-26T21:36:02.819Z"
   },
   {
    "duration": 199,
    "start_time": "2022-12-26T21:36:07.940Z"
   },
   {
    "duration": 218,
    "start_time": "2022-12-26T21:36:18.827Z"
   },
   {
    "duration": 189,
    "start_time": "2022-12-26T21:37:37.259Z"
   },
   {
    "duration": 769,
    "start_time": "2022-12-26T21:49:21.754Z"
   },
   {
    "duration": 709,
    "start_time": "2022-12-26T21:49:33.155Z"
   },
   {
    "duration": 354,
    "start_time": "2022-12-26T21:50:09.873Z"
   },
   {
    "duration": 16,
    "start_time": "2022-12-26T21:50:40.078Z"
   },
   {
    "duration": 7,
    "start_time": "2022-12-26T21:51:06.196Z"
   },
   {
    "duration": 776,
    "start_time": "2022-12-26T21:51:20.504Z"
   },
   {
    "duration": 871,
    "start_time": "2022-12-26T21:51:34.602Z"
   },
   {
    "duration": 14,
    "start_time": "2022-12-26T21:51:58.036Z"
   },
   {
    "duration": 11,
    "start_time": "2022-12-26T21:52:04.758Z"
   },
   {
    "duration": 19,
    "start_time": "2022-12-26T21:52:12.457Z"
   },
   {
    "duration": 14,
    "start_time": "2022-12-26T21:52:34.682Z"
   },
   {
    "duration": 11,
    "start_time": "2022-12-26T21:55:23.608Z"
   },
   {
    "duration": 728,
    "start_time": "2022-12-26T21:56:33.742Z"
   },
   {
    "duration": 26,
    "start_time": "2022-12-26T21:57:23.446Z"
   },
   {
    "duration": 20,
    "start_time": "2022-12-26T21:58:01.641Z"
   },
   {
    "duration": 12,
    "start_time": "2022-12-26T21:59:34.208Z"
   },
   {
    "duration": 41,
    "start_time": "2022-12-26T21:59:53.713Z"
   },
   {
    "duration": 25,
    "start_time": "2022-12-26T22:00:12.516Z"
   },
   {
    "duration": 23,
    "start_time": "2022-12-26T22:00:19.182Z"
   },
   {
    "duration": 27,
    "start_time": "2022-12-26T22:00:37.408Z"
   },
   {
    "duration": 13,
    "start_time": "2022-12-26T22:01:23.251Z"
   },
   {
    "duration": 12,
    "start_time": "2022-12-26T22:01:29.445Z"
   },
   {
    "duration": 3,
    "start_time": "2022-12-26T22:05:08.842Z"
   },
   {
    "duration": 96,
    "start_time": "2022-12-26T22:05:09.039Z"
   },
   {
    "duration": 1083,
    "start_time": "2022-12-26T22:05:09.676Z"
   },
   {
    "duration": 4,
    "start_time": "2022-12-26T22:05:10.762Z"
   },
   {
    "duration": 18,
    "start_time": "2022-12-26T22:05:10.829Z"
   },
   {
    "duration": 7,
    "start_time": "2022-12-26T22:05:11.356Z"
   },
   {
    "duration": 5,
    "start_time": "2022-12-26T22:05:11.760Z"
   },
   {
    "duration": 6,
    "start_time": "2022-12-26T22:05:12.502Z"
   },
   {
    "duration": 6,
    "start_time": "2022-12-26T22:05:14.198Z"
   },
   {
    "duration": 8,
    "start_time": "2022-12-26T22:05:15.041Z"
   },
   {
    "duration": 7,
    "start_time": "2022-12-26T22:05:15.783Z"
   },
   {
    "duration": 9,
    "start_time": "2022-12-26T22:05:16.661Z"
   },
   {
    "duration": 8,
    "start_time": "2022-12-26T22:05:18.795Z"
   },
   {
    "duration": 5,
    "start_time": "2022-12-26T22:05:19.365Z"
   },
   {
    "duration": 16,
    "start_time": "2022-12-26T22:05:21.712Z"
   },
   {
    "duration": 22,
    "start_time": "2022-12-26T22:05:22.289Z"
   },
   {
    "duration": 15,
    "start_time": "2022-12-26T22:05:25.596Z"
   },
   {
    "duration": 11,
    "start_time": "2022-12-26T22:05:27.799Z"
   },
   {
    "duration": 17,
    "start_time": "2022-12-26T22:06:10.942Z"
   },
   {
    "duration": 21,
    "start_time": "2022-12-26T22:06:22.194Z"
   },
   {
    "duration": 12,
    "start_time": "2022-12-26T22:07:13.554Z"
   },
   {
    "duration": 18,
    "start_time": "2022-12-26T22:07:56.308Z"
   },
   {
    "duration": 18,
    "start_time": "2022-12-26T22:08:07.901Z"
   },
   {
    "duration": 16,
    "start_time": "2022-12-26T22:09:37.876Z"
   },
   {
    "duration": 18,
    "start_time": "2022-12-26T22:10:26.642Z"
   },
   {
    "duration": 21,
    "start_time": "2022-12-26T22:10:40.503Z"
   },
   {
    "duration": 20,
    "start_time": "2022-12-26T22:11:36.898Z"
   },
   {
    "duration": 14,
    "start_time": "2022-12-26T22:12:02.102Z"
   },
   {
    "duration": 21,
    "start_time": "2022-12-26T22:12:52.468Z"
   },
   {
    "duration": 17,
    "start_time": "2022-12-26T22:15:23.810Z"
   },
   {
    "duration": 12,
    "start_time": "2022-12-26T22:16:24.140Z"
   },
   {
    "duration": 10,
    "start_time": "2022-12-26T22:16:34.590Z"
   },
   {
    "duration": 17,
    "start_time": "2022-12-26T22:17:05.191Z"
   },
   {
    "duration": 755,
    "start_time": "2022-12-27T09:33:57.944Z"
   },
   {
    "duration": 128,
    "start_time": "2022-12-27T09:33:58.702Z"
   },
   {
    "duration": 865,
    "start_time": "2022-12-27T09:33:58.832Z"
   },
   {
    "duration": 3,
    "start_time": "2022-12-27T09:33:59.699Z"
   },
   {
    "duration": 52,
    "start_time": "2022-12-27T09:33:59.704Z"
   },
   {
    "duration": 5,
    "start_time": "2022-12-27T09:33:59.757Z"
   },
   {
    "duration": 25,
    "start_time": "2022-12-27T09:33:59.763Z"
   },
   {
    "duration": 10,
    "start_time": "2022-12-27T09:33:59.791Z"
   },
   {
    "duration": 7,
    "start_time": "2022-12-27T09:33:59.802Z"
   },
   {
    "duration": 3,
    "start_time": "2022-12-27T09:33:59.811Z"
   },
   {
    "duration": 8,
    "start_time": "2022-12-27T09:33:59.815Z"
   },
   {
    "duration": 12,
    "start_time": "2022-12-27T09:33:59.825Z"
   },
   {
    "duration": 8,
    "start_time": "2022-12-27T09:33:59.839Z"
   },
   {
    "duration": 9,
    "start_time": "2022-12-27T09:33:59.849Z"
   },
   {
    "duration": 34,
    "start_time": "2022-12-27T09:33:59.859Z"
   },
   {
    "duration": 12,
    "start_time": "2022-12-27T09:33:59.895Z"
   },
   {
    "duration": 12,
    "start_time": "2022-12-27T09:33:59.908Z"
   },
   {
    "duration": 9,
    "start_time": "2022-12-27T09:33:59.921Z"
   },
   {
    "duration": 95,
    "start_time": "2022-12-27T09:33:59.931Z"
   },
   {
    "duration": 0,
    "start_time": "2022-12-27T09:34:00.028Z"
   },
   {
    "duration": 0,
    "start_time": "2022-12-27T09:34:00.029Z"
   },
   {
    "duration": 0,
    "start_time": "2022-12-27T09:34:00.031Z"
   },
   {
    "duration": 0,
    "start_time": "2022-12-27T09:34:00.032Z"
   },
   {
    "duration": 0,
    "start_time": "2022-12-27T09:34:00.033Z"
   },
   {
    "duration": 0,
    "start_time": "2022-12-27T09:34:00.034Z"
   },
   {
    "duration": 0,
    "start_time": "2022-12-27T09:34:00.035Z"
   },
   {
    "duration": 0,
    "start_time": "2022-12-27T09:34:00.036Z"
   },
   {
    "duration": 0,
    "start_time": "2022-12-27T09:34:00.038Z"
   },
   {
    "duration": 0,
    "start_time": "2022-12-27T09:34:00.039Z"
   },
   {
    "duration": 0,
    "start_time": "2022-12-27T09:34:00.040Z"
   },
   {
    "duration": 0,
    "start_time": "2022-12-27T09:34:00.041Z"
   },
   {
    "duration": 0,
    "start_time": "2022-12-27T09:34:00.042Z"
   },
   {
    "duration": 0,
    "start_time": "2022-12-27T09:34:00.043Z"
   },
   {
    "duration": 0,
    "start_time": "2022-12-27T09:34:00.044Z"
   },
   {
    "duration": 0,
    "start_time": "2022-12-27T09:34:00.085Z"
   },
   {
    "duration": 0,
    "start_time": "2022-12-27T09:34:00.085Z"
   },
   {
    "duration": 0,
    "start_time": "2022-12-27T09:34:00.086Z"
   },
   {
    "duration": 0,
    "start_time": "2022-12-27T09:34:00.087Z"
   },
   {
    "duration": 0,
    "start_time": "2022-12-27T09:34:00.088Z"
   },
   {
    "duration": 0,
    "start_time": "2022-12-27T09:34:00.088Z"
   },
   {
    "duration": 0,
    "start_time": "2022-12-27T09:34:00.091Z"
   },
   {
    "duration": 0,
    "start_time": "2022-12-27T09:34:00.093Z"
   },
   {
    "duration": 0,
    "start_time": "2022-12-27T09:34:00.095Z"
   },
   {
    "duration": 0,
    "start_time": "2022-12-27T09:34:00.096Z"
   },
   {
    "duration": 0,
    "start_time": "2022-12-27T09:34:00.098Z"
   },
   {
    "duration": 0,
    "start_time": "2022-12-27T09:34:00.099Z"
   },
   {
    "duration": 0,
    "start_time": "2022-12-27T09:34:00.100Z"
   },
   {
    "duration": 0,
    "start_time": "2022-12-27T09:34:00.101Z"
   },
   {
    "duration": 0,
    "start_time": "2022-12-27T09:34:00.102Z"
   },
   {
    "duration": 11,
    "start_time": "2022-12-27T09:35:31.335Z"
   },
   {
    "duration": 6,
    "start_time": "2022-12-27T09:35:32.644Z"
   },
   {
    "duration": 19,
    "start_time": "2022-12-27T09:35:34.985Z"
   },
   {
    "duration": 15,
    "start_time": "2022-12-27T09:35:35.143Z"
   },
   {
    "duration": 716,
    "start_time": "2022-12-27T09:36:18.200Z"
   },
   {
    "duration": 94,
    "start_time": "2022-12-27T09:36:18.919Z"
   },
   {
    "duration": 1017,
    "start_time": "2022-12-27T09:36:19.015Z"
   },
   {
    "duration": 3,
    "start_time": "2022-12-27T09:36:20.034Z"
   },
   {
    "duration": 81,
    "start_time": "2022-12-27T09:36:20.039Z"
   },
   {
    "duration": 4,
    "start_time": "2022-12-27T09:36:20.123Z"
   },
   {
    "duration": 15,
    "start_time": "2022-12-27T09:36:20.129Z"
   },
   {
    "duration": 16,
    "start_time": "2022-12-27T09:36:20.145Z"
   },
   {
    "duration": 7,
    "start_time": "2022-12-27T09:36:20.163Z"
   },
   {
    "duration": 11,
    "start_time": "2022-12-27T09:36:20.172Z"
   },
   {
    "duration": 40,
    "start_time": "2022-12-27T09:36:20.185Z"
   },
   {
    "duration": 36,
    "start_time": "2022-12-27T09:36:20.227Z"
   },
   {
    "duration": 12,
    "start_time": "2022-12-27T09:36:20.265Z"
   },
   {
    "duration": 26,
    "start_time": "2022-12-27T09:36:20.281Z"
   },
   {
    "duration": 21,
    "start_time": "2022-12-27T09:36:20.311Z"
   },
   {
    "duration": 13,
    "start_time": "2022-12-27T09:36:20.334Z"
   },
   {
    "duration": 18,
    "start_time": "2022-12-27T09:36:20.348Z"
   },
   {
    "duration": 47,
    "start_time": "2022-12-27T09:36:20.367Z"
   },
   {
    "duration": 18,
    "start_time": "2022-12-27T09:36:20.416Z"
   },
   {
    "duration": 19,
    "start_time": "2022-12-27T09:36:20.435Z"
   },
   {
    "duration": 32,
    "start_time": "2022-12-27T09:36:20.455Z"
   },
   {
    "duration": 21,
    "start_time": "2022-12-27T09:36:20.493Z"
   },
   {
    "duration": 22,
    "start_time": "2022-12-27T09:36:20.515Z"
   },
   {
    "duration": 214,
    "start_time": "2022-12-27T09:36:20.539Z"
   },
   {
    "duration": 33,
    "start_time": "2022-12-27T09:36:20.755Z"
   },
   {
    "duration": 74,
    "start_time": "2022-12-27T09:36:20.793Z"
   },
   {
    "duration": 1091,
    "start_time": "2022-12-27T09:36:20.869Z"
   },
   {
    "duration": 52,
    "start_time": "2022-12-27T09:36:21.962Z"
   },
   {
    "duration": 302,
    "start_time": "2022-12-27T09:36:22.016Z"
   },
   {
    "duration": 10,
    "start_time": "2022-12-27T09:36:22.320Z"
   },
   {
    "duration": 286,
    "start_time": "2022-12-27T09:36:22.331Z"
   },
   {
    "duration": 392,
    "start_time": "2022-12-27T09:36:22.619Z"
   },
   {
    "duration": 218,
    "start_time": "2022-12-27T09:36:23.013Z"
   },
   {
    "duration": 180,
    "start_time": "2022-12-27T09:36:23.234Z"
   },
   {
    "duration": 345,
    "start_time": "2022-12-27T09:36:23.415Z"
   },
   {
    "duration": 342,
    "start_time": "2022-12-27T09:36:23.762Z"
   },
   {
    "duration": 214,
    "start_time": "2022-12-27T09:36:24.106Z"
   },
   {
    "duration": 214,
    "start_time": "2022-12-27T09:36:24.321Z"
   },
   {
    "duration": 197,
    "start_time": "2022-12-27T09:36:24.537Z"
   },
   {
    "duration": 249,
    "start_time": "2022-12-27T09:36:24.736Z"
   },
   {
    "duration": 207,
    "start_time": "2022-12-27T09:36:24.990Z"
   },
   {
    "duration": 471,
    "start_time": "2022-12-27T09:36:25.199Z"
   },
   {
    "duration": 364,
    "start_time": "2022-12-27T09:36:25.672Z"
   },
   {
    "duration": 308,
    "start_time": "2022-12-27T09:36:26.038Z"
   },
   {
    "duration": 518,
    "start_time": "2022-12-27T09:36:26.348Z"
   },
   {
    "duration": 20,
    "start_time": "2022-12-27T09:36:26.867Z"
   },
   {
    "duration": 127,
    "start_time": "2022-12-27T09:36:26.889Z"
   },
   {
    "duration": 10,
    "start_time": "2022-12-27T09:36:27.017Z"
   },
   {
    "duration": 9,
    "start_time": "2022-12-27T09:48:45.507Z"
   },
   {
    "duration": 13,
    "start_time": "2022-12-27T09:49:56.370Z"
   },
   {
    "duration": 10,
    "start_time": "2022-12-27T09:51:05.253Z"
   },
   {
    "duration": 631,
    "start_time": "2022-12-27T10:02:52.566Z"
   },
   {
    "duration": 78,
    "start_time": "2022-12-27T10:02:53.199Z"
   },
   {
    "duration": 885,
    "start_time": "2022-12-27T10:02:53.279Z"
   },
   {
    "duration": 20,
    "start_time": "2022-12-27T10:02:54.167Z"
   },
   {
    "duration": 54,
    "start_time": "2022-12-27T10:02:54.193Z"
   },
   {
    "duration": 4,
    "start_time": "2022-12-27T10:02:54.249Z"
   },
   {
    "duration": 7,
    "start_time": "2022-12-27T10:02:54.254Z"
   },
   {
    "duration": 5,
    "start_time": "2022-12-27T10:02:54.263Z"
   },
   {
    "duration": 9,
    "start_time": "2022-12-27T10:02:54.270Z"
   },
   {
    "duration": 13,
    "start_time": "2022-12-27T10:02:54.282Z"
   },
   {
    "duration": 12,
    "start_time": "2022-12-27T10:02:54.296Z"
   },
   {
    "duration": 11,
    "start_time": "2022-12-27T10:02:54.309Z"
   },
   {
    "duration": 10,
    "start_time": "2022-12-27T10:02:54.321Z"
   },
   {
    "duration": 19,
    "start_time": "2022-12-27T10:02:54.333Z"
   },
   {
    "duration": 18,
    "start_time": "2022-12-27T10:02:54.353Z"
   },
   {
    "duration": 18,
    "start_time": "2022-12-27T10:02:54.373Z"
   },
   {
    "duration": 18,
    "start_time": "2022-12-27T10:02:54.393Z"
   },
   {
    "duration": 11,
    "start_time": "2022-12-27T10:02:54.412Z"
   },
   {
    "duration": 10,
    "start_time": "2022-12-27T10:02:54.424Z"
   },
   {
    "duration": 10,
    "start_time": "2022-12-27T10:02:54.436Z"
   },
   {
    "duration": 20,
    "start_time": "2022-12-27T10:02:54.447Z"
   },
   {
    "duration": 32,
    "start_time": "2022-12-27T10:02:54.469Z"
   },
   {
    "duration": 7,
    "start_time": "2022-12-27T10:02:54.502Z"
   },
   {
    "duration": 209,
    "start_time": "2022-12-27T10:02:54.511Z"
   },
   {
    "duration": 13,
    "start_time": "2022-12-27T10:02:54.722Z"
   },
   {
    "duration": 114,
    "start_time": "2022-12-27T10:02:54.740Z"
   },
   {
    "duration": 1115,
    "start_time": "2022-12-27T10:02:54.856Z"
   },
   {
    "duration": 51,
    "start_time": "2022-12-27T10:02:55.979Z"
   },
   {
    "duration": 281,
    "start_time": "2022-12-27T10:02:56.032Z"
   },
   {
    "duration": 10,
    "start_time": "2022-12-27T10:02:56.316Z"
   },
   {
    "duration": 269,
    "start_time": "2022-12-27T10:02:56.328Z"
   },
   {
    "duration": 349,
    "start_time": "2022-12-27T10:02:56.599Z"
   },
   {
    "duration": 165,
    "start_time": "2022-12-27T10:02:56.949Z"
   },
   {
    "duration": 161,
    "start_time": "2022-12-27T10:02:57.115Z"
   },
   {
    "duration": 323,
    "start_time": "2022-12-27T10:02:57.280Z"
   },
   {
    "duration": 330,
    "start_time": "2022-12-27T10:02:57.605Z"
   },
   {
    "duration": 208,
    "start_time": "2022-12-27T10:02:57.937Z"
   },
   {
    "duration": 186,
    "start_time": "2022-12-27T10:02:58.146Z"
   },
   {
    "duration": 198,
    "start_time": "2022-12-27T10:02:58.333Z"
   },
   {
    "duration": 205,
    "start_time": "2022-12-27T10:02:58.533Z"
   },
   {
    "duration": 198,
    "start_time": "2022-12-27T10:02:58.739Z"
   },
   {
    "duration": 399,
    "start_time": "2022-12-27T10:02:58.939Z"
   },
   {
    "duration": 342,
    "start_time": "2022-12-27T10:02:59.340Z"
   },
   {
    "duration": 303,
    "start_time": "2022-12-27T10:02:59.684Z"
   },
   {
    "duration": 545,
    "start_time": "2022-12-27T10:02:59.988Z"
   },
   {
    "duration": 9,
    "start_time": "2022-12-27T10:03:00.534Z"
   },
   {
    "duration": 165,
    "start_time": "2022-12-27T10:03:00.545Z"
   },
   {
    "duration": 11,
    "start_time": "2022-12-27T10:03:00.712Z"
   },
   {
    "duration": 600,
    "start_time": "2022-12-27T14:38:57.269Z"
   },
   {
    "duration": 216,
    "start_time": "2022-12-27T14:38:57.871Z"
   },
   {
    "duration": 933,
    "start_time": "2022-12-27T14:38:58.089Z"
   },
   {
    "duration": 3,
    "start_time": "2022-12-27T14:38:59.024Z"
   },
   {
    "duration": 88,
    "start_time": "2022-12-27T14:38:59.029Z"
   },
   {
    "duration": 6,
    "start_time": "2022-12-27T14:38:59.118Z"
   },
   {
    "duration": 72,
    "start_time": "2022-12-27T14:38:59.125Z"
   },
   {
    "duration": 35,
    "start_time": "2022-12-27T14:38:59.199Z"
   },
   {
    "duration": 31,
    "start_time": "2022-12-27T14:38:59.236Z"
   },
   {
    "duration": 47,
    "start_time": "2022-12-27T14:38:59.270Z"
   },
   {
    "duration": 36,
    "start_time": "2022-12-27T14:38:59.319Z"
   },
   {
    "duration": 47,
    "start_time": "2022-12-27T14:38:59.357Z"
   },
   {
    "duration": 23,
    "start_time": "2022-12-27T14:38:59.406Z"
   },
   {
    "duration": 61,
    "start_time": "2022-12-27T14:38:59.431Z"
   },
   {
    "duration": 45,
    "start_time": "2022-12-27T14:38:59.494Z"
   },
   {
    "duration": 26,
    "start_time": "2022-12-27T14:38:59.541Z"
   },
   {
    "duration": 58,
    "start_time": "2022-12-27T14:38:59.568Z"
   },
   {
    "duration": 53,
    "start_time": "2022-12-27T14:38:59.628Z"
   },
   {
    "duration": 43,
    "start_time": "2022-12-27T14:38:59.683Z"
   },
   {
    "duration": 10,
    "start_time": "2022-12-27T14:38:59.728Z"
   },
   {
    "duration": 42,
    "start_time": "2022-12-27T14:38:59.740Z"
   },
   {
    "duration": 15,
    "start_time": "2022-12-27T14:38:59.784Z"
   },
   {
    "duration": 38,
    "start_time": "2022-12-27T14:38:59.801Z"
   },
   {
    "duration": 261,
    "start_time": "2022-12-27T14:38:59.841Z"
   },
   {
    "duration": 19,
    "start_time": "2022-12-27T14:39:00.103Z"
   },
   {
    "duration": 99,
    "start_time": "2022-12-27T14:39:00.124Z"
   },
   {
    "duration": 1092,
    "start_time": "2022-12-27T14:39:00.225Z"
   },
   {
    "duration": 47,
    "start_time": "2022-12-27T14:39:01.321Z"
   },
   {
    "duration": 298,
    "start_time": "2022-12-27T14:39:01.369Z"
   },
   {
    "duration": 12,
    "start_time": "2022-12-27T14:39:01.669Z"
   },
   {
    "duration": 294,
    "start_time": "2022-12-27T14:39:01.683Z"
   },
   {
    "duration": 378,
    "start_time": "2022-12-27T14:39:01.979Z"
   },
   {
    "duration": 177,
    "start_time": "2022-12-27T14:39:02.359Z"
   },
   {
    "duration": 171,
    "start_time": "2022-12-27T14:39:02.538Z"
   },
   {
    "duration": 327,
    "start_time": "2022-12-27T14:39:02.711Z"
   },
   {
    "duration": 316,
    "start_time": "2022-12-27T14:39:03.040Z"
   },
   {
    "duration": 199,
    "start_time": "2022-12-27T14:39:03.358Z"
   },
   {
    "duration": 200,
    "start_time": "2022-12-27T14:39:03.559Z"
   },
   {
    "duration": 203,
    "start_time": "2022-12-27T14:39:03.761Z"
   },
   {
    "duration": 240,
    "start_time": "2022-12-27T14:39:03.966Z"
   },
   {
    "duration": 206,
    "start_time": "2022-12-27T14:39:04.211Z"
   },
   {
    "duration": 402,
    "start_time": "2022-12-27T14:39:04.422Z"
   },
   {
    "duration": 369,
    "start_time": "2022-12-27T14:39:04.826Z"
   },
   {
    "duration": 302,
    "start_time": "2022-12-27T14:39:05.197Z"
   },
   {
    "duration": 509,
    "start_time": "2022-12-27T14:39:05.501Z"
   },
   {
    "duration": 13,
    "start_time": "2022-12-27T14:39:06.012Z"
   },
   {
    "duration": 134,
    "start_time": "2022-12-27T14:39:06.026Z"
   },
   {
    "duration": 9,
    "start_time": "2022-12-27T14:39:06.162Z"
   },
   {
    "duration": 77,
    "start_time": "2022-12-27T14:39:33.758Z"
   },
   {
    "duration": 30,
    "start_time": "2022-12-27T14:43:08.657Z"
   },
   {
    "duration": 336,
    "start_time": "2022-12-27T14:45:36.370Z"
   },
   {
    "duration": 11,
    "start_time": "2022-12-27T14:49:45.377Z"
   },
   {
    "duration": 10,
    "start_time": "2022-12-27T14:50:33.596Z"
   },
   {
    "duration": 115,
    "start_time": "2022-12-27T14:53:50.444Z"
   },
   {
    "duration": 54,
    "start_time": "2022-12-30T19:44:03.748Z"
   },
   {
    "duration": 841,
    "start_time": "2022-12-30T19:44:27.801Z"
   },
   {
    "duration": 127,
    "start_time": "2022-12-30T19:44:28.645Z"
   },
   {
    "duration": 913,
    "start_time": "2022-12-30T19:44:28.774Z"
   },
   {
    "duration": 4,
    "start_time": "2022-12-30T19:44:29.690Z"
   },
   {
    "duration": 73,
    "start_time": "2022-12-30T19:44:29.696Z"
   },
   {
    "duration": 4,
    "start_time": "2022-12-30T19:44:29.771Z"
   },
   {
    "duration": 17,
    "start_time": "2022-12-30T19:44:29.777Z"
   },
   {
    "duration": 8,
    "start_time": "2022-12-30T19:44:29.796Z"
   },
   {
    "duration": 11,
    "start_time": "2022-12-30T19:44:29.806Z"
   },
   {
    "duration": 14,
    "start_time": "2022-12-30T19:44:29.820Z"
   },
   {
    "duration": 17,
    "start_time": "2022-12-30T19:44:29.836Z"
   },
   {
    "duration": 15,
    "start_time": "2022-12-30T19:44:29.855Z"
   },
   {
    "duration": 9,
    "start_time": "2022-12-30T19:44:29.872Z"
   },
   {
    "duration": 14,
    "start_time": "2022-12-30T19:44:29.883Z"
   },
   {
    "duration": 27,
    "start_time": "2022-12-30T19:44:29.898Z"
   },
   {
    "duration": 14,
    "start_time": "2022-12-30T19:44:29.926Z"
   },
   {
    "duration": 22,
    "start_time": "2022-12-30T19:44:29.941Z"
   },
   {
    "duration": 13,
    "start_time": "2022-12-30T19:44:29.965Z"
   },
   {
    "duration": 24,
    "start_time": "2022-12-30T19:44:29.979Z"
   },
   {
    "duration": 29,
    "start_time": "2022-12-30T19:44:30.004Z"
   },
   {
    "duration": 30,
    "start_time": "2022-12-30T19:44:30.034Z"
   },
   {
    "duration": 20,
    "start_time": "2022-12-30T19:44:30.066Z"
   },
   {
    "duration": 32,
    "start_time": "2022-12-30T19:44:30.087Z"
   },
   {
    "duration": 255,
    "start_time": "2022-12-30T19:44:30.121Z"
   },
   {
    "duration": 17,
    "start_time": "2022-12-30T19:44:30.380Z"
   },
   {
    "duration": 117,
    "start_time": "2022-12-30T19:44:30.398Z"
   },
   {
    "duration": 1046,
    "start_time": "2022-12-30T19:44:30.516Z"
   },
   {
    "duration": 44,
    "start_time": "2022-12-30T19:44:31.566Z"
   },
   {
    "duration": 308,
    "start_time": "2022-12-30T19:44:31.612Z"
   },
   {
    "duration": 15,
    "start_time": "2022-12-30T19:44:31.921Z"
   },
   {
    "duration": 277,
    "start_time": "2022-12-30T19:44:31.937Z"
   },
   {
    "duration": 462,
    "start_time": "2022-12-30T19:44:32.216Z"
   },
   {
    "duration": 821,
    "start_time": "2022-12-30T19:44:32.680Z"
   },
   {
    "duration": 250,
    "start_time": "2022-12-30T19:44:33.503Z"
   },
   {
    "duration": 172,
    "start_time": "2022-12-30T19:44:33.754Z"
   },
   {
    "duration": 322,
    "start_time": "2022-12-30T19:44:33.927Z"
   },
   {
    "duration": 312,
    "start_time": "2022-12-30T19:44:34.251Z"
   },
   {
    "duration": 130,
    "start_time": "2022-12-30T19:44:34.565Z"
   },
   {
    "duration": 0,
    "start_time": "2022-12-30T19:44:34.697Z"
   },
   {
    "duration": 0,
    "start_time": "2022-12-30T19:44:34.699Z"
   },
   {
    "duration": 0,
    "start_time": "2022-12-30T19:44:34.700Z"
   },
   {
    "duration": 0,
    "start_time": "2022-12-30T19:44:34.701Z"
   },
   {
    "duration": 0,
    "start_time": "2022-12-30T19:44:34.702Z"
   },
   {
    "duration": 0,
    "start_time": "2022-12-30T19:44:34.703Z"
   },
   {
    "duration": 0,
    "start_time": "2022-12-30T19:44:34.704Z"
   },
   {
    "duration": 0,
    "start_time": "2022-12-30T19:44:34.706Z"
   },
   {
    "duration": 0,
    "start_time": "2022-12-30T19:44:34.706Z"
   },
   {
    "duration": 0,
    "start_time": "2022-12-30T19:44:34.708Z"
   },
   {
    "duration": 0,
    "start_time": "2022-12-30T19:44:34.709Z"
   },
   {
    "duration": 0,
    "start_time": "2022-12-30T19:44:34.711Z"
   },
   {
    "duration": 0,
    "start_time": "2022-12-30T19:44:34.735Z"
   },
   {
    "duration": 0,
    "start_time": "2022-12-30T19:44:34.736Z"
   },
   {
    "duration": 33,
    "start_time": "2022-12-30T19:47:35.903Z"
   },
   {
    "duration": 14,
    "start_time": "2022-12-30T19:48:13.026Z"
   },
   {
    "duration": 15,
    "start_time": "2022-12-30T19:49:30.583Z"
   },
   {
    "duration": 20,
    "start_time": "2022-12-30T19:50:28.123Z"
   },
   {
    "duration": 819,
    "start_time": "2022-12-31T06:30:34.689Z"
   },
   {
    "duration": 505,
    "start_time": "2022-12-31T06:30:35.510Z"
   },
   {
    "duration": 912,
    "start_time": "2022-12-31T06:30:36.017Z"
   },
   {
    "duration": 3,
    "start_time": "2022-12-31T06:30:36.931Z"
   },
   {
    "duration": 63,
    "start_time": "2022-12-31T06:30:36.936Z"
   },
   {
    "duration": 5,
    "start_time": "2022-12-31T06:30:37.001Z"
   },
   {
    "duration": 9,
    "start_time": "2022-12-31T06:30:37.007Z"
   },
   {
    "duration": 7,
    "start_time": "2022-12-31T06:30:37.017Z"
   },
   {
    "duration": 10,
    "start_time": "2022-12-31T06:30:37.026Z"
   },
   {
    "duration": 5,
    "start_time": "2022-12-31T06:30:37.050Z"
   },
   {
    "duration": 9,
    "start_time": "2022-12-31T06:30:37.056Z"
   },
   {
    "duration": 12,
    "start_time": "2022-12-31T06:30:37.067Z"
   },
   {
    "duration": 8,
    "start_time": "2022-12-31T06:30:37.081Z"
   },
   {
    "duration": 10,
    "start_time": "2022-12-31T06:30:37.091Z"
   },
   {
    "duration": 19,
    "start_time": "2022-12-31T06:30:37.102Z"
   },
   {
    "duration": 32,
    "start_time": "2022-12-31T06:30:37.122Z"
   },
   {
    "duration": 14,
    "start_time": "2022-12-31T06:30:37.156Z"
   },
   {
    "duration": 11,
    "start_time": "2022-12-31T06:30:37.173Z"
   },
   {
    "duration": 12,
    "start_time": "2022-12-31T06:30:37.186Z"
   },
   {
    "duration": 5,
    "start_time": "2022-12-31T06:30:37.200Z"
   },
   {
    "duration": 45,
    "start_time": "2022-12-31T06:30:37.207Z"
   },
   {
    "duration": 14,
    "start_time": "2022-12-31T06:30:37.254Z"
   },
   {
    "duration": 10,
    "start_time": "2022-12-31T06:30:37.270Z"
   },
   {
    "duration": 225,
    "start_time": "2022-12-31T06:30:37.281Z"
   },
   {
    "duration": 13,
    "start_time": "2022-12-31T06:30:37.508Z"
   },
   {
    "duration": 96,
    "start_time": "2022-12-31T06:30:37.523Z"
   },
   {
    "duration": 1019,
    "start_time": "2022-12-31T06:30:37.621Z"
   },
   {
    "duration": 49,
    "start_time": "2022-12-31T06:30:38.643Z"
   },
   {
    "duration": 291,
    "start_time": "2022-12-31T06:30:38.694Z"
   },
   {
    "duration": 10,
    "start_time": "2022-12-31T06:30:38.987Z"
   },
   {
    "duration": 282,
    "start_time": "2022-12-31T06:30:38.999Z"
   },
   {
    "duration": 422,
    "start_time": "2022-12-31T06:30:39.283Z"
   },
   {
    "duration": 811,
    "start_time": "2022-12-31T06:30:39.707Z"
   },
   {
    "duration": 277,
    "start_time": "2022-12-31T06:30:40.519Z"
   },
   {
    "duration": 185,
    "start_time": "2022-12-31T06:30:40.797Z"
   },
   {
    "duration": 325,
    "start_time": "2022-12-31T06:30:40.983Z"
   },
   {
    "duration": 316,
    "start_time": "2022-12-31T06:30:41.310Z"
   },
   {
    "duration": 26,
    "start_time": "2022-12-31T06:30:41.628Z"
   },
   {
    "duration": 25,
    "start_time": "2022-12-31T06:30:41.656Z"
   },
   {
    "duration": 191,
    "start_time": "2022-12-31T06:30:41.683Z"
   },
   {
    "duration": 206,
    "start_time": "2022-12-31T06:30:41.876Z"
   },
   {
    "duration": 198,
    "start_time": "2022-12-31T06:30:42.084Z"
   },
   {
    "duration": 205,
    "start_time": "2022-12-31T06:30:42.284Z"
   },
   {
    "duration": 183,
    "start_time": "2022-12-31T06:30:42.491Z"
   },
   {
    "duration": 85,
    "start_time": "2022-12-31T06:30:42.676Z"
   },
   {
    "duration": 0,
    "start_time": "2022-12-31T06:30:42.763Z"
   },
   {
    "duration": 0,
    "start_time": "2022-12-31T06:30:42.764Z"
   },
   {
    "duration": 0,
    "start_time": "2022-12-31T06:30:42.766Z"
   },
   {
    "duration": 0,
    "start_time": "2022-12-31T06:30:42.767Z"
   },
   {
    "duration": 0,
    "start_time": "2022-12-31T06:30:42.768Z"
   },
   {
    "duration": 0,
    "start_time": "2022-12-31T06:30:42.769Z"
   },
   {
    "duration": 0,
    "start_time": "2022-12-31T06:30:42.771Z"
   },
   {
    "duration": 342,
    "start_time": "2022-12-31T06:31:00.393Z"
   },
   {
    "duration": 450,
    "start_time": "2022-12-31T06:31:00.737Z"
   },
   {
    "duration": 321,
    "start_time": "2022-12-31T06:31:01.189Z"
   },
   {
    "duration": 3,
    "start_time": "2022-12-31T06:31:01.512Z"
   },
   {
    "duration": 46,
    "start_time": "2022-12-31T06:31:01.517Z"
   },
   {
    "duration": 162,
    "start_time": "2022-12-31T06:31:01.565Z"
   },
   {
    "duration": 11,
    "start_time": "2022-12-31T06:31:01.729Z"
   }
  ],
  "kernelspec": {
   "display_name": "Python 3 (ipykernel)",
   "language": "python",
   "name": "python3"
  },
  "language_info": {
   "codemirror_mode": {
    "name": "ipython",
    "version": 3
   },
   "file_extension": ".py",
   "mimetype": "text/x-python",
   "name": "python",
   "nbconvert_exporter": "python",
   "pygments_lexer": "ipython3",
   "version": "3.9.5"
  },
  "toc": {
   "base_numbering": 1,
   "nav_menu": {},
   "number_sections": true,
   "sideBar": true,
   "skip_h1_title": true,
   "title_cell": "Table of Contents",
   "title_sidebar": "Contents",
   "toc_cell": false,
   "toc_position": {},
   "toc_section_display": true,
   "toc_window_display": false
  }
 },
 "nbformat": 4,
 "nbformat_minor": 2
}
