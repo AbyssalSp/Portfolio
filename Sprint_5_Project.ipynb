{
 "cells": [
  {
   "cell_type": "markdown",
   "id": "c16d25d0",
   "metadata": {
    "deletable": false,
    "editable": false,
    "id": "c81daeeb"
   },
   "source": [
    "# Исследование надежности заемщиков\n"
   ]
  },
  {
   "cell_type": "markdown",
   "id": "bfc422fc",
   "metadata": {
    "deletable": false,
    "editable": false,
    "id": "827c20bf"
   },
   "source": [
    "Во второй части проекта вы выполните шаги 3 и 4. Их вручную проверит ревьюер.\n",
    "Чтобы вам не пришлось писать код заново для шагов 1 и 2, мы добавили авторские решения в ячейки с кодом. \n",
    "\n"
   ]
  },
  {
   "cell_type": "markdown",
   "id": "aecdacca",
   "metadata": {
    "deletable": false,
    "editable": false,
    "id": "744d7639"
   },
   "source": [
    "## Откройте таблицу и изучите общую информацию о данных"
   ]
  },
  {
   "cell_type": "markdown",
   "id": "829f4902",
   "metadata": {
    "deletable": false,
    "editable": false,
    "id": "e7a14c31"
   },
   "source": [
    "**Задание 1. Импортируйте библиотеку pandas. Считайте данные из csv-файла в датафрейм и сохраните в переменную `data`. Путь к файлу:**\n",
    "\n",
    "`/datasets/data.csv`"
   ]
  },
  {
   "cell_type": "code",
   "execution_count": 1,
   "id": "53141d67",
   "metadata": {
    "deletable": false,
    "id": "7bcf75c9"
   },
   "outputs": [],
   "source": [
    "import pandas as pd\n",
    "\n",
    "try:\n",
    "    data = pd.read_csv('/datasets/data.csv')\n",
    "except:\n",
    "    data = pd.read_csv('https://code.s3.yandex.net/datasets/data.csv')"
   ]
  },
  {
   "cell_type": "markdown",
   "id": "1a1f2a6a",
   "metadata": {
    "deletable": false,
    "editable": false,
    "id": "b8038fe3"
   },
   "source": [
    "**Задание 2. Выведите первые 20 строчек датафрейма `data` на экран.**"
   ]
  },
  {
   "cell_type": "code",
   "execution_count": 2,
   "id": "63f452e9",
   "metadata": {
    "deletable": false,
    "id": "2a7cab99",
    "outputId": "1a8f3ef2-d323-4ec2-ddf7-89670b5944c4"
   },
   "outputs": [
    {
     "data": {
      "text/html": [
       "<div>\n",
       "<style scoped>\n",
       "    .dataframe tbody tr th:only-of-type {\n",
       "        vertical-align: middle;\n",
       "    }\n",
       "\n",
       "    .dataframe tbody tr th {\n",
       "        vertical-align: top;\n",
       "    }\n",
       "\n",
       "    .dataframe thead th {\n",
       "        text-align: right;\n",
       "    }\n",
       "</style>\n",
       "<table border=\"1\" class=\"dataframe\">\n",
       "  <thead>\n",
       "    <tr style=\"text-align: right;\">\n",
       "      <th></th>\n",
       "      <th>children</th>\n",
       "      <th>days_employed</th>\n",
       "      <th>dob_years</th>\n",
       "      <th>education</th>\n",
       "      <th>education_id</th>\n",
       "      <th>family_status</th>\n",
       "      <th>family_status_id</th>\n",
       "      <th>gender</th>\n",
       "      <th>income_type</th>\n",
       "      <th>debt</th>\n",
       "      <th>total_income</th>\n",
       "      <th>purpose</th>\n",
       "    </tr>\n",
       "  </thead>\n",
       "  <tbody>\n",
       "    <tr>\n",
       "      <th>0</th>\n",
       "      <td>1</td>\n",
       "      <td>-8437.673028</td>\n",
       "      <td>42</td>\n",
       "      <td>высшее</td>\n",
       "      <td>0</td>\n",
       "      <td>женат / замужем</td>\n",
       "      <td>0</td>\n",
       "      <td>F</td>\n",
       "      <td>сотрудник</td>\n",
       "      <td>0</td>\n",
       "      <td>253875.639453</td>\n",
       "      <td>покупка жилья</td>\n",
       "    </tr>\n",
       "    <tr>\n",
       "      <th>1</th>\n",
       "      <td>1</td>\n",
       "      <td>-4024.803754</td>\n",
       "      <td>36</td>\n",
       "      <td>среднее</td>\n",
       "      <td>1</td>\n",
       "      <td>женат / замужем</td>\n",
       "      <td>0</td>\n",
       "      <td>F</td>\n",
       "      <td>сотрудник</td>\n",
       "      <td>0</td>\n",
       "      <td>112080.014102</td>\n",
       "      <td>приобретение автомобиля</td>\n",
       "    </tr>\n",
       "    <tr>\n",
       "      <th>2</th>\n",
       "      <td>0</td>\n",
       "      <td>-5623.422610</td>\n",
       "      <td>33</td>\n",
       "      <td>Среднее</td>\n",
       "      <td>1</td>\n",
       "      <td>женат / замужем</td>\n",
       "      <td>0</td>\n",
       "      <td>M</td>\n",
       "      <td>сотрудник</td>\n",
       "      <td>0</td>\n",
       "      <td>145885.952297</td>\n",
       "      <td>покупка жилья</td>\n",
       "    </tr>\n",
       "    <tr>\n",
       "      <th>3</th>\n",
       "      <td>3</td>\n",
       "      <td>-4124.747207</td>\n",
       "      <td>32</td>\n",
       "      <td>среднее</td>\n",
       "      <td>1</td>\n",
       "      <td>женат / замужем</td>\n",
       "      <td>0</td>\n",
       "      <td>M</td>\n",
       "      <td>сотрудник</td>\n",
       "      <td>0</td>\n",
       "      <td>267628.550329</td>\n",
       "      <td>дополнительное образование</td>\n",
       "    </tr>\n",
       "    <tr>\n",
       "      <th>4</th>\n",
       "      <td>0</td>\n",
       "      <td>340266.072047</td>\n",
       "      <td>53</td>\n",
       "      <td>среднее</td>\n",
       "      <td>1</td>\n",
       "      <td>гражданский брак</td>\n",
       "      <td>1</td>\n",
       "      <td>F</td>\n",
       "      <td>пенсионер</td>\n",
       "      <td>0</td>\n",
       "      <td>158616.077870</td>\n",
       "      <td>сыграть свадьбу</td>\n",
       "    </tr>\n",
       "    <tr>\n",
       "      <th>5</th>\n",
       "      <td>0</td>\n",
       "      <td>-926.185831</td>\n",
       "      <td>27</td>\n",
       "      <td>высшее</td>\n",
       "      <td>0</td>\n",
       "      <td>гражданский брак</td>\n",
       "      <td>1</td>\n",
       "      <td>M</td>\n",
       "      <td>компаньон</td>\n",
       "      <td>0</td>\n",
       "      <td>255763.565419</td>\n",
       "      <td>покупка жилья</td>\n",
       "    </tr>\n",
       "    <tr>\n",
       "      <th>6</th>\n",
       "      <td>0</td>\n",
       "      <td>-2879.202052</td>\n",
       "      <td>43</td>\n",
       "      <td>высшее</td>\n",
       "      <td>0</td>\n",
       "      <td>женат / замужем</td>\n",
       "      <td>0</td>\n",
       "      <td>F</td>\n",
       "      <td>компаньон</td>\n",
       "      <td>0</td>\n",
       "      <td>240525.971920</td>\n",
       "      <td>операции с жильем</td>\n",
       "    </tr>\n",
       "    <tr>\n",
       "      <th>7</th>\n",
       "      <td>0</td>\n",
       "      <td>-152.779569</td>\n",
       "      <td>50</td>\n",
       "      <td>СРЕДНЕЕ</td>\n",
       "      <td>1</td>\n",
       "      <td>женат / замужем</td>\n",
       "      <td>0</td>\n",
       "      <td>M</td>\n",
       "      <td>сотрудник</td>\n",
       "      <td>0</td>\n",
       "      <td>135823.934197</td>\n",
       "      <td>образование</td>\n",
       "    </tr>\n",
       "    <tr>\n",
       "      <th>8</th>\n",
       "      <td>2</td>\n",
       "      <td>-6929.865299</td>\n",
       "      <td>35</td>\n",
       "      <td>ВЫСШЕЕ</td>\n",
       "      <td>0</td>\n",
       "      <td>гражданский брак</td>\n",
       "      <td>1</td>\n",
       "      <td>F</td>\n",
       "      <td>сотрудник</td>\n",
       "      <td>0</td>\n",
       "      <td>95856.832424</td>\n",
       "      <td>на проведение свадьбы</td>\n",
       "    </tr>\n",
       "    <tr>\n",
       "      <th>9</th>\n",
       "      <td>0</td>\n",
       "      <td>-2188.756445</td>\n",
       "      <td>41</td>\n",
       "      <td>среднее</td>\n",
       "      <td>1</td>\n",
       "      <td>женат / замужем</td>\n",
       "      <td>0</td>\n",
       "      <td>M</td>\n",
       "      <td>сотрудник</td>\n",
       "      <td>0</td>\n",
       "      <td>144425.938277</td>\n",
       "      <td>покупка жилья для семьи</td>\n",
       "    </tr>\n",
       "    <tr>\n",
       "      <th>10</th>\n",
       "      <td>2</td>\n",
       "      <td>-4171.483647</td>\n",
       "      <td>36</td>\n",
       "      <td>высшее</td>\n",
       "      <td>0</td>\n",
       "      <td>женат / замужем</td>\n",
       "      <td>0</td>\n",
       "      <td>M</td>\n",
       "      <td>компаньон</td>\n",
       "      <td>0</td>\n",
       "      <td>113943.491460</td>\n",
       "      <td>покупка недвижимости</td>\n",
       "    </tr>\n",
       "    <tr>\n",
       "      <th>11</th>\n",
       "      <td>0</td>\n",
       "      <td>-792.701887</td>\n",
       "      <td>40</td>\n",
       "      <td>среднее</td>\n",
       "      <td>1</td>\n",
       "      <td>женат / замужем</td>\n",
       "      <td>0</td>\n",
       "      <td>F</td>\n",
       "      <td>сотрудник</td>\n",
       "      <td>0</td>\n",
       "      <td>77069.234271</td>\n",
       "      <td>покупка коммерческой недвижимости</td>\n",
       "    </tr>\n",
       "    <tr>\n",
       "      <th>12</th>\n",
       "      <td>0</td>\n",
       "      <td>NaN</td>\n",
       "      <td>65</td>\n",
       "      <td>среднее</td>\n",
       "      <td>1</td>\n",
       "      <td>гражданский брак</td>\n",
       "      <td>1</td>\n",
       "      <td>M</td>\n",
       "      <td>пенсионер</td>\n",
       "      <td>0</td>\n",
       "      <td>NaN</td>\n",
       "      <td>сыграть свадьбу</td>\n",
       "    </tr>\n",
       "    <tr>\n",
       "      <th>13</th>\n",
       "      <td>0</td>\n",
       "      <td>-1846.641941</td>\n",
       "      <td>54</td>\n",
       "      <td>неоконченное высшее</td>\n",
       "      <td>2</td>\n",
       "      <td>женат / замужем</td>\n",
       "      <td>0</td>\n",
       "      <td>F</td>\n",
       "      <td>сотрудник</td>\n",
       "      <td>0</td>\n",
       "      <td>130458.228857</td>\n",
       "      <td>приобретение автомобиля</td>\n",
       "    </tr>\n",
       "    <tr>\n",
       "      <th>14</th>\n",
       "      <td>0</td>\n",
       "      <td>-1844.956182</td>\n",
       "      <td>56</td>\n",
       "      <td>высшее</td>\n",
       "      <td>0</td>\n",
       "      <td>гражданский брак</td>\n",
       "      <td>1</td>\n",
       "      <td>F</td>\n",
       "      <td>компаньон</td>\n",
       "      <td>1</td>\n",
       "      <td>165127.911772</td>\n",
       "      <td>покупка жилой недвижимости</td>\n",
       "    </tr>\n",
       "    <tr>\n",
       "      <th>15</th>\n",
       "      <td>1</td>\n",
       "      <td>-972.364419</td>\n",
       "      <td>26</td>\n",
       "      <td>среднее</td>\n",
       "      <td>1</td>\n",
       "      <td>женат / замужем</td>\n",
       "      <td>0</td>\n",
       "      <td>F</td>\n",
       "      <td>сотрудник</td>\n",
       "      <td>0</td>\n",
       "      <td>116820.904450</td>\n",
       "      <td>строительство собственной недвижимости</td>\n",
       "    </tr>\n",
       "    <tr>\n",
       "      <th>16</th>\n",
       "      <td>0</td>\n",
       "      <td>-1719.934226</td>\n",
       "      <td>35</td>\n",
       "      <td>среднее</td>\n",
       "      <td>1</td>\n",
       "      <td>женат / замужем</td>\n",
       "      <td>0</td>\n",
       "      <td>F</td>\n",
       "      <td>сотрудник</td>\n",
       "      <td>0</td>\n",
       "      <td>289202.704229</td>\n",
       "      <td>недвижимость</td>\n",
       "    </tr>\n",
       "    <tr>\n",
       "      <th>17</th>\n",
       "      <td>0</td>\n",
       "      <td>-2369.999720</td>\n",
       "      <td>33</td>\n",
       "      <td>высшее</td>\n",
       "      <td>0</td>\n",
       "      <td>гражданский брак</td>\n",
       "      <td>1</td>\n",
       "      <td>M</td>\n",
       "      <td>сотрудник</td>\n",
       "      <td>0</td>\n",
       "      <td>90410.586745</td>\n",
       "      <td>строительство недвижимости</td>\n",
       "    </tr>\n",
       "    <tr>\n",
       "      <th>18</th>\n",
       "      <td>0</td>\n",
       "      <td>400281.136913</td>\n",
       "      <td>53</td>\n",
       "      <td>среднее</td>\n",
       "      <td>1</td>\n",
       "      <td>вдовец / вдова</td>\n",
       "      <td>2</td>\n",
       "      <td>F</td>\n",
       "      <td>пенсионер</td>\n",
       "      <td>0</td>\n",
       "      <td>56823.777243</td>\n",
       "      <td>на покупку подержанного автомобиля</td>\n",
       "    </tr>\n",
       "    <tr>\n",
       "      <th>19</th>\n",
       "      <td>0</td>\n",
       "      <td>-10038.818549</td>\n",
       "      <td>48</td>\n",
       "      <td>СРЕДНЕЕ</td>\n",
       "      <td>1</td>\n",
       "      <td>в разводе</td>\n",
       "      <td>3</td>\n",
       "      <td>F</td>\n",
       "      <td>сотрудник</td>\n",
       "      <td>0</td>\n",
       "      <td>242831.107982</td>\n",
       "      <td>на покупку своего автомобиля</td>\n",
       "    </tr>\n",
       "  </tbody>\n",
       "</table>\n",
       "</div>"
      ],
      "text/plain": [
       "    children  days_employed  dob_years            education  education_id  \\\n",
       "0          1   -8437.673028         42               высшее             0   \n",
       "1          1   -4024.803754         36              среднее             1   \n",
       "2          0   -5623.422610         33              Среднее             1   \n",
       "3          3   -4124.747207         32              среднее             1   \n",
       "4          0  340266.072047         53              среднее             1   \n",
       "5          0    -926.185831         27               высшее             0   \n",
       "6          0   -2879.202052         43               высшее             0   \n",
       "7          0    -152.779569         50              СРЕДНЕЕ             1   \n",
       "8          2   -6929.865299         35               ВЫСШЕЕ             0   \n",
       "9          0   -2188.756445         41              среднее             1   \n",
       "10         2   -4171.483647         36               высшее             0   \n",
       "11         0    -792.701887         40              среднее             1   \n",
       "12         0            NaN         65              среднее             1   \n",
       "13         0   -1846.641941         54  неоконченное высшее             2   \n",
       "14         0   -1844.956182         56               высшее             0   \n",
       "15         1    -972.364419         26              среднее             1   \n",
       "16         0   -1719.934226         35              среднее             1   \n",
       "17         0   -2369.999720         33               высшее             0   \n",
       "18         0  400281.136913         53              среднее             1   \n",
       "19         0  -10038.818549         48              СРЕДНЕЕ             1   \n",
       "\n",
       "       family_status  family_status_id gender income_type  debt  \\\n",
       "0    женат / замужем                 0      F   сотрудник     0   \n",
       "1    женат / замужем                 0      F   сотрудник     0   \n",
       "2    женат / замужем                 0      M   сотрудник     0   \n",
       "3    женат / замужем                 0      M   сотрудник     0   \n",
       "4   гражданский брак                 1      F   пенсионер     0   \n",
       "5   гражданский брак                 1      M   компаньон     0   \n",
       "6    женат / замужем                 0      F   компаньон     0   \n",
       "7    женат / замужем                 0      M   сотрудник     0   \n",
       "8   гражданский брак                 1      F   сотрудник     0   \n",
       "9    женат / замужем                 0      M   сотрудник     0   \n",
       "10   женат / замужем                 0      M   компаньон     0   \n",
       "11   женат / замужем                 0      F   сотрудник     0   \n",
       "12  гражданский брак                 1      M   пенсионер     0   \n",
       "13   женат / замужем                 0      F   сотрудник     0   \n",
       "14  гражданский брак                 1      F   компаньон     1   \n",
       "15   женат / замужем                 0      F   сотрудник     0   \n",
       "16   женат / замужем                 0      F   сотрудник     0   \n",
       "17  гражданский брак                 1      M   сотрудник     0   \n",
       "18    вдовец / вдова                 2      F   пенсионер     0   \n",
       "19         в разводе                 3      F   сотрудник     0   \n",
       "\n",
       "     total_income                                 purpose  \n",
       "0   253875.639453                           покупка жилья  \n",
       "1   112080.014102                 приобретение автомобиля  \n",
       "2   145885.952297                           покупка жилья  \n",
       "3   267628.550329              дополнительное образование  \n",
       "4   158616.077870                         сыграть свадьбу  \n",
       "5   255763.565419                           покупка жилья  \n",
       "6   240525.971920                       операции с жильем  \n",
       "7   135823.934197                             образование  \n",
       "8    95856.832424                   на проведение свадьбы  \n",
       "9   144425.938277                 покупка жилья для семьи  \n",
       "10  113943.491460                    покупка недвижимости  \n",
       "11   77069.234271       покупка коммерческой недвижимости  \n",
       "12            NaN                         сыграть свадьбу  \n",
       "13  130458.228857                 приобретение автомобиля  \n",
       "14  165127.911772              покупка жилой недвижимости  \n",
       "15  116820.904450  строительство собственной недвижимости  \n",
       "16  289202.704229                            недвижимость  \n",
       "17   90410.586745              строительство недвижимости  \n",
       "18   56823.777243      на покупку подержанного автомобиля  \n",
       "19  242831.107982            на покупку своего автомобиля  "
      ]
     },
     "execution_count": 2,
     "metadata": {},
     "output_type": "execute_result"
    }
   ],
   "source": [
    "data.head(20)"
   ]
  },
  {
   "cell_type": "markdown",
   "id": "daf476cc",
   "metadata": {
    "deletable": false,
    "editable": false,
    "id": "1c12e233"
   },
   "source": [
    "**Задание 3. Выведите основную информацию о датафрейме с помощью метода `info()`.**"
   ]
  },
  {
   "cell_type": "code",
   "execution_count": 3,
   "id": "e4ffdfff",
   "metadata": {
    "deletable": false,
    "id": "2b757bca",
    "outputId": "15376089-8dad-46c9-b520-c05248d43158"
   },
   "outputs": [
    {
     "name": "stdout",
     "output_type": "stream",
     "text": [
      "<class 'pandas.core.frame.DataFrame'>\n",
      "RangeIndex: 21525 entries, 0 to 21524\n",
      "Data columns (total 12 columns):\n",
      " #   Column            Non-Null Count  Dtype  \n",
      "---  ------            --------------  -----  \n",
      " 0   children          21525 non-null  int64  \n",
      " 1   days_employed     19351 non-null  float64\n",
      " 2   dob_years         21525 non-null  int64  \n",
      " 3   education         21525 non-null  object \n",
      " 4   education_id      21525 non-null  int64  \n",
      " 5   family_status     21525 non-null  object \n",
      " 6   family_status_id  21525 non-null  int64  \n",
      " 7   gender            21525 non-null  object \n",
      " 8   income_type       21525 non-null  object \n",
      " 9   debt              21525 non-null  int64  \n",
      " 10  total_income      19351 non-null  float64\n",
      " 11  purpose           21525 non-null  object \n",
      "dtypes: float64(2), int64(5), object(5)\n",
      "memory usage: 2.0+ MB\n"
     ]
    }
   ],
   "source": [
    "data.info()"
   ]
  },
  {
   "cell_type": "markdown",
   "id": "b97b855c",
   "metadata": {
    "deletable": false,
    "editable": false,
    "id": "333ec665"
   },
   "source": [
    "## Предобработка данных"
   ]
  },
  {
   "cell_type": "markdown",
   "id": "2f332986",
   "metadata": {
    "deletable": false,
    "editable": false,
    "id": "02d92d53"
   },
   "source": [
    "### Удаление пропусков"
   ]
  },
  {
   "cell_type": "markdown",
   "id": "21ae6089",
   "metadata": {
    "deletable": false,
    "editable": false,
    "id": "cd84967c"
   },
   "source": [
    "**Задание 4. Выведите количество пропущенных значений для каждого столбца. Используйте комбинацию двух методов.**"
   ]
  },
  {
   "cell_type": "code",
   "execution_count": 4,
   "id": "8e0362a2",
   "metadata": {
    "deletable": false,
    "id": "7f9b2309",
    "outputId": "81f4d817-781c-465c-ed15-91ce4446810d"
   },
   "outputs": [
    {
     "data": {
      "text/plain": [
       "children               0\n",
       "days_employed       2174\n",
       "dob_years              0\n",
       "education              0\n",
       "education_id           0\n",
       "family_status          0\n",
       "family_status_id       0\n",
       "gender                 0\n",
       "income_type            0\n",
       "debt                   0\n",
       "total_income        2174\n",
       "purpose                0\n",
       "dtype: int64"
      ]
     },
     "execution_count": 4,
     "metadata": {},
     "output_type": "execute_result"
    }
   ],
   "source": [
    "data.isna().sum()"
   ]
  },
  {
   "cell_type": "markdown",
   "id": "de72a861",
   "metadata": {
    "deletable": false,
    "editable": false,
    "id": "db86e27b"
   },
   "source": [
    "**Задание 5. В двух столбцах есть пропущенные значения. Один из них — `days_employed`. Пропуски в этом столбце вы обработаете на следующем этапе. Другой столбец с пропущенными значениями — `total_income` — хранит данные о доходах. На сумму дохода сильнее всего влияет тип занятости, поэтому заполнить пропуски в этом столбце нужно медианным значением по каждому типу из столбца `income_type`. Например, у человека с типом занятости `сотрудник` пропуск в столбце `total_income` должен быть заполнен медианным доходом среди всех записей с тем же типом.**"
   ]
  },
  {
   "cell_type": "code",
   "execution_count": 5,
   "id": "f89400e0",
   "metadata": {
    "deletable": false,
    "id": "42006a93"
   },
   "outputs": [],
   "source": [
    "for t in data['income_type'].unique():\n",
    "    data.loc[(data['income_type'] == t) & (data['total_income'].isna()), 'total_income'] = \\\n",
    "    data.loc[(data['income_type'] == t), 'total_income'].median()"
   ]
  },
  {
   "cell_type": "markdown",
   "id": "e30e9552",
   "metadata": {
    "deletable": false,
    "editable": false,
    "id": "89da5ece"
   },
   "source": [
    "### Обработка аномальных значений"
   ]
  },
  {
   "cell_type": "markdown",
   "id": "ef4edfd7",
   "metadata": {
    "deletable": false,
    "editable": false,
    "id": "57964554"
   },
   "source": [
    "**Задание 6. В данных могут встречаться артефакты (аномалии) — значения, которые не отражают действительность и появились по какой-то ошибке. таким артефактом будет отрицательное количество дней трудового стажа в столбце `days_employed`. Для реальных данных это нормально. Обработайте значения в этом столбце: замените все отрицательные значения положительными с помощью метода `abs()`.**"
   ]
  },
  {
   "cell_type": "code",
   "execution_count": 6,
   "id": "4dd8cc2c",
   "metadata": {
    "deletable": false,
    "id": "f6f055bf"
   },
   "outputs": [],
   "source": [
    "data['days_employed'] = data['days_employed'].abs()"
   ]
  },
  {
   "cell_type": "markdown",
   "id": "7e3bc9ed",
   "metadata": {
    "deletable": false,
    "editable": false,
    "id": "6107dd2f"
   },
   "source": [
    "**Задание 7. Для каждого типа занятости выведите медианное значение трудового стажа `days_employed` в днях.**"
   ]
  },
  {
   "cell_type": "code",
   "execution_count": 7,
   "id": "4ec05440",
   "metadata": {
    "deletable": false,
    "id": "85a5faf6",
    "outputId": "801ef80e-522b-4668-f34e-565af7432bcf"
   },
   "outputs": [
    {
     "data": {
      "text/plain": [
       "income_type\n",
       "безработный        366413.652744\n",
       "в декрете            3296.759962\n",
       "госслужащий          2689.368353\n",
       "компаньон            1547.382223\n",
       "пенсионер          365213.306266\n",
       "предприниматель       520.848083\n",
       "сотрудник            1574.202821\n",
       "студент               578.751554\n",
       "Name: days_employed, dtype: float64"
      ]
     },
     "execution_count": 7,
     "metadata": {},
     "output_type": "execute_result"
    }
   ],
   "source": [
    "data.groupby('income_type')['days_employed'].agg('median')"
   ]
  },
  {
   "cell_type": "markdown",
   "id": "9f73c64a",
   "metadata": {
    "deletable": false,
    "editable": false,
    "id": "38d1a030"
   },
   "source": [
    "У двух типов (безработные и пенсионеры) получатся аномально большие значения. Исправить такие значения сложно, поэтому оставьте их как есть. Тем более этот столбец не понадобится вам для исследования."
   ]
  },
  {
   "cell_type": "markdown",
   "id": "432015a5",
   "metadata": {
    "deletable": false,
    "editable": false,
    "id": "d8a9f147"
   },
   "source": [
    "**Задание 8. Выведите перечень уникальных значений столбца `children`.**"
   ]
  },
  {
   "cell_type": "code",
   "execution_count": 8,
   "id": "13adaf2f",
   "metadata": {
    "deletable": false,
    "id": "ef5056eb",
    "outputId": "6975b15c-7f95-4697-d16d-a0c79b657b03"
   },
   "outputs": [
    {
     "data": {
      "text/plain": [
       "array([ 1,  0,  3,  2, -1,  4, 20,  5])"
      ]
     },
     "execution_count": 8,
     "metadata": {},
     "output_type": "execute_result"
    }
   ],
   "source": [
    "data['children'].unique()"
   ]
  },
  {
   "cell_type": "markdown",
   "id": "46196a49",
   "metadata": {
    "deletable": false,
    "editable": false,
    "id": "40b9ebf2"
   },
   "source": [
    "**Задание 9. В столбце `children` есть два аномальных значения. Удалите строки, в которых встречаются такие аномальные значения из датафрейма `data`.**"
   ]
  },
  {
   "cell_type": "code",
   "execution_count": 9,
   "id": "db401850",
   "metadata": {
    "deletable": false,
    "id": "3ff9801d"
   },
   "outputs": [],
   "source": [
    "data = data[(data['children'] != -1) & (data['children'] != 20)]"
   ]
  },
  {
   "cell_type": "markdown",
   "id": "e3ac1670",
   "metadata": {
    "deletable": false,
    "editable": false,
    "id": "bbc4d0ce"
   },
   "source": [
    "**Задание 10. Ещё раз выведите перечень уникальных значений столбца `children`, чтобы убедиться, что артефакты удалены.**"
   ]
  },
  {
   "cell_type": "code",
   "execution_count": 10,
   "id": "65a66c4b",
   "metadata": {
    "deletable": false,
    "id": "ad4fa8b7",
    "outputId": "b2097101-d49d-44d9-901b-32a65c9463d1"
   },
   "outputs": [
    {
     "data": {
      "text/plain": [
       "array([1, 0, 3, 2, 4, 5])"
      ]
     },
     "execution_count": 10,
     "metadata": {},
     "output_type": "execute_result"
    }
   ],
   "source": [
    "data['children'].unique()"
   ]
  },
  {
   "cell_type": "markdown",
   "id": "0dac65ed",
   "metadata": {
    "deletable": false,
    "editable": false,
    "id": "75440b63"
   },
   "source": [
    "### Удаление пропусков (продолжение)"
   ]
  },
  {
   "cell_type": "markdown",
   "id": "84089c61",
   "metadata": {
    "deletable": false,
    "editable": false,
    "id": "f4ea573f"
   },
   "source": [
    "**Задание 11. Заполните пропуски в столбце `days_employed` медианными значениями по каждого типа занятости `income_type`.**"
   ]
  },
  {
   "cell_type": "code",
   "execution_count": 11,
   "id": "95407873",
   "metadata": {
    "deletable": false,
    "id": "af6b1a7e"
   },
   "outputs": [],
   "source": [
    "for t in data['income_type'].unique():\n",
    "    data.loc[(data['income_type'] == t) & (data['days_employed'].isna()), 'days_employed'] = \\\n",
    "    data.loc[(data['income_type'] == t), 'days_employed'].median()"
   ]
  },
  {
   "cell_type": "markdown",
   "id": "db9cd834",
   "metadata": {
    "deletable": false,
    "editable": false,
    "id": "2753f40d"
   },
   "source": [
    "**Задание 12. Убедитесь, что все пропуски заполнены. Проверьте себя и ещё раз выведите количество пропущенных значений для каждого столбца с помощью двух методов.**"
   ]
  },
  {
   "cell_type": "code",
   "execution_count": 12,
   "id": "ab3d6388",
   "metadata": {
    "deletable": false,
    "id": "55f78bc2",
    "outputId": "8da1e4e1-358e-4e87-98c9-f261bce0a7b2"
   },
   "outputs": [
    {
     "data": {
      "text/plain": [
       "children            0\n",
       "days_employed       0\n",
       "dob_years           0\n",
       "education           0\n",
       "education_id        0\n",
       "family_status       0\n",
       "family_status_id    0\n",
       "gender              0\n",
       "income_type         0\n",
       "debt                0\n",
       "total_income        0\n",
       "purpose             0\n",
       "dtype: int64"
      ]
     },
     "execution_count": 12,
     "metadata": {},
     "output_type": "execute_result"
    }
   ],
   "source": [
    "data.isna().sum()"
   ]
  },
  {
   "cell_type": "markdown",
   "id": "cdc3cc10",
   "metadata": {
    "deletable": false,
    "editable": false,
    "id": "ddc81e43"
   },
   "source": [
    "### Изменение типов данных"
   ]
  },
  {
   "cell_type": "markdown",
   "id": "72453b1f",
   "metadata": {
    "deletable": false,
    "editable": false,
    "id": "42d19d24"
   },
   "source": [
    "**Задание 13. Замените вещественный тип данных в столбце `total_income` на целочисленный с помощью метода `astype()`.**"
   ]
  },
  {
   "cell_type": "code",
   "execution_count": 13,
   "id": "6766140d",
   "metadata": {
    "deletable": false,
    "id": "920b65ad"
   },
   "outputs": [],
   "source": [
    "data['total_income'] = data['total_income'].astype(int)"
   ]
  },
  {
   "cell_type": "markdown",
   "id": "b13e1685",
   "metadata": {
    "deletable": false,
    "editable": false,
    "id": "80c420ba"
   },
   "source": [
    "### Обработка дубликатов"
   ]
  },
  {
   "cell_type": "markdown",
   "id": "f443a61e",
   "metadata": {
    "deletable": false,
    "editable": false
   },
   "source": [
    "**Задание 14. Обработайте неявные дубликаты в столбце `education`. В этом столбце есть одни и те же значения, но записанные по-разному: с использованием заглавных и строчных букв. Приведите их к нижнему регистру. Проверьте остальные столбцы.**"
   ]
  },
  {
   "cell_type": "code",
   "execution_count": 14,
   "id": "0d6c83e2",
   "metadata": {
    "deletable": false
   },
   "outputs": [],
   "source": [
    "data['education'] = data['education'].str.lower()"
   ]
  },
  {
   "cell_type": "markdown",
   "id": "3bd3ec7e",
   "metadata": {
    "deletable": false,
    "editable": false,
    "id": "dc587695"
   },
   "source": [
    "**Задание 15. Выведите на экран количество строк-дубликатов в данных. Если такие строки присутствуют, удалите их.**"
   ]
  },
  {
   "cell_type": "code",
   "execution_count": 15,
   "id": "1db8a2e9",
   "metadata": {
    "deletable": false,
    "id": "3ee445e4",
    "outputId": "9684deba-1934-42d1-99e1-cda61740f822"
   },
   "outputs": [
    {
     "data": {
      "text/plain": [
       "71"
      ]
     },
     "execution_count": 15,
     "metadata": {},
     "output_type": "execute_result"
    }
   ],
   "source": [
    "data.duplicated().sum()"
   ]
  },
  {
   "cell_type": "code",
   "execution_count": 16,
   "id": "1e819880",
   "metadata": {
    "deletable": false,
    "id": "8575fe05"
   },
   "outputs": [],
   "source": [
    "data = data.drop_duplicates()"
   ]
  },
  {
   "cell_type": "markdown",
   "id": "a60bc069",
   "metadata": {
    "deletable": false,
    "editable": false,
    "id": "9904cf55"
   },
   "source": [
    "### Категоризация данных"
   ]
  },
  {
   "cell_type": "markdown",
   "id": "3a495f40",
   "metadata": {
    "deletable": false,
    "editable": false,
    "id": "72fcc8a2"
   },
   "source": [
    "**Задание 16. На основании диапазонов, указанных ниже, создайте в датафрейме `data` столбец `total_income_category` с категориями:**\n",
    "\n",
    "- 0–30000 — `'E'`;\n",
    "- 30001–50000 — `'D'`;\n",
    "- 50001–200000 — `'C'`;\n",
    "- 200001–1000000 — `'B'`;\n",
    "- 1000001 и выше — `'A'`.\n",
    "\n",
    "\n",
    "**Например, кредитополучателю с доходом 25000 нужно назначить категорию `'E'`, а клиенту, получающему 235000, — `'B'`. Используйте собственную функцию с именем `categorize_income()` и метод `apply()`.**"
   ]
  },
  {
   "cell_type": "code",
   "execution_count": 17,
   "id": "411223c7",
   "metadata": {
    "deletable": false,
    "id": "e1771346"
   },
   "outputs": [],
   "source": [
    "def categorize_income(income):\n",
    "    try:\n",
    "        if 0 <= income <= 30000:\n",
    "            return 'E'\n",
    "        elif 30001 <= income <= 50000:\n",
    "            return 'D'\n",
    "        elif 50001 <= income <= 200000:\n",
    "            return 'C'\n",
    "        elif 200001 <= income <= 1000000:\n",
    "            return 'B'\n",
    "        elif income >= 1000001:\n",
    "            return 'A'\n",
    "    except:\n",
    "        pass"
   ]
  },
  {
   "cell_type": "code",
   "execution_count": 18,
   "id": "68921f99",
   "metadata": {
    "deletable": false,
    "id": "d5f3586d"
   },
   "outputs": [],
   "source": [
    "data['total_income_category'] = data['total_income'].apply(categorize_income)"
   ]
  },
  {
   "cell_type": "markdown",
   "id": "22a13ea0",
   "metadata": {
    "deletable": false,
    "editable": false,
    "id": "dde49b5c"
   },
   "source": [
    "**Задание 17. Выведите на экран перечень уникальных целей взятия кредита из столбца `purpose`.**"
   ]
  },
  {
   "cell_type": "code",
   "execution_count": 19,
   "id": "62b33c76",
   "metadata": {
    "deletable": false,
    "id": "f67ce9b3",
    "outputId": "673c12d9-7d7e-4ae0-9812-c622c89dd244"
   },
   "outputs": [
    {
     "data": {
      "text/plain": [
       "array(['покупка жилья', 'приобретение автомобиля',\n",
       "       'дополнительное образование', 'сыграть свадьбу',\n",
       "       'операции с жильем', 'образование', 'на проведение свадьбы',\n",
       "       'покупка жилья для семьи', 'покупка недвижимости',\n",
       "       'покупка коммерческой недвижимости', 'покупка жилой недвижимости',\n",
       "       'строительство собственной недвижимости', 'недвижимость',\n",
       "       'строительство недвижимости', 'на покупку подержанного автомобиля',\n",
       "       'на покупку своего автомобиля',\n",
       "       'операции с коммерческой недвижимостью',\n",
       "       'строительство жилой недвижимости', 'жилье',\n",
       "       'операции со своей недвижимостью', 'автомобили',\n",
       "       'заняться образованием', 'сделка с подержанным автомобилем',\n",
       "       'получение образования', 'автомобиль', 'свадьба',\n",
       "       'получение дополнительного образования', 'покупка своего жилья',\n",
       "       'операции с недвижимостью', 'получение высшего образования',\n",
       "       'свой автомобиль', 'сделка с автомобилем',\n",
       "       'профильное образование', 'высшее образование',\n",
       "       'покупка жилья для сдачи', 'на покупку автомобиля', 'ремонт жилью',\n",
       "       'заняться высшим образованием'], dtype=object)"
      ]
     },
     "execution_count": 19,
     "metadata": {},
     "output_type": "execute_result"
    }
   ],
   "source": [
    "data['purpose'].unique()"
   ]
  },
  {
   "cell_type": "markdown",
   "id": "c5ea608d",
   "metadata": {
    "deletable": false,
    "editable": false,
    "id": "85d0aef0"
   },
   "source": [
    "**Задание 18. Создайте функцию, которая на основании данных из столбца `purpose` сформирует новый столбец `purpose_category`, в который войдут следующие категории:**\n",
    "\n",
    "- `'операции с автомобилем'`,\n",
    "- `'операции с недвижимостью'`,\n",
    "- `'проведение свадьбы'`,\n",
    "- `'получение образования'`.\n",
    "\n",
    "**Например, если в столбце `purpose` находится подстрока `'на покупку автомобиля'`, то в столбце `purpose_category` должна появиться строка `'операции с автомобилем'`.**\n",
    "\n",
    "**Используйте собственную функцию с именем `categorize_purpose()` и метод `apply()`. Изучите данные в столбце `purpose` и определите, какие подстроки помогут вам правильно определить категорию.**"
   ]
  },
  {
   "cell_type": "code",
   "execution_count": 20,
   "id": "48ee8631",
   "metadata": {
    "deletable": false,
    "id": "e149fab4"
   },
   "outputs": [],
   "source": [
    "def categorize_purpose(row):\n",
    "    try:\n",
    "        if 'автом' in row:\n",
    "            return 'операции с автомобилем'\n",
    "        elif 'жил' in row or 'недвиж' in row:\n",
    "            return 'операции с недвижимостью'\n",
    "        elif 'свад' in row:\n",
    "            return 'проведение свадьбы'\n",
    "        elif 'образов' in row:\n",
    "            return 'получение образования'\n",
    "    except:\n",
    "        return 'нет категории'"
   ]
  },
  {
   "cell_type": "code",
   "execution_count": 21,
   "id": "bb5d9188",
   "metadata": {
    "deletable": false,
    "id": "bf36e69b"
   },
   "outputs": [],
   "source": [
    "data['purpose_category'] = data['purpose'].apply(categorize_purpose)"
   ]
  },
  {
   "cell_type": "markdown",
   "id": "fe1e58e3",
   "metadata": {
    "deletable": false,
    "editable": false,
    "id": "09b242bf"
   },
   "source": [
    "### Шаг 3. Исследуйте данные и ответьте на вопросы"
   ]
  },
  {
   "cell_type": "markdown",
   "id": "525884ec",
   "metadata": {
    "deletable": false,
    "editable": false,
    "id": "c5d66278"
   },
   "source": [
    "#### 3.1 Есть ли зависимость между количеством детей и возвратом кредита в срок?"
   ]
  },
  {
   "cell_type": "markdown",
   "id": "db6607a3",
   "metadata": {},
   "source": [
    "Для того чтобы сделать вывод от наличии зависимости расчитаем процент наличия долгов в зависимости от количества детей"
   ]
  },
  {
   "cell_type": "code",
   "execution_count": 22,
   "id": "6ebd9680",
   "metadata": {
    "deletable": false,
    "id": "2cacfc4a",
    "scrolled": false
   },
   "outputs": [
    {
     "data": {
      "text/plain": [
       "children\n",
       "0    7.543822\n",
       "1    9.234609\n",
       "2    9.454191\n",
       "3    8.181818\n",
       "4    9.756098\n",
       "5    0.000000\n",
       "Name: debt, dtype: float64"
      ]
     },
     "execution_count": 22,
     "metadata": {},
     "output_type": "execute_result"
    }
   ],
   "source": [
    "# Ваш код будет здесь. Вы можете создавать новые ячейки.\n",
    "(data.groupby('children')['debt'].mean() * 100)"
   ]
  },
  {
   "cell_type": "markdown",
   "id": "47a1eb33",
   "metadata": {},
   "source": [
    "Можно заметить, что процент наличия долга у родителей несколько выше, чем у бездетных. Но родители с 5-ю детьми показывают чудеса планирования, стоит уточнить как много клиентов разных категорий у банка:"
   ]
  },
  {
   "cell_type": "code",
   "execution_count": 23,
   "id": "bee955ab",
   "metadata": {},
   "outputs": [
    {
     "data": {
      "text/plain": [
       "children\n",
       "0    14091\n",
       "1     4808\n",
       "2     2052\n",
       "3      330\n",
       "4       41\n",
       "5        9\n",
       "Name: debt, dtype: int64"
      ]
     },
     "execution_count": 23,
     "metadata": {},
     "output_type": "execute_result"
    }
   ],
   "source": [
    "data.groupby('children')['debt'].count()"
   ]
  },
  {
   "cell_type": "markdown",
   "id": "bbae6cc6",
   "metadata": {},
   "source": [
    "Кажется показатели родителей с 5-ю детьми не являются репрезентативными - их всего 9, в таком случае всего лишь при добавлении 1 клиента с долгами и 5-ю детьми показатель резко изменит значение до 10%. \n",
    "\n",
    "Рассчитаем разницу между вероятность появления долга у бездетных и средней вероятностью появления долга у родителей с детьми(категорию с 5-ю детьми игнорируем как не репрезентативную):"
   ]
  },
  {
   "cell_type": "code",
   "execution_count": 24,
   "id": "2b585203",
   "metadata": {},
   "outputs": [
    {
     "data": {
      "text/plain": [
       "1.6128566423186288"
      ]
     },
     "execution_count": 24,
     "metadata": {},
     "output_type": "execute_result"
    }
   ],
   "source": [
    "(data.groupby('children')['debt'].mean().loc[1:4].mean() - data.groupby('children')['debt'].mean().loc[0]) * 100"
   ]
  },
  {
   "cell_type": "markdown",
   "id": "9c95b561",
   "metadata": {
    "deletable": false,
    "id": "3a6b99ec"
   },
   "source": [
    "**Вывод:** \n",
    "\n",
    "Из полученных значений можно сделать вывод о том, что наличие детей увеличивает вероятность возникновения долга в среднем на  1,6%. Количество детей влият на вероятность возникновения долга значительно меньше."
   ]
  },
  {
   "cell_type": "markdown",
   "id": "8e809da4",
   "metadata": {
    "deletable": false,
    "editable": false,
    "id": "97be82ca"
   },
   "source": [
    "#### 3.2 Есть ли зависимость между семейным положением и возвратом кредита в срок?"
   ]
  },
  {
   "cell_type": "markdown",
   "id": "3c761c9f",
   "metadata": {},
   "source": [
    "Расчитаем процент наличия долгов в зависимости от семейного положения:"
   ]
  },
  {
   "cell_type": "code",
   "execution_count": 25,
   "id": "50862d82",
   "metadata": {
    "deletable": false,
    "id": "dc3f7ee8"
   },
   "outputs": [
    {
     "data": {
      "text/plain": [
       "family_status\n",
       "Не женат / не замужем    9.763948\n",
       "гражданский брак         9.313014\n",
       "женат / замужем          7.560558\n",
       "в разводе                7.064760\n",
       "вдовец / вдова           6.624606\n",
       "Name: debt, dtype: float64"
      ]
     },
     "execution_count": 25,
     "metadata": {},
     "output_type": "execute_result"
    }
   ],
   "source": [
    "# Ваш код будет здесь. Вы можете создавать новые ячейки.\n",
    "(data.groupby('family_status')['debt'].sum() / data.groupby('family_status')['debt'].count()) \\\n",
    ".sort_values(ascending=False) * 100"
   ]
  },
  {
   "cell_type": "markdown",
   "id": "0778d411",
   "metadata": {},
   "source": [
    "Статистика говорит о том, что в каждой категории есть клиенты имеющие долги.\n",
    "Проверим репрезентативность выборки:"
   ]
  },
  {
   "cell_type": "code",
   "execution_count": 26,
   "id": "084baba1",
   "metadata": {},
   "outputs": [
    {
     "data": {
      "text/plain": [
       "family_status\n",
       "Не женат / не замужем     2796\n",
       "в разводе                 1189\n",
       "вдовец / вдова             951\n",
       "гражданский брак          4134\n",
       "женат / замужем          12261\n",
       "Name: debt, dtype: int64"
      ]
     },
     "execution_count": 26,
     "metadata": {},
     "output_type": "execute_result"
    }
   ],
   "source": [
    "data.groupby('family_status')['debt'].count()"
   ]
  },
  {
   "cell_type": "markdown",
   "id": "f59288c7",
   "metadata": {
    "deletable": false,
    "id": "1cef7837"
   },
   "source": [
    "**Вывод:** \n",
    "Расчеты показывают, что между семейным положением и возвратом кредитов есть зависимость. Наиболее рисковые группы - \"Не женат / не замужем\" и \"в разводе\", а наименее - \"женат / замужем\". Разница в вероятности возникновения долга между наиболее и наименее рисковыми группами составляет 3,1%.\n",
    "\n",
    "В зависимости от оценки рисков их можно сгруппировать по баллам и добавлять их(баллы) для расчета финальной категории риска возникновения долга."
   ]
  },
  {
   "cell_type": "markdown",
   "id": "80eb94c9",
   "metadata": {
    "deletable": false,
    "editable": false,
    "id": "1e8b2fca"
   },
   "source": [
    "#### 3.3 Есть ли зависимость между уровнем дохода и возвратом кредита в срок?"
   ]
  },
  {
   "cell_type": "markdown",
   "id": "0fafb32b",
   "metadata": {},
   "source": [
    "Рассчитаем процент наличия долгов в зависимости от уровня дохода."
   ]
  },
  {
   "cell_type": "code",
   "execution_count": 27,
   "id": "fdd2114b",
   "metadata": {
    "deletable": false,
    "id": "cd7e3720",
    "scrolled": true
   },
   "outputs": [
    {
     "data": {
      "text/plain": [
       "total_income_category\n",
       "E    9.090909\n",
       "C    8.498210\n",
       "A    8.000000\n",
       "B    7.060231\n",
       "D    6.017192\n",
       "Name: debt, dtype: float64"
      ]
     },
     "execution_count": 27,
     "metadata": {},
     "output_type": "execute_result"
    }
   ],
   "source": [
    "# Ваш код будет здесь. Вы можете создавать новые ячейки.\n",
    "(data.groupby('total_income_category')['debt'].sum() / data.groupby('total_income_category')['debt'].count()) \\\n",
    ".sort_values(ascending=False) * 100"
   ]
  },
  {
   "cell_type": "markdown",
   "id": "38e020d1",
   "metadata": {},
   "source": [
    "Проверим репрезентативность выборки:"
   ]
  },
  {
   "cell_type": "code",
   "execution_count": 28,
   "id": "beef1d5d",
   "metadata": {},
   "outputs": [
    {
     "data": {
      "text/plain": [
       "total_income_category\n",
       "A       25\n",
       "B     5014\n",
       "C    15921\n",
       "D      349\n",
       "E       22\n",
       "Name: debt, dtype: int64"
      ]
     },
     "execution_count": 28,
     "metadata": {},
     "output_type": "execute_result"
    }
   ],
   "source": [
    "data.groupby('total_income_category')['debt'].count()"
   ]
  },
  {
   "cell_type": "markdown",
   "id": "84768161",
   "metadata": {
    "deletable": false,
    "id": "e8593def"
   },
   "source": [
    "**Вывод:** \n",
    "Категория граждан D является наиболее кредитоспособной, выборка по ним также вполне репрезентативна.\n",
    "Следом идут категории B, A, C в порядке возрастания риска возникновения долга. Выборка по ним так же репрезентативна. Исключение составляет\n",
    "лишь категория A, но скорее всего клиентов с таким уровнем дохода в целом меньше всех.\n",
    "Категория клиентов E не может считаться репрезентативной, но в целом на нее стоит обратить особое внимание. Возможно такие клиенты берут меньше кредитов или банк чаще отказывает им из-за рисков невозврата, поэтому и клиентов этой категории выборке мало.\n",
    "\n",
    "В зависимости от оценки рисков их можно сгруппировать по баллам и добавлять их(баллы) для расчета финальной категории риска возникновения долга."
   ]
  },
  {
   "cell_type": "markdown",
   "id": "8b5b359a",
   "metadata": {
    "deletable": false,
    "editable": false,
    "id": "99ecbd1f"
   },
   "source": [
    "#### 3.4 Как разные цели кредита влияют на его возврат в срок?"
   ]
  },
  {
   "cell_type": "markdown",
   "id": "27445ae9",
   "metadata": {},
   "source": [
    "Рассчитаем процент наличия долгов в зависимости от цели кредита."
   ]
  },
  {
   "cell_type": "code",
   "execution_count": 29,
   "id": "9d0f8da0",
   "metadata": {
    "deletable": false,
    "id": "2b687290",
    "scrolled": true
   },
   "outputs": [
    {
     "data": {
      "text/plain": [
       "purpose_category\n",
       "операции с автомобилем      9.347978\n",
       "получение образования       9.252758\n",
       "проведение свадьбы          7.911803\n",
       "операции с недвижимостью    7.255139\n",
       "Name: debt, dtype: float64"
      ]
     },
     "execution_count": 29,
     "metadata": {},
     "output_type": "execute_result"
    }
   ],
   "source": [
    "# Ваш код будет здесь. Вы можете создавать новые ячейки.\n",
    "(data.groupby('purpose_category')['debt'].sum() / data.groupby('purpose_category')['debt'].count()) \\\n",
    ".sort_values(ascending=False) * 100"
   ]
  },
  {
   "cell_type": "markdown",
   "id": "f4fcb9be",
   "metadata": {},
   "source": [
    "Проверим репрезентативность выборки:"
   ]
  },
  {
   "cell_type": "code",
   "execution_count": 30,
   "id": "5f78f3fb",
   "metadata": {},
   "outputs": [
    {
     "data": {
      "text/plain": [
       "purpose_category\n",
       "операции с автомобилем       4279\n",
       "операции с недвижимостью    10751\n",
       "получение образования        3988\n",
       "проведение свадьбы           2313\n",
       "Name: debt, dtype: int64"
      ]
     },
     "execution_count": 30,
     "metadata": {},
     "output_type": "execute_result"
    }
   ],
   "source": [
    "data.groupby('purpose_category')['debt'].count()"
   ]
  },
  {
   "cell_type": "markdown",
   "id": "0e721458",
   "metadata": {
    "deletable": false,
    "id": "b4bb2ce6"
   },
   "source": [
    "**Вывод:** \n",
    "Выборка по всем целям кредита репрезентативна.\n",
    "Наибольший риск в группах берущих кредит на транспорт и образование. Наименьший на проведение свадьбы и операций с недвижимостью.\n",
    "\n",
    "В зависимости от оценки рисков их можно сгруппировать по баллам и добавлять их(баллы) для расчета финальной категории риска возникновения долга."
   ]
  },
  {
   "cell_type": "markdown",
   "id": "4db83057",
   "metadata": {
    "deletable": false,
    "editable": false,
    "id": "09c3ac4c"
   },
   "source": [
    "#### 3.5 Приведите возможные причины появления пропусков в исходных данных."
   ]
  },
  {
   "cell_type": "markdown",
   "id": "e69019cf",
   "metadata": {},
   "source": [
    "При изначальном выводе информации о таблице можно было заметить, что данные отсутствуют в двух столбцах: `\"days_employed\"` и `\"total_income\"`. Причем количество пропущенных данных совпадает. \n",
    "Чтобы выявить закономерность выведем данные из пропущеных ячеек:"
   ]
  },
  {
   "cell_type": "code",
   "execution_count": 41,
   "id": "2792df05",
   "metadata": {
    "scrolled": true
   },
   "outputs": [
    {
     "data": {
      "text/html": [
       "<div>\n",
       "<style scoped>\n",
       "    .dataframe tbody tr th:only-of-type {\n",
       "        vertical-align: middle;\n",
       "    }\n",
       "\n",
       "    .dataframe tbody tr th {\n",
       "        vertical-align: top;\n",
       "    }\n",
       "\n",
       "    .dataframe thead th {\n",
       "        text-align: right;\n",
       "    }\n",
       "</style>\n",
       "<table border=\"1\" class=\"dataframe\">\n",
       "  <thead>\n",
       "    <tr style=\"text-align: right;\">\n",
       "      <th></th>\n",
       "      <th>children</th>\n",
       "      <th>days_employed</th>\n",
       "      <th>dob_years</th>\n",
       "      <th>education</th>\n",
       "      <th>education_id</th>\n",
       "      <th>family_status</th>\n",
       "      <th>family_status_id</th>\n",
       "      <th>gender</th>\n",
       "      <th>income_type</th>\n",
       "      <th>debt</th>\n",
       "      <th>total_income</th>\n",
       "      <th>purpose</th>\n",
       "    </tr>\n",
       "  </thead>\n",
       "  <tbody>\n",
       "    <tr>\n",
       "      <th>12</th>\n",
       "      <td>0</td>\n",
       "      <td>NaN</td>\n",
       "      <td>65</td>\n",
       "      <td>среднее</td>\n",
       "      <td>1</td>\n",
       "      <td>гражданский брак</td>\n",
       "      <td>1</td>\n",
       "      <td>M</td>\n",
       "      <td>пенсионер</td>\n",
       "      <td>0</td>\n",
       "      <td>NaN</td>\n",
       "      <td>сыграть свадьбу</td>\n",
       "    </tr>\n",
       "    <tr>\n",
       "      <th>26</th>\n",
       "      <td>0</td>\n",
       "      <td>NaN</td>\n",
       "      <td>41</td>\n",
       "      <td>среднее</td>\n",
       "      <td>1</td>\n",
       "      <td>женат / замужем</td>\n",
       "      <td>0</td>\n",
       "      <td>M</td>\n",
       "      <td>госслужащий</td>\n",
       "      <td>0</td>\n",
       "      <td>NaN</td>\n",
       "      <td>образование</td>\n",
       "    </tr>\n",
       "    <tr>\n",
       "      <th>29</th>\n",
       "      <td>0</td>\n",
       "      <td>NaN</td>\n",
       "      <td>63</td>\n",
       "      <td>среднее</td>\n",
       "      <td>1</td>\n",
       "      <td>Не женат / не замужем</td>\n",
       "      <td>4</td>\n",
       "      <td>F</td>\n",
       "      <td>пенсионер</td>\n",
       "      <td>0</td>\n",
       "      <td>NaN</td>\n",
       "      <td>строительство жилой недвижимости</td>\n",
       "    </tr>\n",
       "    <tr>\n",
       "      <th>41</th>\n",
       "      <td>0</td>\n",
       "      <td>NaN</td>\n",
       "      <td>50</td>\n",
       "      <td>среднее</td>\n",
       "      <td>1</td>\n",
       "      <td>женат / замужем</td>\n",
       "      <td>0</td>\n",
       "      <td>F</td>\n",
       "      <td>госслужащий</td>\n",
       "      <td>0</td>\n",
       "      <td>NaN</td>\n",
       "      <td>сделка с подержанным автомобилем</td>\n",
       "    </tr>\n",
       "    <tr>\n",
       "      <th>55</th>\n",
       "      <td>0</td>\n",
       "      <td>NaN</td>\n",
       "      <td>54</td>\n",
       "      <td>среднее</td>\n",
       "      <td>1</td>\n",
       "      <td>гражданский брак</td>\n",
       "      <td>1</td>\n",
       "      <td>F</td>\n",
       "      <td>пенсионер</td>\n",
       "      <td>1</td>\n",
       "      <td>NaN</td>\n",
       "      <td>сыграть свадьбу</td>\n",
       "    </tr>\n",
       "  </tbody>\n",
       "</table>\n",
       "</div>"
      ],
      "text/plain": [
       "    children  days_employed  dob_years education  education_id  \\\n",
       "12         0            NaN         65   среднее             1   \n",
       "26         0            NaN         41   среднее             1   \n",
       "29         0            NaN         63   среднее             1   \n",
       "41         0            NaN         50   среднее             1   \n",
       "55         0            NaN         54   среднее             1   \n",
       "\n",
       "            family_status  family_status_id gender  income_type  debt  \\\n",
       "12       гражданский брак                 1      M    пенсионер     0   \n",
       "26        женат / замужем                 0      M  госслужащий     0   \n",
       "29  Не женат / не замужем                 4      F    пенсионер     0   \n",
       "41        женат / замужем                 0      F  госслужащий     0   \n",
       "55       гражданский брак                 1      F    пенсионер     1   \n",
       "\n",
       "    total_income                           purpose  \n",
       "12           NaN                   сыграть свадьбу  \n",
       "26           NaN                       образование  \n",
       "29           NaN  строительство жилой недвижимости  \n",
       "41           NaN  сделка с подержанным автомобилем  \n",
       "55           NaN                   сыграть свадьбу  "
      ]
     },
     "metadata": {},
     "output_type": "display_data"
    }
   ],
   "source": [
    "data_na = pd.read_csv('/datasets/data.csv')\n",
    "data_na = data_na[data_na['days_employed'].isna()]\n",
    "display(data_na.head())"
   ]
  },
  {
   "cell_type": "markdown",
   "id": "47610188",
   "metadata": {},
   "source": [
    "Проверим, все ли строки с пропущенными данными мы отобрали."
   ]
  },
  {
   "cell_type": "code",
   "execution_count": 46,
   "id": "ee9dbbe3",
   "metadata": {
    "scrolled": true
   },
   "outputs": [
    {
     "name": "stdout",
     "output_type": "stream",
     "text": [
      "<class 'pandas.core.frame.DataFrame'>\n",
      "Int64Index: 2174 entries, 12 to 21510\n",
      "Data columns (total 12 columns):\n",
      " #   Column            Non-Null Count  Dtype  \n",
      "---  ------            --------------  -----  \n",
      " 0   children          2174 non-null   int64  \n",
      " 1   days_employed     0 non-null      float64\n",
      " 2   dob_years         2174 non-null   int64  \n",
      " 3   education         2174 non-null   object \n",
      " 4   education_id      2174 non-null   int64  \n",
      " 5   family_status     2174 non-null   object \n",
      " 6   family_status_id  2174 non-null   int64  \n",
      " 7   gender            2174 non-null   object \n",
      " 8   income_type       2174 non-null   object \n",
      " 9   debt              2174 non-null   int64  \n",
      " 10  total_income      0 non-null      float64\n",
      " 11  purpose           2174 non-null   object \n",
      "dtypes: float64(2), int64(5), object(5)\n",
      "memory usage: 220.8+ KB\n"
     ]
    }
   ],
   "source": [
    "data_na.info()\n",
    "#data_na['children'].unique()\n",
    "#data_na['education'].unique()\n",
    "#data_na['family_status'].unique()\n",
    "#data_na['dob_years'].unique()\n"
   ]
  },
  {
   "cell_type": "markdown",
   "id": "8bf2076b",
   "metadata": {},
   "source": [
    "Количество строк совпадает с количеством пропусков, а столбцы `\"days_employed\"` и `\"total_income\"` содержат только пропуски. следовательно,` data_na` содержит все строки с пропусками."
   ]
  },
  {
   "cell_type": "markdown",
   "id": "9126cdc7",
   "metadata": {
    "deletable": false,
    "id": "9da2ceda"
   },
   "source": [
    "*Ответ:* \n",
    "\n",
    "Среди пропущенных данных имеется лишь корреляция между столбцами `\"days_employed\"` и `\"total_income\"`. Учитывая, что исходная таблица содержит дробные значения в колонке дохода, что нехарактерно для записи сумм, можно предположить, что это значение рассчитывается на основании трудового стажа клиента. В таком случае, если трудовой стаж не указан, то и расчет дохода не может быть произведен."
   ]
  },
  {
   "cell_type": "markdown",
   "id": "42d67c03",
   "metadata": {
    "deletable": false,
    "editable": false,
    "id": "7b0487d6"
   },
   "source": [
    "#### 3.6 Объясните, почему заполнить пропуски медианным значением — лучшее решение для количественных переменных."
   ]
  },
  {
   "cell_type": "markdown",
   "id": "c2d050e5",
   "metadata": {
    "deletable": false,
    "id": "7ecf2b8e"
   },
   "source": [
    "*Ответ:* \n",
    "По сравнению со средним значением применение медианного менее всего искажает данные для количественных переменных. Особенно это заметно, когда в ряде данных имеются выделяющиеся значения, при расчете среднего они могут значительно исказить статистику и повлиять на общий вывод. В случае же применения медианного значения такие выделяющиеся значения не скажутся на общей картине, а значит сделанный вывод будет точнее."
   ]
  },
  {
   "cell_type": "markdown",
   "id": "ea2611c8",
   "metadata": {
    "deletable": false,
    "editable": false,
    "id": "6db5255a"
   },
   "source": [
    "### Шаг 4: общий вывод."
   ]
  },
  {
   "cell_type": "markdown",
   "id": "61bb6358",
   "metadata": {
    "deletable": false,
    "id": "bad65432"
   },
   "source": [
    "#### Текст исходной задачи:\n",
    "\n",
    "Заказчик — кредитный отдел банка. Нужно разобраться, влияет ли семейное положение и количество детей клиента на факт погашения кредита в срок. Входные данные от банка — статистика о платёжеспособности клиентов.\n",
    "Результаты исследования будут учтены при построении модели кредитного скоринга — специальной системы, которая оценивает способность потенциального заёмщика вернуть кредит банку.\n",
    "\n",
    "#### Общий вывод\n",
    "\n",
    "Для проведения анализа были использованы данные по 21525 клиентам банка включающие возраст, пол, уровень образования и дохода, а также семейное положение и сведения о наличии детей. Предварительный анализ показал наличие 9,9% (2174) клиентов с пропущенными данными по трудовому стажу и доходу. Учитывая значительную долю отсутствующей информации допускается некоторое отклонение полученных результатов от реальной ситуации.\n",
    "\n",
    "Изначально были поставлены задачи по выявлению зависимости погашения кредита от двух факторов:\n",
    "+ количества детей;\n",
    "+ семейного положения.\n",
    "\n",
    "В ходе анализа также были проверены другие факторы:\n",
    "+ уровень дохода;\n",
    "+ цель кредита.\n",
    "\n",
    "##### Полученные результаты:\n",
    "**1) Количество детей клиента не является показательным для расчета риска возникновения долга, однако само наличие детей увеличивает риск в среднем на 1.6%. Категория клиентов с 5-ю детьми не является репрезентативной, так как таких клиентов у банка мало (9).**\n",
    "\n",
    "| Количество детей  | Процент наличия долга |\n",
    "| :-------------- | ------------- |\n",
    "| Нет детей  | 7.54%  |\n",
    "| 1 ребенок  | 9.23%  |\n",
    "| 2 ребенка   | 9.45%  |\n",
    "| 3 ребенка  | 8.18%  |\n",
    "| 4 ребенка  | 9.76%  |\n",
    "\n",
    "            \n",
    "Можно предположить, что наличие детей делает более сложным планирование клиентом своего бюджета, из-за чего и увеличивается вероятность риска.\n",
    "\n",
    "**2) Анализ показал наличие зависимости долга по кредиту от семейного положения, разница между категориями клиентов составляет до 3.1% вероятности возникновения долга.**\n",
    "\n",
    "| Семейное положение      | Процент наличия долга |\n",
    "| :--------------      | ------------- |\n",
    "| Не женат / не замужем  | 9.76%  |\n",
    "| гражданский брак       | 9.31%  |\n",
    "| женат / замужем       | 7.56%  |\n",
    "| в разводе             | 7.06%  |\n",
    "| вдовец / вдова         | 6.62%  |\n",
    "   \n",
    "          \n",
    "Полученные значения наводят на предположение, что клиенты с меньшим жизненным опытом склонны к просрочке кредитов. И наоборот, имеющие опыт преодоления жизненных проблем являются более отвественными заемщиками.\n",
    "\n",
    "**3) Зависимость наличия долга от дохода присутствует, разница между категориями составляет до 3%.**\n",
    "\n",
    "| Категория дохода | Сумма дохода          | Процент наличия долга |\n",
    "| :------------ | :--------------     | ------------- |\n",
    "| Е             | 0 - 30 000          | 9.09%  |\n",
    "| С             | 50 001 - 200 000    | 8.49%  |\n",
    "| А             | 1 000 001+          | 8.00%  |\n",
    "| В             | 200 001 - 1 000 000 | 7.06%  |\n",
    "| D             | 30 0001 - 50 000    | 6.01%  |\n",
    "\n",
    "\n",
    "Категория граждан D является наиболее кредитоспособной. Следом идут категории B, A, C в порядке возрастания риска возникновения долга. Причем клиентов с категорией А мало (25), отчего есть вероятность большой погрещности в расчетном риске этой категории. Таким образом следует сделать вывод об отсутствии прямой зависимости уменьшения риска возникновения долга при увеличении суммы дохода клиентов. \n",
    "\n",
    "Категория клиентов E согласно анализу является наиболее рисковой, но не может считаться репрезентативной так как таких клиентов у банка очень мало (22). Возможно такие клиенты берут меньше кредитов или банк чаще отказывает им из-за рисков невозврата (расчетный процент также оказался наибольшим), поэтому и клиентов этой категории в выборке мало.\n",
    "\n",
    "**4) Увеличение риска возникновения долга от целей кредита подтверждается. Разница между группами составляет до 2%.**\n",
    "\n",
    "| Категория дохода          | Процент наличия долга |\n",
    "| :------------          | ------------- |\n",
    "| операции с автомобилем     | 9.35%  |\n",
    "| получение образования       | 9.25%  |\n",
    "| проведение свадьбы         | 7.91%  |\n",
    "| операции с недвижимостью   | 7.26%  |\n",
    "\n",
    "Наибольший риск в группах берущих кредит на транспорт и образование. Наименьший на проведение свадьбы или операции с недвижимостью.\n",
    "\n",
    "##### Рекомендации\n",
    "\n",
    "При построении модели скоринга можно присваивать баллы \"риска\" за определенное увеличение вероятности риска клиента согласно проведенному анализу. Например, пусть 1 балл соответствет увеличению риска на 0.1%, а таком случае клиент с детьми получает 16 баллов риска, не женатые/ не замужем 31 балл. \n",
    "\n",
    "Для оценки влияния нескольких факторов следует провести дополнительный анализ и определить их взаимное влияние.\n",
    "\n",
    "Повторный анализ, при условии заполнения пропущенных данных, также может уточнить общую ситуацию и выявить ранее упущенные закономерности."
   ]
  }
 ],
 "metadata": {
  "ExecuteTimeLog": [
   {
    "duration": 51,
    "start_time": "2022-11-30T19:45:36.420Z"
   },
   {
    "duration": 502,
    "start_time": "2022-11-30T19:45:45.977Z"
   },
   {
    "duration": 24,
    "start_time": "2022-11-30T19:45:46.481Z"
   },
   {
    "duration": 15,
    "start_time": "2022-11-30T19:45:46.507Z"
   },
   {
    "duration": 30,
    "start_time": "2022-11-30T19:45:46.525Z"
   },
   {
    "duration": 38,
    "start_time": "2022-11-30T19:45:46.559Z"
   },
   {
    "duration": 4,
    "start_time": "2022-11-30T19:45:46.598Z"
   },
   {
    "duration": 11,
    "start_time": "2022-11-30T19:45:46.604Z"
   },
   {
    "duration": 5,
    "start_time": "2022-11-30T19:45:46.617Z"
   },
   {
    "duration": 47,
    "start_time": "2022-11-30T19:45:46.623Z"
   },
   {
    "duration": 6,
    "start_time": "2022-11-30T19:45:46.673Z"
   },
   {
    "duration": 37,
    "start_time": "2022-11-30T19:45:46.681Z"
   },
   {
    "duration": 9,
    "start_time": "2022-11-30T19:45:46.720Z"
   },
   {
    "duration": 5,
    "start_time": "2022-11-30T19:45:46.731Z"
   },
   {
    "duration": 32,
    "start_time": "2022-11-30T19:45:46.738Z"
   },
   {
    "duration": 21,
    "start_time": "2022-11-30T19:45:46.772Z"
   },
   {
    "duration": 19,
    "start_time": "2022-11-30T19:45:46.795Z"
   },
   {
    "duration": 4,
    "start_time": "2022-11-30T19:45:46.815Z"
   },
   {
    "duration": 39,
    "start_time": "2022-11-30T19:45:46.821Z"
   },
   {
    "duration": 6,
    "start_time": "2022-11-30T19:45:46.868Z"
   },
   {
    "duration": 5,
    "start_time": "2022-11-30T19:45:46.876Z"
   },
   {
    "duration": 14,
    "start_time": "2022-11-30T19:45:46.883Z"
   },
   {
    "duration": 18,
    "start_time": "2022-11-30T19:45:46.898Z"
   },
   {
    "duration": 2,
    "start_time": "2022-11-30T19:45:46.918Z"
   },
   {
    "duration": 5,
    "start_time": "2022-11-30T19:45:46.922Z"
   },
   {
    "duration": 23,
    "start_time": "2022-11-30T19:45:46.929Z"
   },
   {
    "duration": 68,
    "start_time": "2022-11-30T19:46:42.666Z"
   },
   {
    "duration": 14,
    "start_time": "2022-11-30T19:47:50.830Z"
   },
   {
    "duration": 7,
    "start_time": "2022-11-30T19:48:34.826Z"
   },
   {
    "duration": 12,
    "start_time": "2022-11-30T19:49:01.272Z"
   },
   {
    "duration": 17,
    "start_time": "2022-11-30T19:49:25.520Z"
   },
   {
    "duration": 86,
    "start_time": "2022-11-30T19:50:10.904Z"
   },
   {
    "duration": 27,
    "start_time": "2022-11-30T19:50:27.755Z"
   },
   {
    "duration": 7,
    "start_time": "2022-11-30T19:50:44.692Z"
   },
   {
    "duration": 8,
    "start_time": "2022-11-30T19:52:57.408Z"
   },
   {
    "duration": 11,
    "start_time": "2022-11-30T19:54:04.970Z"
   },
   {
    "duration": 79,
    "start_time": "2022-11-30T19:54:45.215Z"
   },
   {
    "duration": 146,
    "start_time": "2022-11-30T19:54:51.375Z"
   },
   {
    "duration": 92,
    "start_time": "2022-11-30T20:01:24.134Z"
   },
   {
    "duration": 87,
    "start_time": "2022-11-30T20:09:17.215Z"
   },
   {
    "duration": 7,
    "start_time": "2022-11-30T20:09:23.439Z"
   },
   {
    "duration": 11,
    "start_time": "2022-11-30T20:10:16.912Z"
   },
   {
    "duration": 10,
    "start_time": "2022-11-30T20:11:26.178Z"
   },
   {
    "duration": 13,
    "start_time": "2022-11-30T20:11:36.944Z"
   },
   {
    "duration": 445,
    "start_time": "2022-11-30T20:22:31.835Z"
   },
   {
    "duration": 22,
    "start_time": "2022-11-30T20:23:15.572Z"
   },
   {
    "duration": 10,
    "start_time": "2022-11-30T20:23:39.967Z"
   },
   {
    "duration": 13,
    "start_time": "2022-11-30T20:24:47.931Z"
   },
   {
    "duration": 10,
    "start_time": "2022-11-30T20:25:50.893Z"
   },
   {
    "duration": 17,
    "start_time": "2022-11-30T20:26:14.136Z"
   },
   {
    "duration": 14,
    "start_time": "2022-11-30T20:26:26.837Z"
   },
   {
    "duration": 118,
    "start_time": "2022-11-30T20:28:34.629Z"
   },
   {
    "duration": 654,
    "start_time": "2022-11-30T20:32:39.466Z"
   },
   {
    "duration": 45,
    "start_time": "2022-11-30T20:36:16.351Z"
   },
   {
    "duration": 104,
    "start_time": "2022-11-30T20:36:26.051Z"
   },
   {
    "duration": 619,
    "start_time": "2022-11-30T20:47:05.774Z"
   },
   {
    "duration": 584,
    "start_time": "2022-11-30T20:48:07.863Z"
   },
   {
    "duration": 25,
    "start_time": "2022-11-30T20:49:40.040Z"
   },
   {
    "duration": 107,
    "start_time": "2022-11-30T20:49:49.962Z"
   },
   {
    "duration": 652,
    "start_time": "2022-11-30T20:50:09.524Z"
   },
   {
    "duration": 16,
    "start_time": "2022-11-30T20:50:47.071Z"
   },
   {
    "duration": 12,
    "start_time": "2022-11-30T20:51:28.526Z"
   },
   {
    "duration": 45,
    "start_time": "2022-12-02T15:47:26.706Z"
   },
   {
    "duration": 8,
    "start_time": "2022-12-02T15:47:41.983Z"
   },
   {
    "duration": 1040,
    "start_time": "2022-12-02T15:47:50.120Z"
   },
   {
    "duration": 22,
    "start_time": "2022-12-02T15:47:51.162Z"
   },
   {
    "duration": 14,
    "start_time": "2022-12-02T15:47:51.186Z"
   },
   {
    "duration": 9,
    "start_time": "2022-12-02T15:47:51.202Z"
   },
   {
    "duration": 32,
    "start_time": "2022-12-02T15:47:51.213Z"
   },
   {
    "duration": 4,
    "start_time": "2022-12-02T15:47:51.247Z"
   },
   {
    "duration": 13,
    "start_time": "2022-12-02T15:47:51.252Z"
   },
   {
    "duration": 7,
    "start_time": "2022-12-02T15:47:51.267Z"
   },
   {
    "duration": 6,
    "start_time": "2022-12-02T15:47:51.297Z"
   },
   {
    "duration": 8,
    "start_time": "2022-12-02T15:47:51.306Z"
   },
   {
    "duration": 36,
    "start_time": "2022-12-02T15:47:51.315Z"
   },
   {
    "duration": 8,
    "start_time": "2022-12-02T15:47:51.353Z"
   },
   {
    "duration": 3,
    "start_time": "2022-12-02T15:47:51.363Z"
   },
   {
    "duration": 36,
    "start_time": "2022-12-02T15:47:51.367Z"
   },
   {
    "duration": 19,
    "start_time": "2022-12-02T15:47:51.404Z"
   },
   {
    "duration": 16,
    "start_time": "2022-12-02T15:47:51.424Z"
   },
   {
    "duration": 3,
    "start_time": "2022-12-02T15:47:51.441Z"
   },
   {
    "duration": 12,
    "start_time": "2022-12-02T15:47:51.446Z"
   },
   {
    "duration": 5,
    "start_time": "2022-12-02T15:47:51.460Z"
   },
   {
    "duration": 8,
    "start_time": "2022-12-02T15:47:51.466Z"
   },
   {
    "duration": 20,
    "start_time": "2022-12-02T15:47:51.497Z"
   },
   {
    "duration": 16,
    "start_time": "2022-12-02T15:47:51.518Z"
   },
   {
    "duration": 7,
    "start_time": "2022-12-02T15:47:51.535Z"
   },
   {
    "duration": 4,
    "start_time": "2022-12-02T15:47:51.544Z"
   },
   {
    "duration": 6,
    "start_time": "2022-12-02T15:47:51.549Z"
   },
   {
    "duration": 5,
    "start_time": "2022-12-02T15:47:51.556Z"
   },
   {
    "duration": 5,
    "start_time": "2022-12-02T15:49:17.559Z"
   },
   {
    "duration": 8,
    "start_time": "2022-12-02T15:50:36.103Z"
   },
   {
    "duration": 64,
    "start_time": "2022-12-02T15:51:52.956Z"
   },
   {
    "duration": 5,
    "start_time": "2022-12-02T15:51:57.476Z"
   },
   {
    "duration": 8,
    "start_time": "2022-12-02T15:52:06.810Z"
   },
   {
    "duration": 5,
    "start_time": "2022-12-02T15:52:43.900Z"
   },
   {
    "duration": 6,
    "start_time": "2022-12-02T15:57:02.352Z"
   },
   {
    "duration": 456,
    "start_time": "2022-12-02T16:08:50.517Z"
   },
   {
    "duration": 37,
    "start_time": "2022-12-02T16:08:50.975Z"
   },
   {
    "duration": 18,
    "start_time": "2022-12-02T16:08:51.014Z"
   },
   {
    "duration": 12,
    "start_time": "2022-12-02T16:08:51.035Z"
   },
   {
    "duration": 61,
    "start_time": "2022-12-02T16:08:51.049Z"
   },
   {
    "duration": 4,
    "start_time": "2022-12-02T16:08:51.112Z"
   },
   {
    "duration": 15,
    "start_time": "2022-12-02T16:08:51.118Z"
   },
   {
    "duration": 5,
    "start_time": "2022-12-02T16:08:51.134Z"
   },
   {
    "duration": 10,
    "start_time": "2022-12-02T16:08:51.141Z"
   },
   {
    "duration": 6,
    "start_time": "2022-12-02T16:08:51.157Z"
   },
   {
    "duration": 57,
    "start_time": "2022-12-02T16:08:51.165Z"
   },
   {
    "duration": 9,
    "start_time": "2022-12-02T16:08:51.224Z"
   },
   {
    "duration": 8,
    "start_time": "2022-12-02T16:08:51.235Z"
   },
   {
    "duration": 16,
    "start_time": "2022-12-02T16:08:51.244Z"
   },
   {
    "duration": 50,
    "start_time": "2022-12-02T16:08:51.262Z"
   },
   {
    "duration": 28,
    "start_time": "2022-12-02T16:08:51.314Z"
   },
   {
    "duration": 5,
    "start_time": "2022-12-02T16:08:51.344Z"
   },
   {
    "duration": 20,
    "start_time": "2022-12-02T16:08:51.352Z"
   },
   {
    "duration": 26,
    "start_time": "2022-12-02T16:08:51.374Z"
   },
   {
    "duration": 7,
    "start_time": "2022-12-02T16:08:51.403Z"
   },
   {
    "duration": 19,
    "start_time": "2022-12-02T16:08:51.413Z"
   },
   {
    "duration": 12,
    "start_time": "2022-12-02T16:08:51.435Z"
   },
   {
    "duration": 6,
    "start_time": "2022-12-02T16:08:51.449Z"
   },
   {
    "duration": 8,
    "start_time": "2022-12-02T16:08:51.457Z"
   },
   {
    "duration": 3,
    "start_time": "2022-12-02T16:08:51.497Z"
   },
   {
    "duration": 11,
    "start_time": "2022-12-02T16:08:51.502Z"
   },
   {
    "duration": 6,
    "start_time": "2022-12-02T16:08:51.515Z"
   },
   {
    "duration": 12,
    "start_time": "2022-12-02T16:18:46.982Z"
   },
   {
    "duration": 69,
    "start_time": "2022-12-02T16:19:18.073Z"
   },
   {
    "duration": 4,
    "start_time": "2022-12-02T16:19:25.641Z"
   },
   {
    "duration": 14,
    "start_time": "2022-12-02T16:19:49.810Z"
   },
   {
    "duration": 8,
    "start_time": "2022-12-02T16:20:28.671Z"
   },
   {
    "duration": 11,
    "start_time": "2022-12-02T16:21:18.870Z"
   },
   {
    "duration": 7,
    "start_time": "2022-12-02T16:24:35.680Z"
   },
   {
    "duration": 11,
    "start_time": "2022-12-02T16:25:07.176Z"
   },
   {
    "duration": 12,
    "start_time": "2022-12-02T16:25:24.707Z"
   },
   {
    "duration": 7,
    "start_time": "2022-12-02T16:29:44.048Z"
   },
   {
    "duration": 18,
    "start_time": "2022-12-02T16:46:21.872Z"
   },
   {
    "duration": 13,
    "start_time": "2022-12-02T16:52:06.114Z"
   },
   {
    "duration": 7,
    "start_time": "2022-12-02T17:13:26.058Z"
   },
   {
    "duration": 12,
    "start_time": "2022-12-02T17:27:56.255Z"
   },
   {
    "duration": 12,
    "start_time": "2022-12-02T17:28:39.383Z"
   },
   {
    "duration": 93,
    "start_time": "2022-12-02T17:29:04.501Z"
   },
   {
    "duration": 9,
    "start_time": "2022-12-02T17:29:26.176Z"
   },
   {
    "duration": 10,
    "start_time": "2022-12-02T17:29:35.424Z"
   },
   {
    "duration": 92,
    "start_time": "2022-12-02T17:43:56.004Z"
   },
   {
    "duration": 11,
    "start_time": "2022-12-02T17:45:06.745Z"
   },
   {
    "duration": 48,
    "start_time": "2022-12-02T17:46:43.790Z"
   },
   {
    "duration": 5,
    "start_time": "2022-12-02T17:48:45.305Z"
   },
   {
    "duration": 4,
    "start_time": "2022-12-02T17:49:21.982Z"
   },
   {
    "duration": 16,
    "start_time": "2022-12-02T17:50:20.279Z"
   },
   {
    "duration": 715,
    "start_time": "2022-12-03T00:26:26.522Z"
   },
   {
    "duration": 22,
    "start_time": "2022-12-03T00:26:27.239Z"
   },
   {
    "duration": 15,
    "start_time": "2022-12-03T00:26:27.263Z"
   },
   {
    "duration": 23,
    "start_time": "2022-12-03T00:26:27.280Z"
   },
   {
    "duration": 40,
    "start_time": "2022-12-03T00:26:27.304Z"
   },
   {
    "duration": 3,
    "start_time": "2022-12-03T00:26:27.346Z"
   },
   {
    "duration": 13,
    "start_time": "2022-12-03T00:26:27.350Z"
   },
   {
    "duration": 4,
    "start_time": "2022-12-03T00:26:27.365Z"
   },
   {
    "duration": 15,
    "start_time": "2022-12-03T00:26:27.370Z"
   },
   {
    "duration": 8,
    "start_time": "2022-12-03T00:26:27.387Z"
   },
   {
    "duration": 39,
    "start_time": "2022-12-03T00:26:27.397Z"
   },
   {
    "duration": 10,
    "start_time": "2022-12-03T00:26:27.437Z"
   },
   {
    "duration": 9,
    "start_time": "2022-12-03T00:26:27.448Z"
   },
   {
    "duration": 14,
    "start_time": "2022-12-03T00:26:27.458Z"
   },
   {
    "duration": 18,
    "start_time": "2022-12-03T00:26:27.474Z"
   },
   {
    "duration": 34,
    "start_time": "2022-12-03T00:26:27.493Z"
   },
   {
    "duration": 3,
    "start_time": "2022-12-03T00:26:27.529Z"
   },
   {
    "duration": 14,
    "start_time": "2022-12-03T00:26:27.533Z"
   },
   {
    "duration": 6,
    "start_time": "2022-12-03T00:26:27.549Z"
   },
   {
    "duration": 6,
    "start_time": "2022-12-03T00:26:27.557Z"
   },
   {
    "duration": 23,
    "start_time": "2022-12-03T00:26:27.564Z"
   },
   {
    "duration": 30,
    "start_time": "2022-12-03T00:26:27.589Z"
   },
   {
    "duration": 6,
    "start_time": "2022-12-03T00:26:27.621Z"
   },
   {
    "duration": 8,
    "start_time": "2022-12-03T00:26:27.629Z"
   },
   {
    "duration": 17,
    "start_time": "2022-12-03T00:26:27.639Z"
   },
   {
    "duration": 47,
    "start_time": "2022-12-03T00:26:27.657Z"
   },
   {
    "duration": 0,
    "start_time": "2022-12-03T00:26:27.706Z"
   },
   {
    "duration": 0,
    "start_time": "2022-12-03T00:26:27.708Z"
   },
   {
    "duration": 0,
    "start_time": "2022-12-03T00:26:27.709Z"
   },
   {
    "duration": 0,
    "start_time": "2022-12-03T00:26:27.710Z"
   },
   {
    "duration": 0,
    "start_time": "2022-12-03T00:26:27.711Z"
   },
   {
    "duration": 0,
    "start_time": "2022-12-03T00:26:27.713Z"
   },
   {
    "duration": 0,
    "start_time": "2022-12-03T00:26:27.714Z"
   },
   {
    "duration": 0,
    "start_time": "2022-12-03T00:26:27.715Z"
   },
   {
    "duration": 0,
    "start_time": "2022-12-03T00:26:27.716Z"
   },
   {
    "duration": 0,
    "start_time": "2022-12-03T00:26:27.717Z"
   },
   {
    "duration": 7,
    "start_time": "2022-12-03T00:27:10.644Z"
   },
   {
    "duration": 10,
    "start_time": "2022-12-03T00:27:15.039Z"
   },
   {
    "duration": 7,
    "start_time": "2022-12-03T00:27:18.387Z"
   },
   {
    "duration": 12,
    "start_time": "2022-12-03T00:27:22.547Z"
   },
   {
    "duration": 8,
    "start_time": "2022-12-03T00:27:25.726Z"
   },
   {
    "duration": 85,
    "start_time": "2022-12-03T00:27:29.966Z"
   },
   {
    "duration": 10,
    "start_time": "2022-12-03T00:27:36.983Z"
   },
   {
    "duration": 5,
    "start_time": "2022-12-03T00:27:43.570Z"
   },
   {
    "duration": 14,
    "start_time": "2022-12-03T00:27:44.233Z"
   },
   {
    "duration": 4,
    "start_time": "2022-12-03T00:29:24.284Z"
   },
   {
    "duration": 58,
    "start_time": "2022-12-03T00:29:38.668Z"
   },
   {
    "duration": 8,
    "start_time": "2022-12-03T00:29:47.968Z"
   },
   {
    "duration": 7,
    "start_time": "2022-12-03T00:30:14.276Z"
   },
   {
    "duration": 4,
    "start_time": "2022-12-03T00:30:24.821Z"
   },
   {
    "duration": 12,
    "start_time": "2022-12-03T00:32:29.773Z"
   },
   {
    "duration": 13,
    "start_time": "2022-12-03T00:33:00.201Z"
   },
   {
    "duration": 4,
    "start_time": "2022-12-03T00:34:14.384Z"
   },
   {
    "duration": 552,
    "start_time": "2022-12-03T08:16:10.176Z"
   },
   {
    "duration": 24,
    "start_time": "2022-12-03T08:16:10.730Z"
   },
   {
    "duration": 16,
    "start_time": "2022-12-03T08:16:10.756Z"
   },
   {
    "duration": 11,
    "start_time": "2022-12-03T08:16:10.773Z"
   },
   {
    "duration": 65,
    "start_time": "2022-12-03T08:16:10.786Z"
   },
   {
    "duration": 3,
    "start_time": "2022-12-03T08:16:10.853Z"
   },
   {
    "duration": 13,
    "start_time": "2022-12-03T08:16:10.858Z"
   },
   {
    "duration": 4,
    "start_time": "2022-12-03T08:16:10.873Z"
   },
   {
    "duration": 9,
    "start_time": "2022-12-03T08:16:10.879Z"
   },
   {
    "duration": 6,
    "start_time": "2022-12-03T08:16:10.889Z"
   },
   {
    "duration": 66,
    "start_time": "2022-12-03T08:16:10.897Z"
   },
   {
    "duration": 13,
    "start_time": "2022-12-03T08:16:10.965Z"
   },
   {
    "duration": 4,
    "start_time": "2022-12-03T08:16:10.980Z"
   },
   {
    "duration": 12,
    "start_time": "2022-12-03T08:16:10.988Z"
   },
   {
    "duration": 50,
    "start_time": "2022-12-03T08:16:11.002Z"
   },
   {
    "duration": 18,
    "start_time": "2022-12-03T08:16:11.053Z"
   },
   {
    "duration": 4,
    "start_time": "2022-12-03T08:16:11.072Z"
   },
   {
    "duration": 13,
    "start_time": "2022-12-03T08:16:11.078Z"
   },
   {
    "duration": 9,
    "start_time": "2022-12-03T08:16:11.093Z"
   },
   {
    "duration": 5,
    "start_time": "2022-12-03T08:16:11.103Z"
   },
   {
    "duration": 13,
    "start_time": "2022-12-03T08:16:11.110Z"
   },
   {
    "duration": 34,
    "start_time": "2022-12-03T08:16:11.124Z"
   },
   {
    "duration": 8,
    "start_time": "2022-12-03T08:16:11.160Z"
   },
   {
    "duration": 5,
    "start_time": "2022-12-03T08:16:11.171Z"
   },
   {
    "duration": 19,
    "start_time": "2022-12-03T08:16:11.178Z"
   },
   {
    "duration": 6,
    "start_time": "2022-12-03T08:16:11.199Z"
   },
   {
    "duration": 76,
    "start_time": "2022-12-03T08:16:11.207Z"
   },
   {
    "duration": 0,
    "start_time": "2022-12-03T08:16:11.284Z"
   },
   {
    "duration": 0,
    "start_time": "2022-12-03T08:16:11.286Z"
   },
   {
    "duration": 0,
    "start_time": "2022-12-03T08:16:11.287Z"
   },
   {
    "duration": 0,
    "start_time": "2022-12-03T08:16:11.288Z"
   },
   {
    "duration": 0,
    "start_time": "2022-12-03T08:16:11.289Z"
   },
   {
    "duration": 0,
    "start_time": "2022-12-03T08:16:11.290Z"
   },
   {
    "duration": 0,
    "start_time": "2022-12-03T08:16:11.292Z"
   },
   {
    "duration": 503,
    "start_time": "2022-12-03T08:16:56.432Z"
   },
   {
    "duration": 32,
    "start_time": "2022-12-03T08:16:56.938Z"
   },
   {
    "duration": 24,
    "start_time": "2022-12-03T08:16:56.972Z"
   },
   {
    "duration": 16,
    "start_time": "2022-12-03T08:16:57.000Z"
   },
   {
    "duration": 76,
    "start_time": "2022-12-03T08:16:57.019Z"
   },
   {
    "duration": 5,
    "start_time": "2022-12-03T08:16:57.097Z"
   },
   {
    "duration": 18,
    "start_time": "2022-12-03T08:16:57.104Z"
   },
   {
    "duration": 6,
    "start_time": "2022-12-03T08:16:57.124Z"
   },
   {
    "duration": 10,
    "start_time": "2022-12-03T08:16:57.152Z"
   },
   {
    "duration": 8,
    "start_time": "2022-12-03T08:16:57.168Z"
   },
   {
    "duration": 77,
    "start_time": "2022-12-03T08:16:57.177Z"
   },
   {
    "duration": 17,
    "start_time": "2022-12-03T08:16:57.256Z"
   },
   {
    "duration": 9,
    "start_time": "2022-12-03T08:16:57.275Z"
   },
   {
    "duration": 36,
    "start_time": "2022-12-03T08:16:57.286Z"
   },
   {
    "duration": 32,
    "start_time": "2022-12-03T08:16:57.325Z"
   },
   {
    "duration": 18,
    "start_time": "2022-12-03T08:16:57.359Z"
   },
   {
    "duration": 4,
    "start_time": "2022-12-03T08:16:57.379Z"
   },
   {
    "duration": 20,
    "start_time": "2022-12-03T08:16:57.384Z"
   },
   {
    "duration": 15,
    "start_time": "2022-12-03T08:16:57.406Z"
   },
   {
    "duration": 6,
    "start_time": "2022-12-03T08:16:57.423Z"
   },
   {
    "duration": 14,
    "start_time": "2022-12-03T08:16:57.452Z"
   },
   {
    "duration": 10,
    "start_time": "2022-12-03T08:16:57.469Z"
   },
   {
    "duration": 8,
    "start_time": "2022-12-03T08:16:57.481Z"
   },
   {
    "duration": 18,
    "start_time": "2022-12-03T08:16:57.491Z"
   },
   {
    "duration": 24,
    "start_time": "2022-12-03T08:16:57.511Z"
   },
   {
    "duration": 32,
    "start_time": "2022-12-03T08:16:57.537Z"
   },
   {
    "duration": 15,
    "start_time": "2022-12-03T08:16:57.571Z"
   },
   {
    "duration": 9,
    "start_time": "2022-12-03T08:16:57.589Z"
   },
   {
    "duration": 27,
    "start_time": "2022-12-03T08:16:57.600Z"
   },
   {
    "duration": 8,
    "start_time": "2022-12-03T08:16:57.629Z"
   },
   {
    "duration": 108,
    "start_time": "2022-12-03T08:16:57.638Z"
   },
   {
    "duration": 13,
    "start_time": "2022-12-03T08:16:57.748Z"
   },
   {
    "duration": 20,
    "start_time": "2022-12-03T08:16:57.763Z"
   },
   {
    "duration": 527,
    "start_time": "2022-12-03T17:05:11.282Z"
   },
   {
    "duration": 22,
    "start_time": "2022-12-03T17:05:11.813Z"
   },
   {
    "duration": 17,
    "start_time": "2022-12-03T17:05:11.838Z"
   },
   {
    "duration": 11,
    "start_time": "2022-12-03T17:05:11.857Z"
   },
   {
    "duration": 65,
    "start_time": "2022-12-03T17:05:11.870Z"
   },
   {
    "duration": 4,
    "start_time": "2022-12-03T17:05:11.937Z"
   },
   {
    "duration": 19,
    "start_time": "2022-12-03T17:05:11.942Z"
   },
   {
    "duration": 5,
    "start_time": "2022-12-03T17:05:11.963Z"
   },
   {
    "duration": 9,
    "start_time": "2022-12-03T17:05:11.970Z"
   },
   {
    "duration": 5,
    "start_time": "2022-12-03T17:05:11.981Z"
   },
   {
    "duration": 57,
    "start_time": "2022-12-03T17:05:11.988Z"
   },
   {
    "duration": 9,
    "start_time": "2022-12-03T17:05:12.047Z"
   },
   {
    "duration": 6,
    "start_time": "2022-12-03T17:05:12.057Z"
   },
   {
    "duration": 14,
    "start_time": "2022-12-03T17:05:12.065Z"
   },
   {
    "duration": 21,
    "start_time": "2022-12-03T17:05:12.080Z"
   },
   {
    "duration": 36,
    "start_time": "2022-12-03T17:05:12.102Z"
   },
   {
    "duration": 4,
    "start_time": "2022-12-03T17:05:12.139Z"
   },
   {
    "duration": 13,
    "start_time": "2022-12-03T17:05:12.144Z"
   },
   {
    "duration": 12,
    "start_time": "2022-12-03T17:05:12.159Z"
   },
   {
    "duration": 6,
    "start_time": "2022-12-03T17:05:12.173Z"
   },
   {
    "duration": 14,
    "start_time": "2022-12-03T17:05:12.181Z"
   },
   {
    "duration": 26,
    "start_time": "2022-12-03T17:05:12.197Z"
   },
   {
    "duration": 6,
    "start_time": "2022-12-03T17:05:12.224Z"
   },
   {
    "duration": 6,
    "start_time": "2022-12-03T17:05:12.232Z"
   },
   {
    "duration": 14,
    "start_time": "2022-12-03T17:05:12.239Z"
   },
   {
    "duration": 6,
    "start_time": "2022-12-03T17:05:12.255Z"
   },
   {
    "duration": 12,
    "start_time": "2022-12-03T17:05:12.263Z"
   },
   {
    "duration": 7,
    "start_time": "2022-12-03T17:05:12.276Z"
   },
   {
    "duration": 48,
    "start_time": "2022-12-03T17:05:12.284Z"
   },
   {
    "duration": 20,
    "start_time": "2022-12-03T17:05:12.334Z"
   },
   {
    "duration": 66,
    "start_time": "2022-12-03T17:05:12.356Z"
   },
   {
    "duration": 11,
    "start_time": "2022-12-03T17:05:12.424Z"
   },
   {
    "duration": 22,
    "start_time": "2022-12-03T17:05:12.436Z"
   },
   {
    "duration": 46,
    "start_time": "2022-12-04T12:06:47.023Z"
   },
   {
    "duration": 58,
    "start_time": "2022-12-04T12:07:21.418Z"
   },
   {
    "duration": 46,
    "start_time": "2022-12-04T12:07:25.366Z"
   },
   {
    "duration": 43,
    "start_time": "2022-12-04T12:07:32.210Z"
   },
   {
    "duration": 704,
    "start_time": "2022-12-04T12:09:44.631Z"
   },
   {
    "duration": 26,
    "start_time": "2022-12-04T12:09:45.337Z"
   },
   {
    "duration": 14,
    "start_time": "2022-12-04T12:09:45.365Z"
   },
   {
    "duration": 11,
    "start_time": "2022-12-04T12:09:45.381Z"
   },
   {
    "duration": 33,
    "start_time": "2022-12-04T12:09:45.394Z"
   },
   {
    "duration": 4,
    "start_time": "2022-12-04T12:09:45.429Z"
   },
   {
    "duration": 13,
    "start_time": "2022-12-04T12:09:45.434Z"
   },
   {
    "duration": 4,
    "start_time": "2022-12-04T12:09:45.448Z"
   },
   {
    "duration": 8,
    "start_time": "2022-12-04T12:09:45.477Z"
   },
   {
    "duration": 5,
    "start_time": "2022-12-04T12:09:45.487Z"
   },
   {
    "duration": 35,
    "start_time": "2022-12-04T12:09:45.493Z"
   },
   {
    "duration": 10,
    "start_time": "2022-12-04T12:09:45.530Z"
   },
   {
    "duration": 16,
    "start_time": "2022-12-04T12:09:45.542Z"
   },
   {
    "duration": 22,
    "start_time": "2022-12-04T12:09:45.576Z"
   },
   {
    "duration": 21,
    "start_time": "2022-12-04T12:09:45.600Z"
   },
   {
    "duration": 16,
    "start_time": "2022-12-04T12:09:45.622Z"
   },
   {
    "duration": 4,
    "start_time": "2022-12-04T12:09:45.640Z"
   },
   {
    "duration": 33,
    "start_time": "2022-12-04T12:09:45.645Z"
   },
   {
    "duration": 16,
    "start_time": "2022-12-04T12:09:45.680Z"
   },
   {
    "duration": 4,
    "start_time": "2022-12-04T12:09:45.697Z"
   },
   {
    "duration": 17,
    "start_time": "2022-12-04T12:09:45.702Z"
   },
   {
    "duration": 8,
    "start_time": "2022-12-04T12:09:45.720Z"
   },
   {
    "duration": 55,
    "start_time": "2022-12-04T12:09:45.729Z"
   },
   {
    "duration": 0,
    "start_time": "2022-12-04T12:09:45.787Z"
   },
   {
    "duration": 0,
    "start_time": "2022-12-04T12:09:45.789Z"
   },
   {
    "duration": 0,
    "start_time": "2022-12-04T12:09:45.790Z"
   },
   {
    "duration": 0,
    "start_time": "2022-12-04T12:09:45.792Z"
   },
   {
    "duration": 0,
    "start_time": "2022-12-04T12:09:45.793Z"
   },
   {
    "duration": 0,
    "start_time": "2022-12-04T12:09:45.794Z"
   },
   {
    "duration": 0,
    "start_time": "2022-12-04T12:09:45.796Z"
   },
   {
    "duration": 0,
    "start_time": "2022-12-04T12:09:45.797Z"
   },
   {
    "duration": 0,
    "start_time": "2022-12-04T12:09:45.798Z"
   },
   {
    "duration": 0,
    "start_time": "2022-12-04T12:09:45.800Z"
   },
   {
    "duration": 0,
    "start_time": "2022-12-04T12:09:45.800Z"
   },
   {
    "duration": 52,
    "start_time": "2022-12-04T12:10:28.700Z"
   },
   {
    "duration": 55,
    "start_time": "2022-12-04T12:11:08.850Z"
   },
   {
    "duration": 47,
    "start_time": "2022-12-04T12:13:01.517Z"
   },
   {
    "duration": 47,
    "start_time": "2022-12-04T12:13:44.315Z"
   },
   {
    "duration": 62,
    "start_time": "2022-12-04T12:14:17.080Z"
   },
   {
    "duration": 71,
    "start_time": "2022-12-04T12:15:49.604Z"
   },
   {
    "duration": 60,
    "start_time": "2022-12-04T12:42:09.853Z"
   },
   {
    "duration": 50,
    "start_time": "2022-12-04T12:42:16.800Z"
   },
   {
    "duration": 43,
    "start_time": "2022-12-04T12:46:40.792Z"
   },
   {
    "duration": 50,
    "start_time": "2022-12-04T12:46:57.868Z"
   },
   {
    "duration": 49,
    "start_time": "2022-12-04T12:47:04.580Z"
   },
   {
    "duration": 10,
    "start_time": "2022-12-04T12:47:12.721Z"
   },
   {
    "duration": 10,
    "start_time": "2022-12-04T12:47:23.064Z"
   },
   {
    "duration": 11,
    "start_time": "2022-12-04T12:47:29.567Z"
   },
   {
    "duration": 76,
    "start_time": "2022-12-04T12:54:20.523Z"
   },
   {
    "duration": 12,
    "start_time": "2022-12-04T12:54:41.521Z"
   },
   {
    "duration": 11,
    "start_time": "2022-12-04T13:02:07.366Z"
   },
   {
    "duration": 16,
    "start_time": "2022-12-04T13:02:21.688Z"
   },
   {
    "duration": 41,
    "start_time": "2022-12-04T13:03:18.288Z"
   },
   {
    "duration": 11,
    "start_time": "2022-12-04T13:03:27.591Z"
   },
   {
    "duration": 10,
    "start_time": "2022-12-04T13:03:57.778Z"
   },
   {
    "duration": 8,
    "start_time": "2022-12-04T13:25:24.938Z"
   },
   {
    "duration": 77,
    "start_time": "2022-12-04T13:25:29.127Z"
   },
   {
    "duration": 14,
    "start_time": "2022-12-04T13:25:31.116Z"
   },
   {
    "duration": 5,
    "start_time": "2022-12-04T13:25:34.298Z"
   },
   {
    "duration": 4,
    "start_time": "2022-12-04T13:29:50.998Z"
   },
   {
    "duration": 5,
    "start_time": "2022-12-04T13:30:01.472Z"
   },
   {
    "duration": 5,
    "start_time": "2022-12-04T13:31:57.781Z"
   },
   {
    "duration": 21,
    "start_time": "2022-12-04T13:51:03.668Z"
   },
   {
    "duration": 12,
    "start_time": "2022-12-04T13:51:33.005Z"
   },
   {
    "duration": 10,
    "start_time": "2022-12-04T13:56:52.837Z"
   },
   {
    "duration": 722,
    "start_time": "2022-12-04T14:11:51.432Z"
   },
   {
    "duration": 4,
    "start_time": "2022-12-04T14:12:06.371Z"
   },
   {
    "duration": 4,
    "start_time": "2022-12-04T14:12:58.433Z"
   },
   {
    "duration": 4,
    "start_time": "2022-12-04T14:13:20.681Z"
   },
   {
    "duration": 13,
    "start_time": "2022-12-04T15:16:17.114Z"
   },
   {
    "duration": 12,
    "start_time": "2022-12-04T15:20:08.777Z"
   },
   {
    "duration": 41,
    "start_time": "2022-12-04T15:20:18.486Z"
   },
   {
    "duration": 13,
    "start_time": "2022-12-04T15:20:25.605Z"
   },
   {
    "duration": 10,
    "start_time": "2022-12-04T15:20:39.218Z"
   },
   {
    "duration": 9,
    "start_time": "2022-12-04T15:21:00.045Z"
   },
   {
    "duration": 15,
    "start_time": "2022-12-04T15:21:15.295Z"
   },
   {
    "duration": 14,
    "start_time": "2022-12-04T15:21:45.734Z"
   },
   {
    "duration": 12,
    "start_time": "2022-12-04T15:22:00.665Z"
   },
   {
    "duration": 8,
    "start_time": "2022-12-04T15:22:02.672Z"
   },
   {
    "duration": 14,
    "start_time": "2022-12-04T15:22:07.999Z"
   },
   {
    "duration": 7,
    "start_time": "2022-12-04T15:23:01.393Z"
   },
   {
    "duration": 6,
    "start_time": "2022-12-04T15:23:46.980Z"
   },
   {
    "duration": 8,
    "start_time": "2022-12-04T15:23:56.177Z"
   },
   {
    "duration": 10,
    "start_time": "2022-12-04T15:24:15.171Z"
   },
   {
    "duration": 8,
    "start_time": "2022-12-04T15:24:30.582Z"
   },
   {
    "duration": 8,
    "start_time": "2022-12-04T15:24:42.365Z"
   },
   {
    "duration": 432,
    "start_time": "2022-12-04T15:24:50.437Z"
   },
   {
    "duration": 23,
    "start_time": "2022-12-04T15:24:50.871Z"
   },
   {
    "duration": 29,
    "start_time": "2022-12-04T15:24:50.895Z"
   },
   {
    "duration": 13,
    "start_time": "2022-12-04T15:24:50.926Z"
   },
   {
    "duration": 46,
    "start_time": "2022-12-04T15:24:50.941Z"
   },
   {
    "duration": 3,
    "start_time": "2022-12-04T15:24:50.989Z"
   },
   {
    "duration": 21,
    "start_time": "2022-12-04T15:24:50.993Z"
   },
   {
    "duration": 21,
    "start_time": "2022-12-04T15:24:51.015Z"
   },
   {
    "duration": 9,
    "start_time": "2022-12-04T15:24:51.038Z"
   },
   {
    "duration": 17,
    "start_time": "2022-12-04T15:24:51.048Z"
   },
   {
    "duration": 41,
    "start_time": "2022-12-04T15:24:51.067Z"
   },
   {
    "duration": 9,
    "start_time": "2022-12-04T15:24:51.110Z"
   },
   {
    "duration": 7,
    "start_time": "2022-12-04T15:24:51.120Z"
   },
   {
    "duration": 32,
    "start_time": "2022-12-04T15:24:51.129Z"
   },
   {
    "duration": 43,
    "start_time": "2022-12-04T15:24:51.162Z"
   },
   {
    "duration": 16,
    "start_time": "2022-12-04T15:24:51.206Z"
   },
   {
    "duration": 4,
    "start_time": "2022-12-04T15:24:51.223Z"
   },
   {
    "duration": 13,
    "start_time": "2022-12-04T15:24:51.228Z"
   },
   {
    "duration": 5,
    "start_time": "2022-12-04T15:24:51.243Z"
   },
   {
    "duration": 8,
    "start_time": "2022-12-04T15:24:51.249Z"
   },
   {
    "duration": 13,
    "start_time": "2022-12-04T15:24:51.259Z"
   },
   {
    "duration": 11,
    "start_time": "2022-12-04T15:24:51.273Z"
   },
   {
    "duration": 9,
    "start_time": "2022-12-04T15:24:51.285Z"
   },
   {
    "duration": 60,
    "start_time": "2022-12-04T15:24:51.296Z"
   },
   {
    "duration": 0,
    "start_time": "2022-12-04T15:24:51.358Z"
   },
   {
    "duration": 0,
    "start_time": "2022-12-04T15:24:51.376Z"
   },
   {
    "duration": 0,
    "start_time": "2022-12-04T15:24:51.377Z"
   },
   {
    "duration": 0,
    "start_time": "2022-12-04T15:24:51.379Z"
   },
   {
    "duration": 0,
    "start_time": "2022-12-04T15:24:51.380Z"
   },
   {
    "duration": 0,
    "start_time": "2022-12-04T15:24:51.381Z"
   },
   {
    "duration": 0,
    "start_time": "2022-12-04T15:24:51.383Z"
   },
   {
    "duration": 0,
    "start_time": "2022-12-04T15:24:51.384Z"
   },
   {
    "duration": 0,
    "start_time": "2022-12-04T15:24:51.385Z"
   },
   {
    "duration": 6,
    "start_time": "2022-12-04T15:25:18.415Z"
   },
   {
    "duration": 431,
    "start_time": "2022-12-04T15:25:29.833Z"
   },
   {
    "duration": 22,
    "start_time": "2022-12-04T15:25:30.266Z"
   },
   {
    "duration": 35,
    "start_time": "2022-12-04T15:25:30.289Z"
   },
   {
    "duration": 9,
    "start_time": "2022-12-04T15:25:30.327Z"
   },
   {
    "duration": 58,
    "start_time": "2022-12-04T15:25:30.337Z"
   },
   {
    "duration": 3,
    "start_time": "2022-12-04T15:25:30.396Z"
   },
   {
    "duration": 31,
    "start_time": "2022-12-04T15:25:30.401Z"
   },
   {
    "duration": 25,
    "start_time": "2022-12-04T15:25:30.434Z"
   },
   {
    "duration": 18,
    "start_time": "2022-12-04T15:25:30.461Z"
   },
   {
    "duration": 9,
    "start_time": "2022-12-04T15:25:30.482Z"
   },
   {
    "duration": 52,
    "start_time": "2022-12-04T15:25:30.492Z"
   },
   {
    "duration": 10,
    "start_time": "2022-12-04T15:25:30.545Z"
   },
   {
    "duration": 13,
    "start_time": "2022-12-04T15:25:30.556Z"
   },
   {
    "duration": 32,
    "start_time": "2022-12-04T15:25:30.571Z"
   },
   {
    "duration": 38,
    "start_time": "2022-12-04T15:25:30.605Z"
   },
   {
    "duration": 17,
    "start_time": "2022-12-04T15:25:30.645Z"
   },
   {
    "duration": 24,
    "start_time": "2022-12-04T15:25:30.663Z"
   },
   {
    "duration": 35,
    "start_time": "2022-12-04T15:25:30.689Z"
   },
   {
    "duration": 33,
    "start_time": "2022-12-04T15:25:30.725Z"
   },
   {
    "duration": 18,
    "start_time": "2022-12-04T15:25:30.759Z"
   },
   {
    "duration": 28,
    "start_time": "2022-12-04T15:25:30.778Z"
   },
   {
    "duration": 28,
    "start_time": "2022-12-04T15:25:30.808Z"
   },
   {
    "duration": 44,
    "start_time": "2022-12-04T15:25:30.837Z"
   },
   {
    "duration": 69,
    "start_time": "2022-12-04T15:25:30.882Z"
   },
   {
    "duration": 0,
    "start_time": "2022-12-04T15:25:30.953Z"
   },
   {
    "duration": 0,
    "start_time": "2022-12-04T15:25:30.954Z"
   },
   {
    "duration": 0,
    "start_time": "2022-12-04T15:25:30.955Z"
   },
   {
    "duration": 0,
    "start_time": "2022-12-04T15:25:30.956Z"
   },
   {
    "duration": 0,
    "start_time": "2022-12-04T15:25:30.956Z"
   },
   {
    "duration": 0,
    "start_time": "2022-12-04T15:25:30.958Z"
   },
   {
    "duration": 0,
    "start_time": "2022-12-04T15:25:30.958Z"
   },
   {
    "duration": 0,
    "start_time": "2022-12-04T15:25:30.959Z"
   },
   {
    "duration": 0,
    "start_time": "2022-12-04T15:25:30.960Z"
   },
   {
    "duration": 67,
    "start_time": "2022-12-04T15:32:52.159Z"
   },
   {
    "duration": 7,
    "start_time": "2022-12-04T15:33:06.724Z"
   },
   {
    "duration": 8,
    "start_time": "2022-12-04T15:33:14.244Z"
   },
   {
    "duration": 11,
    "start_time": "2022-12-04T15:35:07.322Z"
   },
   {
    "duration": 7,
    "start_time": "2022-12-04T15:35:10.940Z"
   },
   {
    "duration": 7,
    "start_time": "2022-12-04T15:35:15.196Z"
   },
   {
    "duration": 7,
    "start_time": "2022-12-04T15:35:16.497Z"
   },
   {
    "duration": 11,
    "start_time": "2022-12-04T15:35:19.247Z"
   },
   {
    "duration": 7,
    "start_time": "2022-12-04T15:35:21.157Z"
   },
   {
    "duration": 17,
    "start_time": "2022-12-04T15:56:11.968Z"
   },
   {
    "duration": 10,
    "start_time": "2022-12-04T15:56:23.767Z"
   },
   {
    "duration": 9,
    "start_time": "2022-12-04T15:57:50.009Z"
   },
   {
    "duration": 481,
    "start_time": "2022-12-04T19:04:41.169Z"
   },
   {
    "duration": 20,
    "start_time": "2022-12-04T19:04:41.652Z"
   },
   {
    "duration": 12,
    "start_time": "2022-12-04T19:04:41.673Z"
   },
   {
    "duration": 16,
    "start_time": "2022-12-04T19:04:41.686Z"
   },
   {
    "duration": 34,
    "start_time": "2022-12-04T19:04:41.704Z"
   },
   {
    "duration": 3,
    "start_time": "2022-12-04T19:04:41.740Z"
   },
   {
    "duration": 13,
    "start_time": "2022-12-04T19:04:41.744Z"
   },
   {
    "duration": 4,
    "start_time": "2022-12-04T19:04:41.758Z"
   },
   {
    "duration": 16,
    "start_time": "2022-12-04T19:04:41.764Z"
   },
   {
    "duration": 6,
    "start_time": "2022-12-04T19:04:41.781Z"
   },
   {
    "duration": 35,
    "start_time": "2022-12-04T19:04:41.788Z"
   },
   {
    "duration": 9,
    "start_time": "2022-12-04T19:04:41.825Z"
   },
   {
    "duration": 7,
    "start_time": "2022-12-04T19:04:41.835Z"
   },
   {
    "duration": 12,
    "start_time": "2022-12-04T19:04:41.844Z"
   },
   {
    "duration": 34,
    "start_time": "2022-12-04T19:04:41.858Z"
   },
   {
    "duration": 16,
    "start_time": "2022-12-04T19:04:41.893Z"
   },
   {
    "duration": 4,
    "start_time": "2022-12-04T19:04:41.910Z"
   },
   {
    "duration": 15,
    "start_time": "2022-12-04T19:04:41.916Z"
   },
   {
    "duration": 9,
    "start_time": "2022-12-04T19:04:41.933Z"
   },
   {
    "duration": 7,
    "start_time": "2022-12-04T19:04:41.944Z"
   },
   {
    "duration": 28,
    "start_time": "2022-12-04T19:04:41.952Z"
   },
   {
    "duration": 17,
    "start_time": "2022-12-04T19:04:41.981Z"
   },
   {
    "duration": 8,
    "start_time": "2022-12-04T19:04:41.999Z"
   },
   {
    "duration": 9,
    "start_time": "2022-12-04T19:04:42.009Z"
   },
   {
    "duration": 11,
    "start_time": "2022-12-04T19:04:42.019Z"
   },
   {
    "duration": 5,
    "start_time": "2022-12-04T19:04:42.032Z"
   },
   {
    "duration": 11,
    "start_time": "2022-12-04T19:04:42.039Z"
   },
   {
    "duration": 8,
    "start_time": "2022-12-04T19:04:42.076Z"
   },
   {
    "duration": 14,
    "start_time": "2022-12-04T19:04:42.085Z"
   },
   {
    "duration": 14,
    "start_time": "2022-12-04T19:04:42.100Z"
   },
   {
    "duration": 68,
    "start_time": "2022-12-04T19:04:42.116Z"
   },
   {
    "duration": 10,
    "start_time": "2022-12-04T19:04:42.185Z"
   },
   {
    "duration": 8,
    "start_time": "2022-12-04T19:04:42.197Z"
   },
   {
    "duration": 13,
    "start_time": "2022-12-04T22:19:00.508Z"
   },
   {
    "duration": 82,
    "start_time": "2022-12-04T22:21:15.787Z"
   },
   {
    "duration": 81,
    "start_time": "2022-12-04T22:22:19.101Z"
   },
   {
    "duration": 79,
    "start_time": "2022-12-04T22:22:25.439Z"
   },
   {
    "duration": 75,
    "start_time": "2022-12-04T22:23:13.366Z"
   },
   {
    "duration": 85,
    "start_time": "2022-12-04T22:23:33.284Z"
   },
   {
    "duration": 80,
    "start_time": "2022-12-04T22:24:25.669Z"
   },
   {
    "duration": 81,
    "start_time": "2022-12-04T22:24:57.878Z"
   },
   {
    "duration": 5,
    "start_time": "2022-12-04T22:35:54.550Z"
   },
   {
    "duration": 4,
    "start_time": "2022-12-04T22:36:00.687Z"
   },
   {
    "duration": 4,
    "start_time": "2022-12-04T22:36:23.592Z"
   },
   {
    "duration": 5,
    "start_time": "2022-12-04T22:36:45.626Z"
   },
   {
    "duration": 12,
    "start_time": "2022-12-04T22:36:58.831Z"
   }
  ],
  "colab": {
   "name": "dpp_template_part2.ipynb",
   "provenance": []
  },
  "kernelspec": {
   "display_name": "Python 3 (ipykernel)",
   "language": "python",
   "name": "python3"
  },
  "language_info": {
   "codemirror_mode": {
    "name": "ipython",
    "version": 3
   },
   "file_extension": ".py",
   "mimetype": "text/x-python",
   "name": "python",
   "nbconvert_exporter": "python",
   "pygments_lexer": "ipython3",
   "version": "3.10.8"
  },
  "toc": {
   "base_numbering": 1,
   "nav_menu": {},
   "number_sections": true,
   "sideBar": true,
   "skip_h1_title": true,
   "title_cell": "Table of Contents",
   "title_sidebar": "Contents",
   "toc_cell": false,
   "toc_position": {},
   "toc_section_display": true,
   "toc_window_display": true
  }
 },
 "nbformat": 4,
 "nbformat_minor": 5
}
